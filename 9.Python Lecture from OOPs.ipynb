{
 "cells": [
  {
   "cell_type": "markdown",
   "id": "e63e1a8e-fd60-4dbe-8aa8-9d24f359fb0d",
   "metadata": {},
   "source": [
    "# OOPS"
   ]
  },
  {
   "cell_type": "raw",
   "id": "c19d05ef-f6fa-4ef7-a688-e470b672882c",
   "metadata": {},
   "source": [
    "\"OOps\" - Objefct - Oriented Programming system "
   ]
  },
  {
   "cell_type": "raw",
   "id": "2677c3e4-94a8-42c1-adfb-973a3f992c9c",
   "metadata": {},
   "source": [
    "Class - Blueprint / Overall defining the object inside th python => Cassification of real world entity"
   ]
  },
  {
   "cell_type": "raw",
   "id": "2e0d5e1f-7360-40a9-a76d-4c1b520a2463",
   "metadata": {},
   "source": [
    "Class is defined for classification where Object used to define the real world entity/Instance/variable"
   ]
  },
  {
   "cell_type": "code",
   "execution_count": 2,
   "id": "db26d6bf-0004-4d74-89e8-fbee3cf206f1",
   "metadata": {},
   "outputs": [],
   "source": [
    "#3 How to creat class : - "
   ]
  },
  {
   "cell_type": "code",
   "execution_count": 4,
   "id": "b01764eb-cb49-4f1f-ac67-0ce3763e9918",
   "metadata": {},
   "outputs": [
    {
     "ename": "SyntaxError",
     "evalue": "incomplete input (625349465.py, line 1)",
     "output_type": "error",
     "traceback": [
      "\u001b[0;36m  Cell \u001b[0;32mIn[4], line 1\u001b[0;36m\u001b[0m\n\u001b[0;31m    class test :\u001b[0m\n\u001b[0m                ^\u001b[0m\n\u001b[0;31mSyntaxError\u001b[0m\u001b[0;31m:\u001b[0m incomplete input\n"
     ]
    }
   ],
   "source": [
    "class test :"
   ]
  },
  {
   "cell_type": "code",
   "execution_count": 5,
   "id": "478ef6b5-f2d5-4d89-a5cd-d51463737dcd",
   "metadata": {},
   "outputs": [],
   "source": [
    "class test : \n",
    "    pass\n"
   ]
  },
  {
   "cell_type": "code",
   "execution_count": 7,
   "id": "6c7972f6-6d3a-420b-8b30-963347af2d6c",
   "metadata": {},
   "outputs": [],
   "source": [
    "# class use to be created for running code inside a structured module , which help to increase code reusability "
   ]
  },
  {
   "cell_type": "code",
   "execution_count": 8,
   "id": "1e5cbe3a-4d22-400b-87cd-37674c7aefb8",
   "metadata": {},
   "outputs": [],
   "source": [
    "a = test()"
   ]
  },
  {
   "cell_type": "code",
   "execution_count": 9,
   "id": "9cfc4615-909f-4b1d-9802-3bbb1614294b",
   "metadata": {},
   "outputs": [
    {
     "data": {
      "text/plain": [
       "__main__.test"
      ]
     },
     "execution_count": 9,
     "metadata": {},
     "output_type": "execute_result"
    }
   ],
   "source": [
    "type(a)"
   ]
  },
  {
   "cell_type": "code",
   "execution_count": 10,
   "id": "d4040157-3d17-4b9a-8572-a6b81c5d37ce",
   "metadata": {},
   "outputs": [
    {
     "name": "stdout",
     "output_type": "stream",
     "text": [
      "<class '__main__.test'>\n"
     ]
    }
   ],
   "source": [
    "print(type(a))"
   ]
  },
  {
   "cell_type": "code",
   "execution_count": 2,
   "id": "1ef4a89a-337c-411e-8e68-c3a580c27d05",
   "metadata": {},
   "outputs": [],
   "source": [
    "class pwskills:\n",
    "    \n",
    "    def welcome_msg(self):\n",
    "        print(\"welcome to pwskills\")\n"
   ]
  },
  {
   "cell_type": "code",
   "execution_count": 3,
   "id": "e47adb59-e160-4100-8bad-5fc4b29e7f8a",
   "metadata": {},
   "outputs": [],
   "source": [
    "rohan = pwskills()"
   ]
  },
  {
   "cell_type": "code",
   "execution_count": 4,
   "id": "249cdab1-d7a3-47c7-8064-507d2459dbd8",
   "metadata": {},
   "outputs": [
    {
     "name": "stdout",
     "output_type": "stream",
     "text": [
      "<class '__main__.pwskills'>\n"
     ]
    }
   ],
   "source": [
    "print(type(rohan))"
   ]
  },
  {
   "cell_type": "code",
   "execution_count": 6,
   "id": "d0dbe1bc-7cad-4b3c-9d0b-49e0fe2333a9",
   "metadata": {},
   "outputs": [
    {
     "name": "stdout",
     "output_type": "stream",
     "text": [
      "welcome to pwskills\n"
     ]
    }
   ],
   "source": [
    "rohan.welcome_msg()"
   ]
  },
  {
   "cell_type": "code",
   "execution_count": 7,
   "id": "44e748fd-fd8c-4131-84ca-afdb5799f9e0",
   "metadata": {},
   "outputs": [],
   "source": [
    "# variable/object/instance => these are same for which classifcation will bee provided by claa"
   ]
  },
  {
   "cell_type": "code",
   "execution_count": 8,
   "id": "8bbb1ff5-a9f0-4406-a0a0-4a3c12cb2a97",
   "metadata": {},
   "outputs": [],
   "source": [
    "gaurav = pwskills()"
   ]
  },
  {
   "cell_type": "code",
   "execution_count": 9,
   "id": "c6ada459-f0af-4447-bf08-9500d1a7af68",
   "metadata": {},
   "outputs": [
    {
     "name": "stdout",
     "output_type": "stream",
     "text": [
      "welcome to pwskills\n"
     ]
    }
   ],
   "source": [
    "gaurav.welcome_msg()"
   ]
  },
  {
   "cell_type": "code",
   "execution_count": 1,
   "id": "e69ebf74-4127-48bb-86de-84e84c119680",
   "metadata": {},
   "outputs": [],
   "source": [
    "# __init__() => This is a construtor function "
   ]
  },
  {
   "cell_type": "code",
   "execution_count": 19,
   "id": "5f7985c8-810c-47e2-88ce-e3700f276bc9",
   "metadata": {},
   "outputs": [],
   "source": [
    "class pwskills1:\n",
    "    def __init__(self, email_id,phone_number,student_id):\n",
    "        self.phone_number = phone_number\n",
    "        self.email_id = email_id\n",
    "        self.student_id = student_id\n",
    "        \n",
    "    def return_student_details(self):\n",
    "        return self.student_id,self.phone_number,self.email_id"
   ]
  },
  {
   "cell_type": "code",
   "execution_count": 20,
   "id": "f40ab5cd-4ca5-46d1-98cd-ecb963103f12",
   "metadata": {},
   "outputs": [
    {
     "ename": "TypeError",
     "evalue": "pwskills1.__init__() missing 3 required positional arguments: 'email_id', 'phone_number', and 'student_id'",
     "output_type": "error",
     "traceback": [
      "\u001b[0;31m---------------------------------------------------------------------------\u001b[0m",
      "\u001b[0;31mTypeError\u001b[0m                                 Traceback (most recent call last)",
      "Cell \u001b[0;32mIn[20], line 1\u001b[0m\n\u001b[0;32m----> 1\u001b[0m rohan \u001b[38;5;241m=\u001b[39m \u001b[43mpwskills1\u001b[49m\u001b[43m(\u001b[49m\u001b[43m)\u001b[49m\n",
      "\u001b[0;31mTypeError\u001b[0m: pwskills1.__init__() missing 3 required positional arguments: 'email_id', 'phone_number', and 'student_id'"
     ]
    }
   ],
   "source": [
    "rohan = pwskills1()"
   ]
  },
  {
   "cell_type": "code",
   "execution_count": 21,
   "id": "a6bdd371-f9ad-42e5-ac2f-c7ac7d0f27c2",
   "metadata": {},
   "outputs": [],
   "source": [
    "rohan = pwskills1(\"rohan@gmail.com\",9993343848,132)"
   ]
  },
  {
   "cell_type": "code",
   "execution_count": 22,
   "id": "6971c641-1f40-4383-b888-ba91c560995f",
   "metadata": {},
   "outputs": [
    {
     "data": {
      "text/plain": [
       "(132, 9993343848, 'rohan@gmail.com')"
      ]
     },
     "execution_count": 22,
     "metadata": {},
     "output_type": "execute_result"
    }
   ],
   "source": [
    "rohan.return_student_details()"
   ]
  },
  {
   "cell_type": "code",
   "execution_count": 23,
   "id": "42df3cfb-2a9b-4146-8742-73c191303ff6",
   "metadata": {},
   "outputs": [],
   "source": [
    "gaurav = pwskills1(\"gaurav@gmail.com\",9989834344,133)"
   ]
  },
  {
   "cell_type": "code",
   "execution_count": 24,
   "id": "c1d89ad2-dba0-49b9-83f1-6e430811cc42",
   "metadata": {},
   "outputs": [
    {
     "data": {
      "text/plain": [
       "(133, 9989834344, 'gaurav@gmail.com')"
      ]
     },
     "execution_count": 24,
     "metadata": {},
     "output_type": "execute_result"
    }
   ],
   "source": [
    "gaurav.return_student_details()"
   ]
  },
  {
   "cell_type": "code",
   "execution_count": 36,
   "id": "b551b75b-c5e9-4a9d-9d2b-0bdeda2ff131",
   "metadata": {},
   "outputs": [],
   "source": [
    "class pwskills2:\n",
    "    def __init__(self, email_id,phone_number,student_id):\n",
    "        self.phone_number1 = phone_number\n",
    "        self.email_id1 = email_id\n",
    "        self.student_id1 = student_id\n",
    "        \n",
    "    def return_student_details(self):\n",
    "        return self.student_id1,self.phone_number1,self.email_id1"
   ]
  },
  {
   "cell_type": "code",
   "execution_count": 37,
   "id": "28126885-6813-4461-9aa7-8acc37f99418",
   "metadata": {},
   "outputs": [],
   "source": [
    "anand = pwskills2(\"anand@gmail.com\",63946565575,1234)"
   ]
  },
  {
   "cell_type": "code",
   "execution_count": 38,
   "id": "8daacbf9-1f78-4d73-82da-97378557b542",
   "metadata": {},
   "outputs": [
    {
     "data": {
      "text/plain": [
       "63946565575"
      ]
     },
     "execution_count": 38,
     "metadata": {},
     "output_type": "execute_result"
    }
   ],
   "source": [
    "anand.phone_number1"
   ]
  },
  {
   "cell_type": "code",
   "execution_count": 39,
   "id": "192f4c45-ac55-4455-880b-dc7c131ef14f",
   "metadata": {},
   "outputs": [
    {
     "data": {
      "text/plain": [
       "'anand@gmail.com'"
      ]
     },
     "execution_count": 39,
     "metadata": {},
     "output_type": "execute_result"
    }
   ],
   "source": [
    "anand.email_id1"
   ]
  },
  {
   "cell_type": "code",
   "execution_count": 41,
   "id": "11fe7217-531b-43cf-88c0-b4e5e330111a",
   "metadata": {},
   "outputs": [
    {
     "data": {
      "text/plain": [
       "(1234, 63946565575, 'anand@gmail.com')"
      ]
     },
     "execution_count": 41,
     "metadata": {},
     "output_type": "execute_result"
    }
   ],
   "source": [
    "anand.return_student_details()"
   ]
  },
  {
   "cell_type": "code",
   "execution_count": 42,
   "id": "b59756fd-33c0-4b2b-bfdf-d16da3d504cb",
   "metadata": {},
   "outputs": [],
   "source": [
    "class pwskills2:\n",
    "    def __init__(anand, email_id,phone_number,student_id):\n",
    "        anand.phone_number1 = phone_number\n",
    "        anand.email_id1 = email_id\n",
    "        anand.student_id1 = student_id\n",
    "        \n",
    "    def return_student_details(anand):\n",
    "        return anand.student_id1,anand.phone_number1,anand.email_id1"
   ]
  },
  {
   "cell_type": "code",
   "execution_count": 43,
   "id": "04466443-05fa-4f81-83a6-b984b615c325",
   "metadata": {},
   "outputs": [],
   "source": [
    "rohan = pwskills2(\"rohan1@gmail.com\",23334343,123)"
   ]
  },
  {
   "cell_type": "code",
   "execution_count": 44,
   "id": "ffa9e064-97c9-4627-a124-5bd834cf9eba",
   "metadata": {},
   "outputs": [
    {
     "data": {
      "text/plain": [
       "23334343"
      ]
     },
     "execution_count": 44,
     "metadata": {},
     "output_type": "execute_result"
    }
   ],
   "source": [
    "rohan.phone_number1"
   ]
  },
  {
   "cell_type": "code",
   "execution_count": 45,
   "id": "2472c396-3e3f-47b5-bfab-ef5be6aa5216",
   "metadata": {},
   "outputs": [
    {
     "data": {
      "text/plain": [
       "(123, 23334343, 'rohan1@gmail.com')"
      ]
     },
     "execution_count": 45,
     "metadata": {},
     "output_type": "execute_result"
    }
   ],
   "source": [
    "rohan.return_student_details()"
   ]
  },
  {
   "cell_type": "code",
   "execution_count": 46,
   "id": "34581d2d-91ef-4661-b38f-0ab44938b147",
   "metadata": {},
   "outputs": [],
   "source": [
    "# that means Self is not the reserved key word , it just act as a pointer so we can replace that with any other pointer as and when required."
   ]
  },
  {
   "cell_type": "markdown",
   "id": "3cb159c7-bd11-4f6b-931f-c2cfd89636c1",
   "metadata": {},
   "source": [
    "# POLYMORPHISM"
   ]
  },
  {
   "cell_type": "code",
   "execution_count": 2,
   "id": "01950a95-9ec0-483b-9a24-91e72cc6f819",
   "metadata": {},
   "outputs": [],
   "source": [
    "# Polymorphism - same entity shows multiple behaviour in diff time "
   ]
  },
  {
   "cell_type": "code",
   "execution_count": 3,
   "id": "ef4da8d4-0e91-4fec-b1a2-27db7c5c923a",
   "metadata": {},
   "outputs": [],
   "source": [
    "def test (a,b):\n",
    "    return a+b"
   ]
  },
  {
   "cell_type": "code",
   "execution_count": 4,
   "id": "70e3f1e9-d69d-4285-981b-74698dd63876",
   "metadata": {},
   "outputs": [
    {
     "data": {
      "text/plain": [
       "7"
      ]
     },
     "execution_count": 4,
     "metadata": {},
     "output_type": "execute_result"
    }
   ],
   "source": [
    "test(3,4)"
   ]
  },
  {
   "cell_type": "code",
   "execution_count": 6,
   "id": "0336a24a-0dae-4178-bbd9-fb2fa6c47a67",
   "metadata": {},
   "outputs": [
    {
     "data": {
      "text/plain": [
       "'anand chaubey'"
      ]
     },
     "execution_count": 6,
     "metadata": {},
     "output_type": "execute_result"
    }
   ],
   "source": [
    "test(\"anand \",\"chaubey\")"
   ]
  },
  {
   "cell_type": "code",
   "execution_count": 7,
   "id": "83b527fa-c9a7-42b5-b460-c6b500f39f0a",
   "metadata": {},
   "outputs": [
    {
     "data": {
      "text/plain": [
       "[1, 2, 3, 4, 5, 4, 5, 6, 7]"
      ]
     },
     "execution_count": 7,
     "metadata": {},
     "output_type": "execute_result"
    }
   ],
   "source": [
    "test([1,2,3,4],[5,4,5,6,7])"
   ]
  },
  {
   "cell_type": "code",
   "execution_count": 1,
   "id": "b517f6b4-2273-4f17-b374-8d18378fe0d9",
   "metadata": {},
   "outputs": [],
   "source": [
    "# Poly - multiple \n",
    "# morphism - behaviour connect - Map between different object\n",
    "# # Polymorphism - an entity which shows multiple behaviour in case of diff object presence"
   ]
  },
  {
   "cell_type": "code",
   "execution_count": 1,
   "id": "38247e33-87b0-4c1f-afeb-0fcc3f5d606b",
   "metadata": {},
   "outputs": [],
   "source": [
    "class data_science:\n",
    "    \n",
    "    def syllabus(self):\n",
    "        print(\"This is syllabus of my data science course\")"
   ]
  },
  {
   "cell_type": "code",
   "execution_count": 8,
   "id": "a1f4c5e4-f930-4357-8280-5aef4621cd4e",
   "metadata": {},
   "outputs": [],
   "source": [
    "class web_dev:\n",
    "    \n",
    "    def syllabus(self):\n",
    "        print(\"This is syllabus of my web development course\")"
   ]
  },
  {
   "cell_type": "code",
   "execution_count": 9,
   "id": "4764de86-7146-4f8d-b04a-b31f6b8e123b",
   "metadata": {},
   "outputs": [],
   "source": [
    "def class_parcer(class_obj):\n",
    "    for i in class_obj:\n",
    "        i.syllabus()"
   ]
  },
  {
   "cell_type": "code",
   "execution_count": 10,
   "id": "048937ea-2c41-4723-8d49-0ea5e96abcf5",
   "metadata": {},
   "outputs": [],
   "source": [
    "data = data_science()"
   ]
  },
  {
   "cell_type": "code",
   "execution_count": 11,
   "id": "b1572097-a5f0-4ea8-8a03-60b5948870f1",
   "metadata": {},
   "outputs": [],
   "source": [
    "web = web_dev()"
   ]
  },
  {
   "cell_type": "code",
   "execution_count": 12,
   "id": "142ea631-7a9c-475d-a0df-ad99e23dddea",
   "metadata": {},
   "outputs": [],
   "source": [
    "class_obj = [data, web]"
   ]
  },
  {
   "cell_type": "code",
   "execution_count": 13,
   "id": "f4e3dec9-9a7d-4a4e-9c2b-63ded3a24f51",
   "metadata": {},
   "outputs": [
    {
     "name": "stdout",
     "output_type": "stream",
     "text": [
      "This is syllabus of my data science course\n",
      "This is syllabus of my web development course\n"
     ]
    }
   ],
   "source": [
    "class_parcer(class_obj)"
   ]
  },
  {
   "cell_type": "markdown",
   "id": "43fb46fe-6c9f-4e88-bd46-48504fa4c966",
   "metadata": {},
   "source": [
    "# ENCAPSULATION"
   ]
  },
  {
   "cell_type": "code",
   "execution_count": 14,
   "id": "94bac39f-3b02-428e-ad43-8ca002ed1d63",
   "metadata": {},
   "outputs": [],
   "source": [
    "class test:\n",
    "    \n",
    "    def __init__(self,a,b):\n",
    "        self.a = a\n",
    "        self.b = b"
   ]
  },
  {
   "cell_type": "code",
   "execution_count": 15,
   "id": "93f46a95-c1fe-4de2-af58-9bc7ab476a92",
   "metadata": {},
   "outputs": [],
   "source": [
    "t = test(23,34)"
   ]
  },
  {
   "cell_type": "code",
   "execution_count": 16,
   "id": "c8a6f05d-256b-497e-9f61-1b834301f7d9",
   "metadata": {},
   "outputs": [],
   "source": [
    "t.a = 23456"
   ]
  },
  {
   "cell_type": "code",
   "execution_count": 18,
   "id": "6f993d8d-4f61-4fae-95a6-0c5a5409309e",
   "metadata": {},
   "outputs": [
    {
     "data": {
      "text/plain": [
       "23456"
      ]
     },
     "execution_count": 18,
     "metadata": {},
     "output_type": "execute_result"
    }
   ],
   "source": [
    "t.a"
   ]
  },
  {
   "cell_type": "code",
   "execution_count": 19,
   "id": "5e287d63-bda2-4431-a91b-ce14dd239655",
   "metadata": {},
   "outputs": [],
   "source": [
    "# if we want that user can't change the original value then we need to use the concept of encapsuation "
   ]
  },
  {
   "cell_type": "code",
   "execution_count": 21,
   "id": "df4facaf-1703-4d6a-a2af-1e587e52d37b",
   "metadata": {},
   "outputs": [],
   "source": [
    "class car:\n",
    "    def __init__(self, year, make, model, speed):\n",
    "        self.__year = year\n",
    "        self.__make = make\n",
    "        self.__model = model\n",
    "        self.__speed = 0\n",
    "        \n",
    "    def set_speed(self,speed):\n",
    "        self.__speed = 0 if speed<0 else speed\n",
    "        \n",
    "    def get_speed(self):\n",
    "        return self.__speed"
   ]
  },
  {
   "cell_type": "code",
   "execution_count": 22,
   "id": "6c41d296-5ce4-4863-948f-4a4c8459854e",
   "metadata": {},
   "outputs": [],
   "source": [
    "c = car(2021, \"toyota\",\"innova\",12)"
   ]
  },
  {
   "cell_type": "code",
   "execution_count": 23,
   "id": "c455936d-88a3-4561-8194-ef852ec43f31",
   "metadata": {},
   "outputs": [
    {
     "data": {
      "text/plain": [
       "2021"
      ]
     },
     "execution_count": 23,
     "metadata": {},
     "output_type": "execute_result"
    }
   ],
   "source": [
    "c._car__year"
   ]
  },
  {
   "cell_type": "code",
   "execution_count": 24,
   "id": "37efdac4-0755-4e9b-98bc-7a08b87784f3",
   "metadata": {},
   "outputs": [
    {
     "data": {
      "text/plain": [
       "0"
      ]
     },
     "execution_count": 24,
     "metadata": {},
     "output_type": "execute_result"
    }
   ],
   "source": [
    "c.get_speed()"
   ]
  },
  {
   "cell_type": "code",
   "execution_count": 25,
   "id": "50fe5782-d897-425e-8ac6-345223a6c406",
   "metadata": {},
   "outputs": [],
   "source": [
    "c.set_speed(12)"
   ]
  },
  {
   "cell_type": "code",
   "execution_count": 26,
   "id": "c9ab102a-0781-44d2-8606-5fd5e976cf08",
   "metadata": {},
   "outputs": [
    {
     "data": {
      "text/plain": [
       "12"
      ]
     },
     "execution_count": 26,
     "metadata": {},
     "output_type": "execute_result"
    }
   ],
   "source": [
    "c.get_speed()"
   ]
  },
  {
   "cell_type": "code",
   "execution_count": 27,
   "id": "a35c0c74-aeec-4916-8c71-e8812c0e87e7",
   "metadata": {},
   "outputs": [
    {
     "data": {
      "text/plain": [
       "12"
      ]
     },
     "execution_count": 27,
     "metadata": {},
     "output_type": "execute_result"
    }
   ],
   "source": [
    "c.get_speed()"
   ]
  },
  {
   "cell_type": "code",
   "execution_count": 34,
   "id": "75442871-f681-4fd9-b062-1bf6e5415c80",
   "metadata": {},
   "outputs": [],
   "source": [
    "class bankaccount :\n",
    "    \n",
    "    def __init__(self, balance):\n",
    "        self.__balance = balance\n",
    "        \n",
    "    def deposit(self,amount):\n",
    "        self.__balance = self.__balance + amount\n",
    "    \n",
    "    def withdraw(self,amount):\n",
    "        if self.__balance >= amount:\n",
    "            self.__balance = self.__balance-amount\n",
    "            return True\n",
    "        else:\n",
    "            False\n",
    "    def get_balance(self):\n",
    "        return self.__balance"
   ]
  },
  {
   "cell_type": "code",
   "execution_count": 35,
   "id": "311a4f14-733c-4446-991f-8a310ea39109",
   "metadata": {},
   "outputs": [],
   "source": [
    "sudh = bankaccount(1000)"
   ]
  },
  {
   "cell_type": "code",
   "execution_count": 36,
   "id": "e7d0e865-8f6d-4889-b017-d3ff83042a53",
   "metadata": {},
   "outputs": [
    {
     "data": {
      "text/plain": [
       "1000"
      ]
     },
     "execution_count": 36,
     "metadata": {},
     "output_type": "execute_result"
    }
   ],
   "source": [
    "sudh.get_balance()"
   ]
  },
  {
   "cell_type": "code",
   "execution_count": 37,
   "id": "67ae7585-86aa-417b-9d04-cc057a28af63",
   "metadata": {},
   "outputs": [],
   "source": [
    "sudh.deposit(500)"
   ]
  },
  {
   "cell_type": "code",
   "execution_count": 38,
   "id": "493fe471-1f64-431c-86a4-5e287b82d161",
   "metadata": {},
   "outputs": [
    {
     "data": {
      "text/plain": [
       "1500"
      ]
     },
     "execution_count": 38,
     "metadata": {},
     "output_type": "execute_result"
    }
   ],
   "source": [
    "sudh.get_balance()"
   ]
  },
  {
   "cell_type": "code",
   "execution_count": 39,
   "id": "c0e1cd88-3856-485c-8459-218b2e19bc32",
   "metadata": {},
   "outputs": [
    {
     "data": {
      "text/plain": [
       "True"
      ]
     },
     "execution_count": 39,
     "metadata": {},
     "output_type": "execute_result"
    }
   ],
   "source": [
    "sudh.withdraw(700)"
   ]
  },
  {
   "cell_type": "code",
   "execution_count": 40,
   "id": "8135ad8f-d831-4fbc-b5d6-7d2f2cfa2714",
   "metadata": {},
   "outputs": [
    {
     "data": {
      "text/plain": [
       "800"
      ]
     },
     "execution_count": 40,
     "metadata": {},
     "output_type": "execute_result"
    }
   ],
   "source": [
    "sudh.get_balance()"
   ]
  },
  {
   "cell_type": "markdown",
   "id": "4807b01f-7079-4f18-a28e-01472f1a2579",
   "metadata": {},
   "source": [
    "# INHERITANCE"
   ]
  },
  {
   "cell_type": "code",
   "execution_count": 1,
   "id": "dc77f758-6e03-475d-9b8b-895aa10a879f",
   "metadata": {},
   "outputs": [],
   "source": [
    "#bringing parent class property into child class"
   ]
  },
  {
   "cell_type": "code",
   "execution_count": 2,
   "id": "d4dce8ef-0530-421b-9c94-7a57331112c8",
   "metadata": {},
   "outputs": [],
   "source": [
    "class test:\n",
    "    \n",
    "    def test_meth(self):\n",
    "        return \"this is my first class\""
   ]
  },
  {
   "cell_type": "code",
   "execution_count": 3,
   "id": "be4e3c54-4edf-483c-89ef-4f15d109f3bd",
   "metadata": {},
   "outputs": [],
   "source": [
    "class child_test(test):\n",
    "    pass"
   ]
  },
  {
   "cell_type": "code",
   "execution_count": 4,
   "id": "bbe73499-61b2-4e73-8707-c54e7344d1a4",
   "metadata": {},
   "outputs": [],
   "source": [
    "child_test_obj = child_test()"
   ]
  },
  {
   "cell_type": "code",
   "execution_count": 5,
   "id": "94fb68d7-0366-4efb-8dac-1c875f9d4c23",
   "metadata": {},
   "outputs": [
    {
     "data": {
      "text/plain": [
       "'this is my first class'"
      ]
     },
     "execution_count": 5,
     "metadata": {},
     "output_type": "execute_result"
    }
   ],
   "source": [
    "child_test_obj.test_meth()"
   ]
  },
  {
   "cell_type": "code",
   "execution_count": 6,
   "id": "76bf75fc-3732-4096-b44d-699344312c27",
   "metadata": {},
   "outputs": [],
   "source": [
    "# here above object defined under child class is able to envoke call the parent test class"
   ]
  },
  {
   "cell_type": "code",
   "execution_count": 7,
   "id": "1fbc60bd-64a9-493a-b874-3a99a3921f32",
   "metadata": {},
   "outputs": [],
   "source": [
    "# child class inheritense the parent class property"
   ]
  },
  {
   "cell_type": "code",
   "execution_count": 1,
   "id": "e3807b8a-c8ba-45e1-bf92-7c963ded308f",
   "metadata": {},
   "outputs": [],
   "source": [
    "# we can also deffine multi level inheritense"
   ]
  },
  {
   "cell_type": "code",
   "execution_count": 2,
   "id": "3d844e86-ed97-441b-8d70-081b0b96d80c",
   "metadata": {},
   "outputs": [],
   "source": [
    "class class1:\n",
    "    \n",
    "    def test_class1(self):\n",
    "        return \"this is the meth from class1\"\n"
   ]
  },
  {
   "cell_type": "code",
   "execution_count": 3,
   "id": "8acc27f6-b5b4-47fe-85c7-c787a0de5b71",
   "metadata": {},
   "outputs": [],
   "source": [
    "class class2(class1):\n",
    "    def test_class2(self):\n",
    "        return\"this is meth from class2\""
   ]
  },
  {
   "cell_type": "code",
   "execution_count": 4,
   "id": "4dce63cd-eb85-4f73-ac92-779bbd3cda2e",
   "metadata": {},
   "outputs": [],
   "source": [
    "class class3 (class2):\n",
    "    pass "
   ]
  },
  {
   "cell_type": "code",
   "execution_count": 5,
   "id": "8f48e50b-2208-4cbe-9437-d72608b608b7",
   "metadata": {},
   "outputs": [],
   "source": [
    "obj_class3 = class3()"
   ]
  },
  {
   "cell_type": "code",
   "execution_count": 6,
   "id": "37b91909-65db-496b-8a7e-6017e582611b",
   "metadata": {},
   "outputs": [
    {
     "data": {
      "text/plain": [
       "'this is the meth from class1'"
      ]
     },
     "execution_count": 6,
     "metadata": {},
     "output_type": "execute_result"
    }
   ],
   "source": [
    "obj_class3.test_class1()"
   ]
  },
  {
   "cell_type": "code",
   "execution_count": 7,
   "id": "22c0811a-15ee-4f7d-b411-fc5b87c0a9c9",
   "metadata": {},
   "outputs": [
    {
     "data": {
      "text/plain": [
       "'this is meth from class2'"
      ]
     },
     "execution_count": 7,
     "metadata": {},
     "output_type": "execute_result"
    }
   ],
   "source": [
    "obj_class3.test_class2()"
   ]
  },
  {
   "cell_type": "code",
   "execution_count": 14,
   "id": "e2acc289-5f68-4623-98f3-5f7c77fff8aa",
   "metadata": {},
   "outputs": [],
   "source": [
    "# multiple inheritence "
   ]
  },
  {
   "cell_type": "code",
   "execution_count": 15,
   "id": "e29872cc-9a15-4597-a12e-a5916919b9aa",
   "metadata": {},
   "outputs": [],
   "source": [
    "class class1:\n",
    "    \n",
    "    def  test_class1(self):\n",
    "        return \"this is a class1\""
   ]
  },
  {
   "cell_type": "code",
   "execution_count": 16,
   "id": "2adef18c-2c30-4330-a6f3-88014423d33c",
   "metadata": {},
   "outputs": [],
   "source": [
    "class class2:\n",
    "    \n",
    "    def test_class2(self):\n",
    "        return\"this is class2\""
   ]
  },
  {
   "cell_type": "code",
   "execution_count": 17,
   "id": "984b0275-fac2-41a2-b4c2-2e7b2baf11f3",
   "metadata": {},
   "outputs": [],
   "source": [
    "class class3(class1, class2):\n",
    "    pass"
   ]
  },
  {
   "cell_type": "code",
   "execution_count": 18,
   "id": "1329f251-8b76-4913-bd90-ffcb53087dfd",
   "metadata": {},
   "outputs": [],
   "source": [
    "obj_class3 = class3()"
   ]
  },
  {
   "cell_type": "code",
   "execution_count": 20,
   "id": "0835acbb-a120-41b2-a28b-9edb157b0681",
   "metadata": {},
   "outputs": [
    {
     "data": {
      "text/plain": [
       "'this is a class1'"
      ]
     },
     "execution_count": 20,
     "metadata": {},
     "output_type": "execute_result"
    }
   ],
   "source": [
    "obj_class3.test_class1()"
   ]
  },
  {
   "cell_type": "code",
   "execution_count": 22,
   "id": "61681d31-deb4-4c48-9016-79bd7cedda00",
   "metadata": {},
   "outputs": [
    {
     "data": {
      "text/plain": [
       "'this is class2'"
      ]
     },
     "execution_count": 22,
     "metadata": {},
     "output_type": "execute_result"
    }
   ],
   "source": [
    "obj_class3.test_class2()"
   ]
  },
  {
   "cell_type": "markdown",
   "id": "80be612e-2056-4d33-855e-4c59aaac4a2f",
   "metadata": {},
   "source": [
    "# ABSTRACTION"
   ]
  },
  {
   "cell_type": "code",
   "execution_count": 1,
   "id": "70f814c8-83d9-4dc7-bcc4-6d8163a4d099",
   "metadata": {},
   "outputs": [],
   "source": [
    "# Abstraction used to be part of blueprint preparation of any code "
   ]
  },
  {
   "cell_type": "code",
   "execution_count": 2,
   "id": "ab34aa27-661c-4f80-8874-721b71f68f5e",
   "metadata": {},
   "outputs": [],
   "source": [
    "import abc\n",
    "class pwskills:\n",
    "    \n",
    "    @abc.abstractmethod\n",
    "    def students_details(self):\n",
    "        pass\n",
    "    \n",
    "    @abc.abstractmethod\n",
    "    def student_assignment(self):\n",
    "        pass\n",
    "    \n",
    "    @abc.abstractmethod\n",
    "    def student_marks(self):\n",
    "        pass"
   ]
  },
  {
   "cell_type": "code",
   "execution_count": 3,
   "id": "6506fc23-22bf-4f16-a409-1c3247d2cb30",
   "metadata": {},
   "outputs": [],
   "source": [
    "class student_details(pwskills):\n",
    "    \n",
    "    def students_details(self):\n",
    "        return \"this is a meth for taking students details\"\n",
    "    \n",
    "    def student_assignment(seldf):\n",
    "        return \"this is a meth for assing details for  particular student\"\n",
    "    "
   ]
  },
  {
   "cell_type": "code",
   "execution_count": 4,
   "id": "393b2717-3f0a-4b8b-91ee-cdf4222b5a72",
   "metadata": {},
   "outputs": [],
   "source": [
    "class data_science_masters(pwskills):\n",
    "    \n",
    "    def students_details(self):\n",
    "        return \"this will return a student details for data science masters\"\n",
    "    \n",
    "    def student_assignment(self):\n",
    "        return \"this will give you a student assignment tdetails for data science masters\""
   ]
  },
  {
   "cell_type": "code",
   "execution_count": 5,
   "id": "c556e69d-b032-416f-bfc5-44f61458e90f",
   "metadata": {},
   "outputs": [
    {
     "data": {
      "text/plain": [
       "'this will return a student details for data science masters'"
      ]
     },
     "execution_count": 5,
     "metadata": {},
     "output_type": "execute_result"
    }
   ],
   "source": [
    "dsm = data_science_masters()\n",
    "\n",
    "dsm.students_details()"
   ]
  },
  {
   "cell_type": "code",
   "execution_count": 6,
   "id": "cfd75b9b-52b9-491a-8ccb-bd6bdcd3ad6e",
   "metadata": {},
   "outputs": [
    {
     "data": {
      "text/plain": [
       "'this is a meth for taking students details'"
      ]
     },
     "execution_count": 6,
     "metadata": {},
     "output_type": "execute_result"
    }
   ],
   "source": [
    "sd= student_details()\n",
    "\n",
    "sd.students_details()"
   ]
  },
  {
   "cell_type": "code",
   "execution_count": 7,
   "id": "e3c7f9a0-febe-42b7-9f3a-873c58345588",
   "metadata": {},
   "outputs": [],
   "source": [
    "# abstract is the method which allows to use same definition under different clss for different requirement, import abc is the reserved function to use abstract skeleton.\n",
    "# This method generally used when the definition is already provided at lead level then many people use the same for different purpose depends upon definitionrequirment of class"
   ]
  },
  {
   "cell_type": "code",
   "execution_count": 9,
   "id": "dd1bac16-3d56-4e43-8719-68ebe9e07b5d",
   "metadata": {},
   "outputs": [],
   "source": [
    "# Creating abstract classes and using abstract methods in programming provides several benefits, and their purpose is closely tied to achieving better code organization, \n",
    "# enforcing structure, and promoting good design practices. Here are some key reasons why you might want to use abstract classes and methods:\n",
    "\n",
    "# Enforcing Structure and Design Patterns:\n",
    "\n",
    "# Abstract classes help define a common interface and structure for a group of related classes. \n",
    "# This is particularly useful in design patterns where you want to ensure that certain methods are implemented by subclasses.\n",
    "\n",
    "# Code Reusability:\n",
    "\n",
    "# Abstract classes allow you to define common behavior in a base class, and this behavior can be reused by multiple subclasses. \n",
    "# This promotes code reusability and helps avoid duplicating code in different classes.\n",
    "# Polymorphism:\n",
    "\n",
    "# Abstract classes contribute to polymorphism, allowing objects of different classes to be treated as objects of a common base class. \n",
    "# This simplifies code and supports more flexible and extensible designs.\n",
    "# Clear Documentation and Intent:\n",
    "\n",
    "# Abstract classes serve as a form of documentation, explicitly indicating which methods must be implemented by subclasses. \n",
    "# This clarity helps other developers understand the intended design and use the classes correctly.\n",
    "# Design by Contract:\n",
    "\n",
    "# Abstract classes help enforce a kind of \"contract\" between the abstract class and its subclasses. \n",
    "# By specifying required methods, abstract classes establish expectations for how subclasses should behave.\n",
    "# Error Detection at Compile-Time:\n",
    "\n",
    "# Using abstract methods allows for the detection of missing implementations at compile-time, reducing the likelihood of runtime errors caused by incomplete implementations \n",
    "# in subclasses.If you choose not to use abstract classes and abstract methods, you may encounter the following problems:\n",
    "\n",
    "# Inconsistent Interfaces:\n",
    "\n",
    "# Without abstract classes, there is no formal way to define a common interface for a group of related classes. \n",
    "# This can lead to inconsistent implementations across subclasses, making the code harder to understand and maintain.\n",
    "# Code Duplication:\n",
    "\n",
    "# Without abstract classes, you may find yourself duplicating code across multiple classes that should share common behavior. \n",
    "# This can lead to maintenance challenges, as any changes to duplicated code must be made in multiple places.\n",
    "# Reduced Readability:\n",
    "\n",
    "# The absence of abstract classes may result in less readable code, as developers may need to navigate through the implementation details of each class\n",
    "# to understand the required structure.\n",
    "# Runtime Errors:\n",
    "\n",
    "# Without the enforcement of required methods, you may encounter runtime errors when a subclass fails to implement a method expected by the code that uses it."
   ]
  },
  {
   "cell_type": "markdown",
   "id": "b50b20b2-e1db-4524-b70c-29998a0c8a29",
   "metadata": {},
   "source": [
    "# DECORATOR"
   ]
  },
  {
   "cell_type": "code",
   "execution_count": 10,
   "id": "1f4e2746-0492-4537-bba2-382927ffa9f9",
   "metadata": {},
   "outputs": [],
   "source": [
    "def test():\n",
    "    print(\"this is the start of my fun\")\n",
    "    print(\"this is my fun to test\")\n",
    "    print(4+5)\n",
    "    print(\"this is the end of my func\")"
   ]
  },
  {
   "cell_type": "code",
   "execution_count": 11,
   "id": "4d66912b-f6eb-4c85-9e78-fa4e909369b1",
   "metadata": {},
   "outputs": [
    {
     "name": "stdout",
     "output_type": "stream",
     "text": [
      "this is the start of my fun\n",
      "this is my fun to test\n",
      "9\n",
      "this is the end of my func\n"
     ]
    }
   ],
   "source": [
    "test()"
   ]
  },
  {
   "cell_type": "code",
   "execution_count": 12,
   "id": "e6491be0-324c-4995-be60-26c7abca1e9b",
   "metadata": {},
   "outputs": [],
   "source": [
    "# using decorator to avoid writing same thing again and again"
   ]
  },
  {
   "cell_type": "code",
   "execution_count": 13,
   "id": "56bafc93-b92c-4408-b84b-d22beca87546",
   "metadata": {},
   "outputs": [],
   "source": [
    "def deco(func):\n",
    "    def inner_dec():\n",
    "        print(\"this is the start of my fun\")\n",
    "        func()\n",
    "        print(\"this is the end of my func\")\n",
    "        \n",
    "    return inner_dec"
   ]
  },
  {
   "cell_type": "code",
   "execution_count": 14,
   "id": "d625fba8-f7d3-4cc3-bc91-eb7172bc3baa",
   "metadata": {},
   "outputs": [],
   "source": [
    "def test1():\n",
    "    print(6+7)"
   ]
  },
  {
   "cell_type": "code",
   "execution_count": 15,
   "id": "cc72f3cd-cb88-4e45-b205-7420a1568471",
   "metadata": {},
   "outputs": [
    {
     "name": "stdout",
     "output_type": "stream",
     "text": [
      "13\n"
     ]
    }
   ],
   "source": [
    "test1()"
   ]
  },
  {
   "cell_type": "code",
   "execution_count": 17,
   "id": "52c6233e-24c1-47c1-a946-fb3d0aa7fec6",
   "metadata": {},
   "outputs": [],
   "source": [
    "@deco\n",
    "def test1():\n",
    "    print(6+7)"
   ]
  },
  {
   "cell_type": "code",
   "execution_count": 18,
   "id": "69bb2a8a-8188-4f42-929b-1498e3e31142",
   "metadata": {},
   "outputs": [
    {
     "name": "stdout",
     "output_type": "stream",
     "text": [
      "this is the start of my fun\n",
      "13\n",
      "this is the end of my func\n"
     ]
    }
   ],
   "source": [
    "test1()"
   ]
  },
  {
   "cell_type": "code",
   "execution_count": 13,
   "id": "a2a834f1-5bf0-49a3-9032-42eac82d7b9e",
   "metadata": {},
   "outputs": [],
   "source": [
    "# @deco calls out the given decorator function , it always calls and execute the decoration inner function. \n",
    "# Deccorator function can be calls out by any name , not required put deco only"
   ]
  },
  {
   "cell_type": "code",
   "execution_count": 14,
   "id": "ca2253cb-c9dc-49dd-bf46-35c1c60ea8b1",
   "metadata": {},
   "outputs": [],
   "source": [
    "import time\n",
    "\n",
    "def timer_test(func):\n",
    "    def timer_test_inner():\n",
    "        start = time.time()\n",
    "        func()\n",
    "        end = time.time()\n",
    "        print(end-start)\n",
    "    return timer_test_inner"
   ]
  },
  {
   "cell_type": "code",
   "execution_count": 15,
   "id": "5c72fa56-566c-4520-b4a7-7a5275c2e1ee",
   "metadata": {},
   "outputs": [],
   "source": [
    "def test2():\n",
    "    print(34+45)"
   ]
  },
  {
   "cell_type": "code",
   "execution_count": 16,
   "id": "d3f7374c-cc89-46a5-b399-43099964fb92",
   "metadata": {},
   "outputs": [
    {
     "name": "stdout",
     "output_type": "stream",
     "text": [
      "79\n"
     ]
    }
   ],
   "source": [
    "test2()"
   ]
  },
  {
   "cell_type": "code",
   "execution_count": 17,
   "id": "c4b1e15a-d65e-4811-82d6-ac5c896c0779",
   "metadata": {},
   "outputs": [],
   "source": [
    "@timer_test\n",
    "def test2():\n",
    "    print(34+45)"
   ]
  },
  {
   "cell_type": "code",
   "execution_count": 18,
   "id": "e4ecad21-0e69-4339-bcd1-29778839a05c",
   "metadata": {},
   "outputs": [
    {
     "name": "stdout",
     "output_type": "stream",
     "text": [
      "79\n",
      "4.315376281738281e-05\n"
     ]
    }
   ],
   "source": [
    "test2()"
   ]
  },
  {
   "cell_type": "code",
   "execution_count": 19,
   "id": "a5eadb2f-b176-4b93-a122-af2cf4d8a5d8",
   "metadata": {},
   "outputs": [],
   "source": [
    "@timer_test\n",
    "def test():\n",
    "    for i in range(1000000):\n",
    "        pass"
   ]
  },
  {
   "cell_type": "code",
   "execution_count": 20,
   "id": "e110ad56-0621-47d8-a0db-0aee3605d4c7",
   "metadata": {},
   "outputs": [
    {
     "name": "stdout",
     "output_type": "stream",
     "text": [
      "0.025935888290405273\n"
     ]
    }
   ],
   "source": [
    "test()"
   ]
  },
  {
   "cell_type": "markdown",
   "id": "1d817623-6b17-4617-8160-e2ffb689267d",
   "metadata": {},
   "source": [
    "# Class Methods"
   ]
  },
  {
   "cell_type": "code",
   "execution_count": 21,
   "id": "608bcc5d-4d33-46a5-8ad6-f950a53e5435",
   "metadata": {},
   "outputs": [],
   "source": [
    "class pwskills:\n",
    "    \n",
    "    def __init__(self,name,email):\n",
    "        \n",
    "        self.name = name\n",
    "        self.email=email\n",
    "    \n",
    "    def students_details(self):\n",
    "        print(self.name, self.email)"
   ]
  },
  {
   "cell_type": "code",
   "execution_count": 22,
   "id": "e7d5943a-d66d-411d-bcb6-133fce8913e6",
   "metadata": {},
   "outputs": [],
   "source": [
    "pw = pwskills(\"mohan\",\"mohan@gmail.com\")"
   ]
  },
  {
   "cell_type": "code",
   "execution_count": 23,
   "id": "b6b5d2fe-ba18-43d4-9849-2461a9d7a21f",
   "metadata": {},
   "outputs": [
    {
     "data": {
      "text/plain": [
       "'mohan'"
      ]
     },
     "execution_count": 23,
     "metadata": {},
     "output_type": "execute_result"
    }
   ],
   "source": [
    "pw.name"
   ]
  },
  {
   "cell_type": "code",
   "execution_count": 24,
   "id": "aeba1522-5cdd-48f1-b418-39b84b2060f9",
   "metadata": {},
   "outputs": [
    {
     "data": {
      "text/plain": [
       "'mohan@gmail.com'"
      ]
     },
     "execution_count": 24,
     "metadata": {},
     "output_type": "execute_result"
    }
   ],
   "source": [
    "pw.email"
   ]
  },
  {
   "cell_type": "code",
   "execution_count": 25,
   "id": "3398d36c-fff8-47f9-8589-f05186c27f09",
   "metadata": {},
   "outputs": [
    {
     "name": "stdout",
     "output_type": "stream",
     "text": [
      "mohan mohan@gmail.com\n"
     ]
    }
   ],
   "source": [
    "pw.students_details()"
   ]
  },
  {
   "cell_type": "code",
   "execution_count": 1,
   "id": "f51956b7-d8f1-4184-b9a2-bf29fa855904",
   "metadata": {},
   "outputs": [],
   "source": [
    "class pwskills1:\n",
    "    \n",
    "    def __init__(self,name,email):\n",
    "        \n",
    "        self.name = name\n",
    "        self.email=email\n",
    "    @classmethod\n",
    "    def details(cls, name, email):\n",
    "        return cls(name,email)\n",
    "    \n",
    "    def students_details(self):\n",
    "        print(self.name, self.email)"
   ]
  },
  {
   "cell_type": "code",
   "execution_count": 2,
   "id": "588800b5-4f7a-46e0-92f5-2957ee28e715",
   "metadata": {},
   "outputs": [],
   "source": [
    "# class method is used to overload init method => means it helps to store data without creating variable which we generally do by init method"
   ]
  },
  {
   "cell_type": "code",
   "execution_count": 3,
   "id": "a4722f30-dca5-48f3-952b-80fd712d85f2",
   "metadata": {},
   "outputs": [
    {
     "data": {
      "text/plain": [
       "<__main__.pwskills1 at 0x7f663c2606d0>"
      ]
     },
     "execution_count": 3,
     "metadata": {},
     "output_type": "execute_result"
    }
   ],
   "source": [
    "pwskills1.details(\"anand\",\"anand@gmail.com\")"
   ]
  },
  {
   "cell_type": "code",
   "execution_count": 4,
   "id": "8ba594e1-a6b5-4c21-ab8c-b6bf611c104c",
   "metadata": {},
   "outputs": [],
   "source": [
    "pw1=pwskills1.details(\"anand\",\"anand@gmail.com\")"
   ]
  },
  {
   "cell_type": "code",
   "execution_count": 5,
   "id": "840a48c2-f584-4488-92b6-e778cb103cb9",
   "metadata": {},
   "outputs": [
    {
     "data": {
      "text/plain": [
       "'anand'"
      ]
     },
     "execution_count": 5,
     "metadata": {},
     "output_type": "execute_result"
    }
   ],
   "source": [
    "pw1.name"
   ]
  },
  {
   "cell_type": "code",
   "execution_count": 6,
   "id": "dd608270-c0b0-4c3a-a730-43e106c2e8a3",
   "metadata": {},
   "outputs": [
    {
     "data": {
      "text/plain": [
       "'anand@gmail.com'"
      ]
     },
     "execution_count": 6,
     "metadata": {},
     "output_type": "execute_result"
    }
   ],
   "source": [
    "pw1.email"
   ]
  },
  {
   "cell_type": "code",
   "execution_count": 7,
   "id": "0a31245c-557b-4ab8-8a2f-5e6efe56d14c",
   "metadata": {},
   "outputs": [
    {
     "name": "stdout",
     "output_type": "stream",
     "text": [
      "anand anand@gmail.com\n"
     ]
    }
   ],
   "source": [
    "pw1.students_details()"
   ]
  },
  {
   "cell_type": "code",
   "execution_count": 8,
   "id": "1fa9d2ec-0948-498a-b993-09c611727899",
   "metadata": {},
   "outputs": [],
   "source": [
    "class pwskills2:\n",
    "    \n",
    "    mobile_num = 34333092847\n",
    "    \n",
    "    def __init__(self,name,email):\n",
    "        \n",
    "        self.name = name\n",
    "        self.email=email\n",
    "    @classmethod    \n",
    "    def change_num(cls,mobile):\n",
    "        pwskills2.mobile_num = mobile\n",
    "        \n",
    "    @classmethod\n",
    "    def details(cls, name, email):\n",
    "        return cls(name,email)\n",
    "    \n",
    "    def students_details(self):\n",
    "        print(self.name, self.email)"
   ]
  },
  {
   "cell_type": "code",
   "execution_count": 9,
   "id": "8aba538b-2aa7-4fe8-be63-92afb83c2ed3",
   "metadata": {},
   "outputs": [
    {
     "data": {
      "text/plain": [
       "34333092847"
      ]
     },
     "execution_count": 9,
     "metadata": {},
     "output_type": "execute_result"
    }
   ],
   "source": [
    "pwskills2.mobile_num"
   ]
  },
  {
   "cell_type": "code",
   "execution_count": 10,
   "id": "c4a8ab28-2aba-4b44-a1f5-1450095a366a",
   "metadata": {},
   "outputs": [],
   "source": [
    "pwskills2.change_num(63894785532019876)"
   ]
  },
  {
   "cell_type": "code",
   "execution_count": 11,
   "id": "c26111f2-cdff-4888-b994-e89d24da519b",
   "metadata": {},
   "outputs": [
    {
     "data": {
      "text/plain": [
       "63894785532019876"
      ]
     },
     "execution_count": 11,
     "metadata": {},
     "output_type": "execute_result"
    }
   ],
   "source": [
    "pwskills2.mobile_num"
   ]
  },
  {
   "cell_type": "code",
   "execution_count": 12,
   "id": "4577a712-5cae-4b87-8f3c-b117fcfecec8",
   "metadata": {},
   "outputs": [],
   "source": [
    "class pwskills3:\n",
    "    \n",
    "    mobile_num = 34333092847\n",
    "    \n",
    "    def __init__(self,name,email):\n",
    "        \n",
    "        self.name = name\n",
    "        self.email=email\n",
    "    @classmethod    \n",
    "    def change_num(cls,mobile):\n",
    "        pwskills2.mobile_num = mobile\n",
    "        \n",
    "    @classmethod\n",
    "    def details(cls, name, email):\n",
    "        return cls(name,email)\n",
    "    \n",
    "    def students_details(self):\n",
    "        print(self.name, self.email)"
   ]
  },
  {
   "cell_type": "code",
   "execution_count": 13,
   "id": "f40042de-4a84-4e5a-a637-4dc42f896037",
   "metadata": {},
   "outputs": [],
   "source": [
    "def course_details(cls,course_name):\n",
    "    print(\"course name is\", course_name)\n",
    "        "
   ]
  },
  {
   "cell_type": "code",
   "execution_count": 14,
   "id": "121decd4-7e4c-43fc-826a-c37cf61c1e45",
   "metadata": {},
   "outputs": [],
   "source": [
    "pwskills3.course_details = classmethod(course_details)"
   ]
  },
  {
   "cell_type": "code",
   "execution_count": 15,
   "id": "4c9d9c79-478f-429e-b80a-fa045dc751d1",
   "metadata": {},
   "outputs": [
    {
     "name": "stdout",
     "output_type": "stream",
     "text": [
      "course name is data science masters\n"
     ]
    }
   ],
   "source": [
    "pwskills3.course_details(\"data science masters\")"
   ]
  },
  {
   "cell_type": "code",
   "execution_count": 17,
   "id": "814e2d9d-e9dd-4856-9a32-de4fdc23ed8a",
   "metadata": {},
   "outputs": [],
   "source": [
    "def mentor(cls, list_of_mentors):\n",
    "    print(list_of_mentors)"
   ]
  },
  {
   "cell_type": "code",
   "execution_count": 18,
   "id": "47d43754-c2db-435b-976b-e6dc68745014",
   "metadata": {},
   "outputs": [],
   "source": [
    "pwskills3.mentor= classmethod(mentor)"
   ]
  },
  {
   "cell_type": "code",
   "execution_count": 19,
   "id": "5e65ab41-0aa1-4473-9a14-219ac5c0cc08",
   "metadata": {},
   "outputs": [
    {
     "name": "stdout",
     "output_type": "stream",
     "text": [
      "['sudhanshu', 'krish naik']\n"
     ]
    }
   ],
   "source": [
    "pwskills3.mentor([\"sudhanshu\",\"krish naik\"])"
   ]
  },
  {
   "cell_type": "code",
   "execution_count": 21,
   "id": "c89ff601-d8ab-4c2a-ad27-fbb82795ac08",
   "metadata": {},
   "outputs": [],
   "source": [
    "class pwskills4:\n",
    "    \n",
    "    mobile_num = 34333092847\n",
    "    \n",
    "    def __init__(self,name,email):\n",
    "        \n",
    "        self.name = name\n",
    "        self.email=email\n",
    "    @classmethod    \n",
    "    def change_num(cls,mobile):\n",
    "        pwskills2.mobile_num = mobile\n",
    "        \n",
    "    @classmethod\n",
    "    def details(cls, name, email):\n",
    "        return cls(name,email)\n",
    "    \n",
    "    def students_details(self):\n",
    "        print(self.name, self.email)"
   ]
  },
  {
   "cell_type": "code",
   "execution_count": 22,
   "id": "9ee6f9c9-d381-4115-ad18-e8d92635c16b",
   "metadata": {},
   "outputs": [],
   "source": [
    "# To deactivate any function from a given class"
   ]
  },
  {
   "cell_type": "code",
   "execution_count": 23,
   "id": "c1a4d13f-32c9-41c5-af72-52e9a3bf4085",
   "metadata": {},
   "outputs": [],
   "source": [
    "del pwskills4.change_num"
   ]
  },
  {
   "cell_type": "code",
   "execution_count": 24,
   "id": "83ab0305-29bf-4139-803f-4fecbb124c87",
   "metadata": {},
   "outputs": [
    {
     "ename": "AttributeError",
     "evalue": "type object 'pwskills4' has no attribute 'change_num'",
     "output_type": "error",
     "traceback": [
      "\u001b[0;31m---------------------------------------------------------------------------\u001b[0m",
      "\u001b[0;31mAttributeError\u001b[0m                            Traceback (most recent call last)",
      "Cell \u001b[0;32mIn[24], line 1\u001b[0m\n\u001b[0;32m----> 1\u001b[0m \u001b[43mpwskills4\u001b[49m\u001b[38;5;241;43m.\u001b[39;49m\u001b[43mchange_num\u001b[49m(\u001b[38;5;241m23846832434893\u001b[39m)\n",
      "\u001b[0;31mAttributeError\u001b[0m: type object 'pwskills4' has no attribute 'change_num'"
     ]
    }
   ],
   "source": [
    "pwskills4.change_num(23846832434893)"
   ]
  },
  {
   "cell_type": "code",
   "execution_count": 25,
   "id": "fda65af2-8fc2-4113-bab4-5b63a186165f",
   "metadata": {},
   "outputs": [],
   "source": [
    "# Above error shows that change number function is removed by using del function"
   ]
  },
  {
   "cell_type": "code",
   "execution_count": 26,
   "id": "c46c9291-7053-4805-97e9-af47c80651b7",
   "metadata": {},
   "outputs": [],
   "source": [
    "# There is one more way to delete any function by using delattr(class, \"function\")"
   ]
  },
  {
   "cell_type": "code",
   "execution_count": 28,
   "id": "c99aa4a1-5172-4f32-8e65-1500245fba82",
   "metadata": {},
   "outputs": [],
   "source": [
    "delattr(pwskills4, \"details\")"
   ]
  },
  {
   "cell_type": "code",
   "execution_count": 29,
   "id": "830c4e88-c415-47ee-897d-80c7212bb373",
   "metadata": {},
   "outputs": [],
   "source": [
    "# to remove valriable from given class"
   ]
  },
  {
   "cell_type": "code",
   "execution_count": 30,
   "id": "1dd78bb9-0836-4609-8e77-b6cc631baf12",
   "metadata": {},
   "outputs": [],
   "source": [
    "delattr(pwskills4,\"mobile_num\")"
   ]
  },
  {
   "cell_type": "markdown",
   "id": "e4e0909c-5e3f-4f9d-bda7-67ca6be27c8a",
   "metadata": {},
   "source": [
    "# Static Method"
   ]
  },
  {
   "cell_type": "code",
   "execution_count": 13,
   "id": "c8990b59-40b5-4451-8841-e83424c3b1b2",
   "metadata": {},
   "outputs": [],
   "source": [
    "class pwskills:\n",
    "    def student_details(self, name, mail_id , number):\n",
    "        print(name , mail_id, number)\n",
    "        \n",
    "    @staticmethod\n",
    "    def mentor_mail_id(mail_id_memtor):\n",
    "        print(mail_id_memtor)\n",
    "        \n",
    "    @staticmethod\n",
    "    def mentor_class(list_mentor):\n",
    "        pwskills.mentor_mail_id([\"sudh@gmail.com\",\"krish@gmail.com\"])\n",
    "        print(list_mentor)\n",
    "        \n",
    "    @classmethod\n",
    "    def class_name(cls):\n",
    "        cls.mentor_class([\"krish\",\"sudh\"])\n",
    "        \n",
    "        \n",
    "    def mentor(self, mentor_list):\n",
    "        print(mentor_list)\n",
    "        self.mentor_class()"
   ]
  },
  {
   "cell_type": "code",
   "execution_count": 14,
   "id": "ac632e2f-af68-4a9d-b7f3-530c314d3f88",
   "metadata": {},
   "outputs": [
    {
     "name": "stdout",
     "output_type": "stream",
     "text": [
      "['sudh@gmail.com', 'krish@gmail.com']\n",
      "['krish', 'sudh']\n"
     ]
    }
   ],
   "source": [
    "pwskills.mentor_class([\"krish\",\"sudh\"])\n"
   ]
  },
  {
   "cell_type": "markdown",
   "id": "21f9da9f-4e88-41e4-8ce8-2549ba34b31f",
   "metadata": {},
   "source": [
    "# Special (Magic or Dunder) Method"
   ]
  },
  {
   "cell_type": "code",
   "execution_count": 1,
   "id": "68a6ee77-5df2-4b29-8d35-ec1ba2473904",
   "metadata": {},
   "outputs": [
    {
     "data": {
      "text/plain": [
       "['__abs__',\n",
       " '__add__',\n",
       " '__and__',\n",
       " '__bool__',\n",
       " '__ceil__',\n",
       " '__class__',\n",
       " '__delattr__',\n",
       " '__dir__',\n",
       " '__divmod__',\n",
       " '__doc__',\n",
       " '__eq__',\n",
       " '__float__',\n",
       " '__floor__',\n",
       " '__floordiv__',\n",
       " '__format__',\n",
       " '__ge__',\n",
       " '__getattribute__',\n",
       " '__getnewargs__',\n",
       " '__gt__',\n",
       " '__hash__',\n",
       " '__index__',\n",
       " '__init__',\n",
       " '__init_subclass__',\n",
       " '__int__',\n",
       " '__invert__',\n",
       " '__le__',\n",
       " '__lshift__',\n",
       " '__lt__',\n",
       " '__mod__',\n",
       " '__mul__',\n",
       " '__ne__',\n",
       " '__neg__',\n",
       " '__new__',\n",
       " '__or__',\n",
       " '__pos__',\n",
       " '__pow__',\n",
       " '__radd__',\n",
       " '__rand__',\n",
       " '__rdivmod__',\n",
       " '__reduce__',\n",
       " '__reduce_ex__',\n",
       " '__repr__',\n",
       " '__rfloordiv__',\n",
       " '__rlshift__',\n",
       " '__rmod__',\n",
       " '__rmul__',\n",
       " '__ror__',\n",
       " '__round__',\n",
       " '__rpow__',\n",
       " '__rrshift__',\n",
       " '__rshift__',\n",
       " '__rsub__',\n",
       " '__rtruediv__',\n",
       " '__rxor__',\n",
       " '__setattr__',\n",
       " '__sizeof__',\n",
       " '__str__',\n",
       " '__sub__',\n",
       " '__subclasshook__',\n",
       " '__truediv__',\n",
       " '__trunc__',\n",
       " '__xor__',\n",
       " 'as_integer_ratio',\n",
       " 'bit_count',\n",
       " 'bit_length',\n",
       " 'conjugate',\n",
       " 'denominator',\n",
       " 'from_bytes',\n",
       " 'imag',\n",
       " 'numerator',\n",
       " 'real',\n",
       " 'to_bytes']"
      ]
     },
     "execution_count": 1,
     "metadata": {},
     "output_type": "execute_result"
    }
   ],
   "source": [
    "dir(int)"
   ]
  },
  {
   "cell_type": "code",
   "execution_count": 2,
   "id": "dae33f9a-b2e8-4e53-ad80-5383cbad14ba",
   "metadata": {},
   "outputs": [
    {
     "data": {
      "text/plain": [
       "['__add__',\n",
       " '__class__',\n",
       " '__contains__',\n",
       " '__delattr__',\n",
       " '__dir__',\n",
       " '__doc__',\n",
       " '__eq__',\n",
       " '__format__',\n",
       " '__ge__',\n",
       " '__getattribute__',\n",
       " '__getitem__',\n",
       " '__getnewargs__',\n",
       " '__gt__',\n",
       " '__hash__',\n",
       " '__init__',\n",
       " '__init_subclass__',\n",
       " '__iter__',\n",
       " '__le__',\n",
       " '__len__',\n",
       " '__lt__',\n",
       " '__mod__',\n",
       " '__mul__',\n",
       " '__ne__',\n",
       " '__new__',\n",
       " '__reduce__',\n",
       " '__reduce_ex__',\n",
       " '__repr__',\n",
       " '__rmod__',\n",
       " '__rmul__',\n",
       " '__setattr__',\n",
       " '__sizeof__',\n",
       " '__str__',\n",
       " '__subclasshook__',\n",
       " 'capitalize',\n",
       " 'casefold',\n",
       " 'center',\n",
       " 'count',\n",
       " 'encode',\n",
       " 'endswith',\n",
       " 'expandtabs',\n",
       " 'find',\n",
       " 'format',\n",
       " 'format_map',\n",
       " 'index',\n",
       " 'isalnum',\n",
       " 'isalpha',\n",
       " 'isascii',\n",
       " 'isdecimal',\n",
       " 'isdigit',\n",
       " 'isidentifier',\n",
       " 'islower',\n",
       " 'isnumeric',\n",
       " 'isprintable',\n",
       " 'isspace',\n",
       " 'istitle',\n",
       " 'isupper',\n",
       " 'join',\n",
       " 'ljust',\n",
       " 'lower',\n",
       " 'lstrip',\n",
       " 'maketrans',\n",
       " 'partition',\n",
       " 'removeprefix',\n",
       " 'removesuffix',\n",
       " 'replace',\n",
       " 'rfind',\n",
       " 'rindex',\n",
       " 'rjust',\n",
       " 'rpartition',\n",
       " 'rsplit',\n",
       " 'rstrip',\n",
       " 'split',\n",
       " 'splitlines',\n",
       " 'startswith',\n",
       " 'strip',\n",
       " 'swapcase',\n",
       " 'title',\n",
       " 'translate',\n",
       " 'upper',\n",
       " 'zfill']"
      ]
     },
     "execution_count": 2,
     "metadata": {},
     "output_type": "execute_result"
    }
   ],
   "source": [
    "dir(str)"
   ]
  },
  {
   "cell_type": "code",
   "execution_count": 3,
   "id": "d430d3d1-1a7a-443e-a667-eef97ef656e2",
   "metadata": {},
   "outputs": [],
   "source": [
    "a = 100"
   ]
  },
  {
   "cell_type": "code",
   "execution_count": 4,
   "id": "54ffe33c-996c-4f1c-b122-1da9d6604771",
   "metadata": {},
   "outputs": [
    {
     "data": {
      "text/plain": [
       "105"
      ]
     },
     "execution_count": 4,
     "metadata": {},
     "output_type": "execute_result"
    }
   ],
   "source": [
    "a+5"
   ]
  },
  {
   "cell_type": "code",
   "execution_count": 5,
   "id": "e8d9e97a-6f40-41c4-9038-2e7039c99852",
   "metadata": {},
   "outputs": [
    {
     "data": {
      "text/plain": [
       "105"
      ]
     },
     "execution_count": 5,
     "metadata": {},
     "output_type": "execute_result"
    }
   ],
   "source": [
    "a.__add__(5)"
   ]
  },
  {
   "cell_type": "code",
   "execution_count": 6,
   "id": "5b8c35cc-8ef8-4338-a423-6d9707bcaec8",
   "metadata": {},
   "outputs": [],
   "source": [
    "class pwskills:\n",
    "    \n",
    "    def __init__(self):\n",
    "        \n",
    "        self.mobile_number = 912342345"
   ]
  },
  {
   "cell_type": "code",
   "execution_count": 7,
   "id": "f8ac0bf8-081f-4529-82f6-220487d7a9eb",
   "metadata": {},
   "outputs": [],
   "source": [
    "pw = pwskills()"
   ]
  },
  {
   "cell_type": "code",
   "execution_count": 8,
   "id": "75f12c54-992c-4dfc-9a10-5a10024e9385",
   "metadata": {},
   "outputs": [
    {
     "data": {
      "text/plain": [
       "912342345"
      ]
     },
     "execution_count": 8,
     "metadata": {},
     "output_type": "execute_result"
    }
   ],
   "source": [
    "pw.mobile_number"
   ]
  },
  {
   "cell_type": "code",
   "execution_count": 9,
   "id": "acbb2e18-c1dd-4c85-8a3d-383131b3fc36",
   "metadata": {},
   "outputs": [],
   "source": [
    "# dunder function __new__ usually calls out before __init__ function and it helps in creating instance function"
   ]
  },
  {
   "cell_type": "code",
   "execution_count": 14,
   "id": "a38a7478-c536-4014-ad5e-800a23f13d5b",
   "metadata": {},
   "outputs": [],
   "source": [
    "class pwskills:\n",
    "    \n",
    "    #def__new__(cls):\n",
    "    \n",
    "    \n",
    "    def __init__(self):\n",
    "        print(\"This is my init function\")\n",
    "        \n",
    "        self.mobile_number = 912342345"
   ]
  },
  {
   "cell_type": "code",
   "execution_count": 15,
   "id": "c40e2e8c-cb6c-44b5-8b8b-4fd93171404b",
   "metadata": {},
   "outputs": [
    {
     "name": "stdout",
     "output_type": "stream",
     "text": [
      "This is my init function\n"
     ]
    }
   ],
   "source": [
    "pw = pwskills()"
   ]
  },
  {
   "cell_type": "code",
   "execution_count": 16,
   "id": "9bdb9494-f810-478d-ada0-caf4a9bbfb62",
   "metadata": {},
   "outputs": [],
   "source": [
    "class pwskills:\n",
    "    \n",
    "    def __new__(cls):\n",
    "        print(\"This is my new\")\n",
    "    \n",
    "    \n",
    "    def __init__(self):\n",
    "        print(\"This is my init function\")\n",
    "        \n",
    "        self.mobile_number = 912342345"
   ]
  },
  {
   "cell_type": "code",
   "execution_count": 17,
   "id": "d7e05823-1818-40b1-b39b-7cb1a6efaf08",
   "metadata": {},
   "outputs": [
    {
     "name": "stdout",
     "output_type": "stream",
     "text": [
      "This is my new\n"
     ]
    }
   ],
   "source": [
    "pw = pwskills()"
   ]
  },
  {
   "cell_type": "code",
   "execution_count": 18,
   "id": "982334d8-0a07-4192-ae87-8c92c7ae1807",
   "metadata": {},
   "outputs": [],
   "source": [
    "# so in above eamplet it is clea that __new__ dunder calls out beofre __init__ dunder"
   ]
  },
  {
   "cell_type": "code",
   "execution_count": 21,
   "id": "bb1910c7-568c-4277-b5ba-5f5adc0e3a35",
   "metadata": {},
   "outputs": [],
   "source": [
    "class pwskills1:\n",
    "    \n",
    "    \n",
    "    def __init__(self):\n",
    "        \n",
    "        self.mobile_number = 912342345"
   ]
  },
  {
   "cell_type": "code",
   "execution_count": 22,
   "id": "2f392a61-e9f4-461c-a79e-220ba0fdfd2d",
   "metadata": {},
   "outputs": [],
   "source": [
    "pw1 = pwskills1()"
   ]
  },
  {
   "cell_type": "code",
   "execution_count": 23,
   "id": "8b443204-db2f-467f-b1e8-27950226a78a",
   "metadata": {},
   "outputs": [
    {
     "data": {
      "text/plain": [
       "<__main__.pwskills1 at 0x7f44fc76de70>"
      ]
     },
     "execution_count": 23,
     "metadata": {},
     "output_type": "execute_result"
    }
   ],
   "source": [
    "pw1"
   ]
  },
  {
   "cell_type": "code",
   "execution_count": 24,
   "id": "7eeed242-9dbc-4fd6-95ae-141515c27f2f",
   "metadata": {},
   "outputs": [
    {
     "name": "stdout",
     "output_type": "stream",
     "text": [
      "<__main__.pwskills1 object at 0x7f44fc76de70>\n"
     ]
    }
   ],
   "source": [
    "print(pw1)"
   ]
  },
  {
   "cell_type": "code",
   "execution_count": 25,
   "id": "d4a41d14-902d-488c-9b9d-1c9442026ba0",
   "metadata": {},
   "outputs": [],
   "source": [
    "# If we want to show some string in place hexagonal destination "
   ]
  },
  {
   "cell_type": "code",
   "execution_count": 27,
   "id": "f9b3ddf6-16f7-4b57-a774-03686c58a1d1",
   "metadata": {},
   "outputs": [],
   "source": [
    "class pwskills2:\n",
    "    \n",
    "    \n",
    "    def __init__(self):\n",
    "    \n",
    "        self.mobile_number = 912342345\n",
    "    \n",
    "    def __str__(self):\n",
    "        return \"This is my magic call of string\"\n",
    "        "
   ]
  },
  {
   "cell_type": "code",
   "execution_count": 28,
   "id": "ef379962-53b0-469a-a5f9-ebaaf1d1dafd",
   "metadata": {},
   "outputs": [],
   "source": [
    "pw2=pwskills2()"
   ]
  },
  {
   "cell_type": "code",
   "execution_count": 29,
   "id": "7cdcb3dd-483f-4b89-bff1-0ebd4b669dbd",
   "metadata": {},
   "outputs": [
    {
     "data": {
      "text/plain": [
       "<__main__.pwskills2 at 0x7f450c0f6680>"
      ]
     },
     "execution_count": 29,
     "metadata": {},
     "output_type": "execute_result"
    }
   ],
   "source": [
    "pw2"
   ]
  },
  {
   "cell_type": "code",
   "execution_count": 30,
   "id": "6b7d0da8-d180-4270-a0ca-902ba8c43658",
   "metadata": {},
   "outputs": [
    {
     "name": "stdout",
     "output_type": "stream",
     "text": [
      "This is my magic call of string\n"
     ]
    }
   ],
   "source": [
    "print(pw2)"
   ]
  },
  {
   "cell_type": "code",
   "execution_count": 31,
   "id": "29cf15c8-5f7e-4133-a50f-73dde1ea78ca",
   "metadata": {},
   "outputs": [],
   "source": [
    "# Note : We generally don't call out magical or dunder function as system internally calls it out as and when required "
   ]
  },
  {
   "cell_type": "markdown",
   "id": "92bd3c58-26f5-498d-8c2a-5018b5d76abd",
   "metadata": {},
   "source": [
    "# Property Decorators - Getters, Setters, And Deletes"
   ]
  },
  {
   "cell_type": "code",
   "execution_count": 32,
   "id": "9977fd56-f079-4347-a878-2cddeb7cc0aa",
   "metadata": {},
   "outputs": [],
   "source": [
    "#  if any varible is defined with singlr underscore then it is protected and if it is defined with double underscore then it is private "
   ]
  },
  {
   "cell_type": "code",
   "execution_count": 33,
   "id": "e42a7bf0-6dcc-4d94-9a90-20fabd86dcaa",
   "metadata": {},
   "outputs": [],
   "source": [
    "class pwskills:\n",
    "    \n",
    "    def __init__(self, course_price, course_name):\n",
    "        \n",
    "        self.__course_price = course_price\n",
    "        self.course_name = course_name"
   ]
  },
  {
   "cell_type": "code",
   "execution_count": 35,
   "id": "682b9d74-d9c0-48d2-a64a-8e54f900839b",
   "metadata": {},
   "outputs": [],
   "source": [
    "pw = pwskills(3500, \"data science masters\")"
   ]
  },
  {
   "cell_type": "code",
   "execution_count": 37,
   "id": "e34d8a75-0e0b-4751-9e4d-9cc2d98f2ae3",
   "metadata": {},
   "outputs": [
    {
     "data": {
      "text/plain": [
       "'data science masters'"
      ]
     },
     "execution_count": 37,
     "metadata": {},
     "output_type": "execute_result"
    }
   ],
   "source": [
    "pw.course_name"
   ]
  },
  {
   "cell_type": "code",
   "execution_count": 38,
   "id": "cdf70531-81ba-4a7a-9ad9-e929815cf27a",
   "metadata": {},
   "outputs": [
    {
     "ename": "AttributeError",
     "evalue": "'pwskills' object has no attribute '__course_price'",
     "output_type": "error",
     "traceback": [
      "\u001b[0;31m---------------------------------------------------------------------------\u001b[0m",
      "\u001b[0;31mAttributeError\u001b[0m                            Traceback (most recent call last)",
      "Cell \u001b[0;32mIn[38], line 1\u001b[0m\n\u001b[0;32m----> 1\u001b[0m \u001b[43mpw\u001b[49m\u001b[38;5;241;43m.\u001b[39;49m\u001b[43m__course_price\u001b[49m\n",
      "\u001b[0;31mAttributeError\u001b[0m: 'pwskills' object has no attribute '__course_price'"
     ]
    }
   ],
   "source": [
    "pw.__course_price"
   ]
  },
  {
   "cell_type": "code",
   "execution_count": 39,
   "id": "57fda89c-6a7c-4a30-bd0e-39c0c044cfca",
   "metadata": {},
   "outputs": [],
   "source": [
    "# here we are getting error because because double underscore is applied befoe course_price , hence it is acting as private\n",
    "# in order to call out private function , we will need to call out class first"
   ]
  },
  {
   "cell_type": "code",
   "execution_count": 40,
   "id": "93670607-49ad-4c3a-af35-374f56a4fd9d",
   "metadata": {},
   "outputs": [
    {
     "data": {
      "text/plain": [
       "3500"
      ]
     },
     "execution_count": 40,
     "metadata": {},
     "output_type": "execute_result"
    }
   ],
   "source": [
    "pw._pwskills__course_price"
   ]
  },
  {
   "cell_type": "code",
   "execution_count": null,
   "id": "85735c85-ea86-4417-84e6-8da7a3fdc556",
   "metadata": {},
   "outputs": [],
   "source": [
    "# In order to provide user access to the private function "
   ]
  },
  {
   "cell_type": "code",
   "execution_count": 5,
   "id": "42c88cb6-6099-4f59-bbc5-929f3af10df2",
   "metadata": {},
   "outputs": [],
   "source": [
    "class pwskills:\n",
    "    \n",
    "    def __init__(self, course_price, course_name):\n",
    "        \n",
    "        self.__course_price = course_price\n",
    "        self.course_name = course_name\n",
    "   # giving access to see the instances/variable ->     \n",
    "    @property\n",
    "    def course_price_access(self):\n",
    "        return self.__course_price\n",
    "    \n",
    "    "
   ]
  },
  {
   "cell_type": "code",
   "execution_count": 6,
   "id": "1bb76452-bbce-4bde-beb5-40f3ce3c4ca1",
   "metadata": {},
   "outputs": [],
   "source": [
    "pw = pwskills(3500,\"data science masters\")"
   ]
  },
  {
   "cell_type": "code",
   "execution_count": 7,
   "id": "ef89cc4f-4a3f-48fb-875e-f6147181baf2",
   "metadata": {},
   "outputs": [
    {
     "data": {
      "text/plain": [
       "3500"
      ]
     },
     "execution_count": 7,
     "metadata": {},
     "output_type": "execute_result"
    }
   ],
   "source": [
    "pw.course_price_access"
   ]
  },
  {
   "cell_type": "code",
   "execution_count": 52,
   "id": "aaf8e7c3-b172-4009-879a-7e567131ed97",
   "metadata": {},
   "outputs": [],
   "source": [
    "class pwskills1:\n",
    "    \n",
    "    def __init__(self, course_price, course_name):\n",
    "        \n",
    "        self.__course_price = course_price\n",
    "        self.course_name = course_name\n",
    "   # giving access to see the instances/variable ->     \n",
    "    @property\n",
    "    def course_price_access(self):\n",
    "        return self.__course_price\n",
    "\n",
    "    # giving acces to change the instance value \n",
    "    \n",
    "    @course_price_access.setter\n",
    "    def course_price_set(self, price):\n",
    "        if price <= 3500:\n",
    "            pass\n",
    "        else:\n",
    "            self.__course_price = price\n",
    "            \n",
    "    # giving access to delete the instance ->\n",
    "    \n",
    "    @course_price_access.deleter\n",
    "    def delete_course_price(self):\n",
    "        del self.__course_price"
   ]
  },
  {
   "cell_type": "code",
   "execution_count": 53,
   "id": "dffdf2b5-65ef-49fc-b595-71fb09e8d4fc",
   "metadata": {},
   "outputs": [],
   "source": [
    "pw = pwskills1(3500, \"Data Science Masters\")"
   ]
  },
  {
   "cell_type": "code",
   "execution_count": 54,
   "id": "5563bfa4-d421-4755-a7ae-f6c0b1cf67ae",
   "metadata": {},
   "outputs": [
    {
     "data": {
      "text/plain": [
       "3500"
      ]
     },
     "execution_count": 54,
     "metadata": {},
     "output_type": "execute_result"
    }
   ],
   "source": [
    "pw.course_price_access"
   ]
  },
  {
   "cell_type": "code",
   "execution_count": 55,
   "id": "1eda2a7f-05c9-4117-a657-45d717725b25",
   "metadata": {},
   "outputs": [],
   "source": [
    "# to delete the function \n",
    "\n",
    "del pw.delete_course_price"
   ]
  },
  {
   "cell_type": "code",
   "execution_count": 56,
   "id": "0320fd7f-03bc-4b51-89ea-f16f95be79b1",
   "metadata": {},
   "outputs": [
    {
     "ename": "AttributeError",
     "evalue": "'pwskills1' object has no attribute '_pwskills1__course_price'",
     "output_type": "error",
     "traceback": [
      "\u001b[0;31m---------------------------------------------------------------------------\u001b[0m",
      "\u001b[0;31mAttributeError\u001b[0m                            Traceback (most recent call last)",
      "Cell \u001b[0;32mIn[56], line 1\u001b[0m\n\u001b[0;32m----> 1\u001b[0m \u001b[43mpw\u001b[49m\u001b[38;5;241;43m.\u001b[39;49m\u001b[43mcourse_price_access\u001b[49m\n",
      "Cell \u001b[0;32mIn[52], line 10\u001b[0m, in \u001b[0;36mpwskills1.course_price_access\u001b[0;34m(self)\u001b[0m\n\u001b[1;32m      8\u001b[0m \u001b[38;5;129m@property\u001b[39m\n\u001b[1;32m      9\u001b[0m \u001b[38;5;28;01mdef\u001b[39;00m \u001b[38;5;21mcourse_price_access\u001b[39m(\u001b[38;5;28mself\u001b[39m):\n\u001b[0;32m---> 10\u001b[0m     \u001b[38;5;28;01mreturn\u001b[39;00m \u001b[38;5;28;43mself\u001b[39;49m\u001b[38;5;241;43m.\u001b[39;49m\u001b[43m__course_price\u001b[49m\n",
      "\u001b[0;31mAttributeError\u001b[0m: 'pwskills1' object has no attribute '_pwskills1__course_price'"
     ]
    }
   ],
   "source": [
    "pw.course_price_access"
   ]
  },
  {
   "cell_type": "code",
   "execution_count": null,
   "id": "a4fa9a69-3201-4ab9-9632-7b33fece85c4",
   "metadata": {},
   "outputs": [],
   "source": []
  }
 ],
 "metadata": {
  "kernelspec": {
   "display_name": "Python 3 (ipykernel)",
   "language": "python",
   "name": "python3"
  },
  "language_info": {
   "codemirror_mode": {
    "name": "ipython",
    "version": 3
   },
   "file_extension": ".py",
   "mimetype": "text/x-python",
   "name": "python",
   "nbconvert_exporter": "python",
   "pygments_lexer": "ipython3",
   "version": "3.10.8"
  }
 },
 "nbformat": 4,
 "nbformat_minor": 5
}
