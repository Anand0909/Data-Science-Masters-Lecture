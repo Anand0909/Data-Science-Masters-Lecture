{
 "cells": [
  {
   "cell_type": "code",
   "execution_count": 30,
   "id": "2c1f823d-4f5d-48f5-ab09-69f4f243b691",
   "metadata": {},
   "outputs": [],
   "source": [
    "def test():\n",
    "    print(\"This is my first function\") "
   ]
  },
  {
   "cell_type": "code",
   "execution_count": 31,
   "id": "20778958-7921-4aab-864c-736d54732115",
   "metadata": {},
   "outputs": [
    {
     "name": "stdout",
     "output_type": "stream",
     "text": [
      "This is my first function\n"
     ]
    }
   ],
   "source": [
    "test()"
   ]
  },
  {
   "cell_type": "code",
   "execution_count": 32,
   "id": "53100133-fde4-4262-bdba-ef4f5081a63e",
   "metadata": {},
   "outputs": [
    {
     "name": "stdout",
     "output_type": "stream",
     "text": [
      "This is my first function\n"
     ]
    },
    {
     "data": {
      "text/plain": [
       "NoneType"
      ]
     },
     "execution_count": 32,
     "metadata": {},
     "output_type": "execute_result"
    }
   ],
   "source": [
    "type(test())"
   ]
  },
  {
   "cell_type": "code",
   "execution_count": 33,
   "id": "e831ed7d-7fa2-4d6c-be3e-6f4ca1a13070",
   "metadata": {},
   "outputs": [
    {
     "name": "stdout",
     "output_type": "stream",
     "text": [
      "This is my first function\n"
     ]
    },
    {
     "ename": "TypeError",
     "evalue": "unsupported operand type(s) for +: 'NoneType' and 'str'",
     "output_type": "error",
     "traceback": [
      "\u001b[0;31m---------------------------------------------------------------------------\u001b[0m",
      "\u001b[0;31mTypeError\u001b[0m                                 Traceback (most recent call last)",
      "Cell \u001b[0;32mIn[33], line 1\u001b[0m\n\u001b[0;32m----> 1\u001b[0m \u001b[43mtest\u001b[49m\u001b[43m(\u001b[49m\u001b[43m)\u001b[49m\u001b[38;5;241;43m+\u001b[39;49m\u001b[38;5;124;43m\"\u001b[39;49m\u001b[38;5;124;43manand\u001b[39;49m\u001b[38;5;124;43m\"\u001b[39;49m\n",
      "\u001b[0;31mTypeError\u001b[0m: unsupported operand type(s) for +: 'NoneType' and 'str'"
     ]
    }
   ],
   "source": [
    "test()+\"anand\""
   ]
  },
  {
   "cell_type": "code",
   "execution_count": 34,
   "id": "36273538-ecef-4ef4-adcf-e7dde499f692",
   "metadata": {},
   "outputs": [],
   "source": [
    "def test1():\n",
    "    return(\"This is my first return\")"
   ]
  },
  {
   "cell_type": "code",
   "execution_count": 35,
   "id": "efb8d152-f62d-4edd-9a9c-e917b0900e3a",
   "metadata": {},
   "outputs": [
    {
     "data": {
      "text/plain": [
       "'This is my first return'"
      ]
     },
     "execution_count": 35,
     "metadata": {},
     "output_type": "execute_result"
    }
   ],
   "source": [
    "test1()"
   ]
  },
  {
   "cell_type": "code",
   "execution_count": 36,
   "id": "1e166065-742d-4e20-aa7d-cc31452d36b6",
   "metadata": {},
   "outputs": [
    {
     "data": {
      "text/plain": [
       "str"
      ]
     },
     "execution_count": 36,
     "metadata": {},
     "output_type": "execute_result"
    }
   ],
   "source": [
    "type(test1())"
   ]
  },
  {
   "cell_type": "code",
   "execution_count": 37,
   "id": "720f0a84-9896-4312-83c6-73a77e47b146",
   "metadata": {},
   "outputs": [],
   "source": [
    "#return will provide same data type same as already used in fuction defined , while print given data type : 'NonType'"
   ]
  },
  {
   "cell_type": "code",
   "execution_count": 38,
   "id": "888cf62b-2373-46b8-860a-6676607fe376",
   "metadata": {},
   "outputs": [
    {
     "data": {
      "text/plain": [
       "'This is my first return Anand'"
      ]
     },
     "execution_count": 38,
     "metadata": {},
     "output_type": "execute_result"
    }
   ],
   "source": [
    "test1()+\" Anand\""
   ]
  },
  {
   "cell_type": "code",
   "execution_count": 39,
   "id": "a04eda59-c320-4b1e-ac4d-1aa7c11f5491",
   "metadata": {},
   "outputs": [],
   "source": [
    "def test3():\n",
    "    return \"anand\", 4, 23.56, [1,2,3,4,5], {\"Anand\":1,\"Shankar\":2,\"Chaubey\":3}"
   ]
  },
  {
   "cell_type": "code",
   "execution_count": 40,
   "id": "be2ddddb-87b5-4c1d-85cf-2cd9f926a9e7",
   "metadata": {},
   "outputs": [
    {
     "data": {
      "text/plain": [
       "('anand', 4, 23.56, [1, 2, 3, 4, 5], {'Anand': 1, 'Shankar': 2, 'Chaubey': 3})"
      ]
     },
     "execution_count": 40,
     "metadata": {},
     "output_type": "execute_result"
    }
   ],
   "source": [
    "test3()"
   ]
  },
  {
   "cell_type": "code",
   "execution_count": 41,
   "id": "de085728-3f15-4810-ae94-955563b1d989",
   "metadata": {},
   "outputs": [],
   "source": [
    "# here return will provide all the element in their original data type, all combined in a tuple"
   ]
  },
  {
   "cell_type": "code",
   "execution_count": 42,
   "id": "6871de55-c469-488b-b877-5a34a7eea28c",
   "metadata": {},
   "outputs": [],
   "source": [
    "a,b,c,d,e = test3()\n",
    "\n",
    "# it is same as varible declaration "
   ]
  },
  {
   "cell_type": "code",
   "execution_count": 43,
   "id": "05015a00-2472-499e-bbb0-80acf4501a4b",
   "metadata": {},
   "outputs": [
    {
     "data": {
      "text/plain": [
       "'anand'"
      ]
     },
     "execution_count": 43,
     "metadata": {},
     "output_type": "execute_result"
    }
   ],
   "source": [
    "a"
   ]
  },
  {
   "cell_type": "code",
   "execution_count": 44,
   "id": "b9cad5a7-b7c3-40d2-9cd5-53fb5a6cd7be",
   "metadata": {},
   "outputs": [
    {
     "data": {
      "text/plain": [
       "4"
      ]
     },
     "execution_count": 44,
     "metadata": {},
     "output_type": "execute_result"
    }
   ],
   "source": [
    "b"
   ]
  },
  {
   "cell_type": "code",
   "execution_count": 45,
   "id": "b4ce1e37-e9ff-4f46-915d-a12a676635e2",
   "metadata": {},
   "outputs": [
    {
     "data": {
      "text/plain": [
       "23.56"
      ]
     },
     "execution_count": 45,
     "metadata": {},
     "output_type": "execute_result"
    }
   ],
   "source": [
    "c"
   ]
  },
  {
   "cell_type": "code",
   "execution_count": 46,
   "id": "d61966f5-ecba-406d-a546-befef24aa495",
   "metadata": {},
   "outputs": [
    {
     "data": {
      "text/plain": [
       "[1, 2, 3, 4, 5]"
      ]
     },
     "execution_count": 46,
     "metadata": {},
     "output_type": "execute_result"
    }
   ],
   "source": [
    "d"
   ]
  },
  {
   "cell_type": "code",
   "execution_count": 47,
   "id": "e11c118b-44c6-4994-b01d-d487161dd30c",
   "metadata": {},
   "outputs": [
    {
     "data": {
      "text/plain": [
       "{'Anand': 1, 'Shankar': 2, 'Chaubey': 3}"
      ]
     },
     "execution_count": 47,
     "metadata": {},
     "output_type": "execute_result"
    }
   ],
   "source": [
    "e"
   ]
  },
  {
   "cell_type": "code",
   "execution_count": 48,
   "id": "d9980273-f73f-4c26-86bd-f8981cff9aba",
   "metadata": {},
   "outputs": [],
   "source": [
    "def test4():\n",
    "    a = 3/45+2\n",
    "    return a"
   ]
  },
  {
   "cell_type": "code",
   "execution_count": 49,
   "id": "aafa201d-2560-4a3e-b2b8-4b8ce78ba44a",
   "metadata": {},
   "outputs": [
    {
     "data": {
      "text/plain": [
       "2.066666666666667"
      ]
     },
     "execution_count": 49,
     "metadata": {},
     "output_type": "execute_result"
    }
   ],
   "source": [
    "test4()"
   ]
  },
  {
   "cell_type": "code",
   "execution_count": 50,
   "id": "b4af69fa-2bfc-4b19-a499-8eaad0f673aa",
   "metadata": {},
   "outputs": [],
   "source": [
    "def test5(a,b,c):\n",
    "    d = a/b+c\n",
    "    return d"
   ]
  },
  {
   "cell_type": "code",
   "execution_count": 51,
   "id": "96fab255-5cf0-4381-a9fb-a696cfcc4f4e",
   "metadata": {},
   "outputs": [
    {
     "ename": "TypeError",
     "evalue": "test5() missing 3 required positional arguments: 'a', 'b', and 'c'",
     "output_type": "error",
     "traceback": [
      "\u001b[0;31m---------------------------------------------------------------------------\u001b[0m",
      "\u001b[0;31mTypeError\u001b[0m                                 Traceback (most recent call last)",
      "Cell \u001b[0;32mIn[51], line 1\u001b[0m\n\u001b[0;32m----> 1\u001b[0m \u001b[43mtest5\u001b[49m\u001b[43m(\u001b[49m\u001b[43m)\u001b[49m\n",
      "\u001b[0;31mTypeError\u001b[0m: test5() missing 3 required positional arguments: 'a', 'b', and 'c'"
     ]
    }
   ],
   "source": [
    "test5()"
   ]
  },
  {
   "cell_type": "code",
   "execution_count": 52,
   "id": "e75d74a0-c770-4774-a00f-75236b5e7511",
   "metadata": {},
   "outputs": [],
   "source": [
    "# Here it is showing error in test5(), because test5() was created with arrgument a,b,c and while we call test5() , we have not provided the valid arrgument value"
   ]
  },
  {
   "cell_type": "code",
   "execution_count": 53,
   "id": "9c83730e-0d28-4749-9fee-8074d0664907",
   "metadata": {},
   "outputs": [
    {
     "data": {
      "text/plain": [
       "2.066666666666667"
      ]
     },
     "execution_count": 53,
     "metadata": {},
     "output_type": "execute_result"
    }
   ],
   "source": [
    "test5(3,45,2)"
   ]
  },
  {
   "cell_type": "code",
   "execution_count": 54,
   "id": "4a5e7905-20d1-436b-99f9-157981f73a7d",
   "metadata": {},
   "outputs": [
    {
     "data": {
      "text/plain": [
       "True"
      ]
     },
     "execution_count": 54,
     "metadata": {},
     "output_type": "execute_result"
    }
   ],
   "source": [
    "test4()==test5(3,45,2)"
   ]
  },
  {
   "cell_type": "code",
   "execution_count": 55,
   "id": "1bfb6f9b-41e7-443d-a139-ba8318b05a9c",
   "metadata": {},
   "outputs": [],
   "source": [
    "def test6(a,b):\n",
    "    return a+b"
   ]
  },
  {
   "cell_type": "code",
   "execution_count": 56,
   "id": "1f470c07-f298-4944-9a27-dfd8d1ed1617",
   "metadata": {},
   "outputs": [
    {
     "data": {
      "text/plain": [
       "7"
      ]
     },
     "execution_count": 56,
     "metadata": {},
     "output_type": "execute_result"
    }
   ],
   "source": [
    "test6(3,4)"
   ]
  },
  {
   "cell_type": "code",
   "execution_count": 57,
   "id": "2fbd72d4-a56f-4008-8e47-854e54200a5c",
   "metadata": {},
   "outputs": [
    {
     "data": {
      "text/plain": [
       "'AnandChaubey'"
      ]
     },
     "execution_count": 57,
     "metadata": {},
     "output_type": "execute_result"
    }
   ],
   "source": [
    "test6(\"Anand\",\"Chaubey\")"
   ]
  },
  {
   "cell_type": "code",
   "execution_count": 58,
   "id": "2f72d267-4132-4136-bdbe-412a79b19ed8",
   "metadata": {},
   "outputs": [
    {
     "data": {
      "text/plain": [
       "[1, 2, 3, 4, 5, 6, 7, 8, 9]"
      ]
     },
     "execution_count": 58,
     "metadata": {},
     "output_type": "execute_result"
    }
   ],
   "source": [
    "test6 ([1,2,3,4,5,6],[7,8,9])"
   ]
  },
  {
   "cell_type": "code",
   "execution_count": 59,
   "id": "9900e081-a4b1-473d-bf8d-23b3ef1cea2c",
   "metadata": {},
   "outputs": [
    {
     "data": {
      "text/plain": [
       "[1, 2, 3, 4, 5, 6]"
      ]
     },
     "execution_count": 59,
     "metadata": {},
     "output_type": "execute_result"
    }
   ],
   "source": [
    "#write a function which can pull all the integer from a given list and store in diff list:\n",
    "\n",
    "l = [1,2,3,4,5,6,\"anand\",\"chaubey\",[1,2,3,4,5,6,7,8,9,10]]\n",
    "\n",
    "#Medhod 1 : without usin function :\n",
    "l1=[]\n",
    "\n",
    "for i in (l):\n",
    "    if type(i)==int or type(i)==float:\n",
    "        l1.append(i)\n",
    "l1  "
   ]
  },
  {
   "cell_type": "code",
   "execution_count": 1,
   "id": "ac1f4b82-3655-4c72-84f9-14baf22a08ca",
   "metadata": {},
   "outputs": [],
   "source": [
    "l = [1,2,3,4,5,6,\"anand\",\"chaubey\",[1,2,3,4,5,6,7,8,9,10]]\n",
    "\n",
    "#Medhod 1 : with using function :\n",
    "def test(l):\n",
    "    l1=[]\n",
    "    for i in (l):\n",
    "        if type(i)==int or type(i)==float:\n",
    "            l1.append(i)\n",
    "    return l1"
   ]
  },
  {
   "cell_type": "code",
   "execution_count": 2,
   "id": "179c156d-1e5f-4ad7-83de-755ad6e2aa52",
   "metadata": {},
   "outputs": [
    {
     "data": {
      "text/plain": [
       "[1, 2, 3, 4, 5, 6]"
      ]
     },
     "execution_count": 2,
     "metadata": {},
     "output_type": "execute_result"
    }
   ],
   "source": [
    "test(l)"
   ]
  },
  {
   "cell_type": "raw",
   "id": "ad9587b3-7cac-476d-8a8b-ff04033875bc",
   "metadata": {},
   "source": [
    "Here diff between using function and normal for loop : function we can use for any list /grouping and can be called for multiple time . While for loop has to be written seprately for each list/grouping"
   ]
  },
  {
   "cell_type": "code",
   "execution_count": 3,
   "id": "9ce79dfc-01b8-4246-897c-6f14ed7e01b2",
   "metadata": {},
   "outputs": [],
   "source": [
    "l1=[]\n",
    "\n",
    "def test(a):\n",
    "    for i in a:\n",
    "        if type(i) == list:\n",
    "            for j in i:\n",
    "                if type(j)==int or type(j)==float:\n",
    "                    l1.append(j)\n",
    "        if type(i) == int or type(i) == float:\n",
    "            l1.append(i)\n",
    "    return (l1)"
   ]
  },
  {
   "cell_type": "code",
   "execution_count": 4,
   "id": "1fa77e75-71d9-4982-b0d2-c5a116fefc0f",
   "metadata": {},
   "outputs": [],
   "source": [
    "l = [1,2,3,4,5,6,\"anand\",\"chaubey\",[1,2,3,4,5,6,7,8,9,10]]"
   ]
  },
  {
   "cell_type": "code",
   "execution_count": 5,
   "id": "be3c3776-788d-44a7-85e0-7f4106bc44bf",
   "metadata": {},
   "outputs": [
    {
     "data": {
      "text/plain": [
       "[1, 2, 3, 4, 5, 6, 1, 2, 3, 4, 5, 6, 7, 8, 9, 10]"
      ]
     },
     "execution_count": 5,
     "metadata": {},
     "output_type": "execute_result"
    }
   ],
   "source": [
    "test(l)"
   ]
  },
  {
   "cell_type": "code",
   "execution_count": 6,
   "id": "6c4383b0-055c-49df-b4b0-79e4517f4bc0",
   "metadata": {},
   "outputs": [
    {
     "name": "stdout",
     "output_type": "stream",
     "text": [
      "[1, 2, 3, 4, 5, 6, 1, 2, 3, 4, 5, 6, 7, 8, 9, 10]\n"
     ]
    }
   ],
   "source": [
    "def test(a):\n",
    "    l1 = []\n",
    "    for i in a:\n",
    "        if type(i) == list:\n",
    "            for j in i:\n",
    "                if type(j) == int or type(j) == float:\n",
    "                    l1.append(j)\n",
    "        elif type(i) == int or type(i) == float:\n",
    "            l1.append(i)\n",
    "    return l1\n",
    "\n",
    "l = [1, 2, 3, 4, 5, 6, 'anand', 'chaubey', [1, 2, 3, 4, 5, 6, 7, 8, 9, 10, \"shankar\"]]\n",
    "result = test(l)\n",
    "print(result)"
   ]
  },
  {
   "cell_type": "raw",
   "id": "72911d4c-90a3-4ca6-8fdf-471f0c5ed3f9",
   "metadata": {},
   "source": [
    "# to get the docstring about defined function \n",
    "after calling the functon , define docstring in triple quote (\"\"\" \"\"\"), it will works \n",
    "It is an standard function to write docstring for each function so that everybody can understand what is the working of the definned function\n"
   ]
  },
  {
   "cell_type": "code",
   "execution_count": 7,
   "id": "1bf0e141-c2d1-4d3d-9afc-8d2fc2868da3",
   "metadata": {},
   "outputs": [
    {
     "name": "stdout",
     "output_type": "stream",
     "text": [
      "[1, 2, 3, 4, 5, 6, 1, 2, 3, 4, 5, 6, 7, 8, 9, 10]\n"
     ]
    }
   ],
   "source": [
    "def test1(a):\n",
    "    \"\"\" This is my first doc string\"\"\"\n",
    "    l1 = []\n",
    "    for i in a:\n",
    "        if type(i) == list:\n",
    "            for j in i:\n",
    "                if type(j) == int or type(j) == float:\n",
    "                    l1.append(j)\n",
    "        elif type(i) == int or type(i) == float:\n",
    "            l1.append(i)\n",
    "    return l1\n",
    "\n",
    "l = [1, 2, 3, 4, 5, 6, 'anand', 'chaubey', [1, 2, 3, 4, 5, 6, 7, 8, 9, 10, \"shankar\"]]\n",
    "result = test(l)\n",
    "print(result)"
   ]
  },
  {
   "cell_type": "code",
   "execution_count": 8,
   "id": "810d138a-96fd-4006-94fe-4787f9a604a5",
   "metadata": {},
   "outputs": [
    {
     "data": {
      "text/plain": [
       "'Built-in mutable sequence.\\n\\nIf no argument is given, the constructor creates a new empty list.\\nThe argument must be an iterable if specified.'"
      ]
     },
     "execution_count": 8,
     "metadata": {},
     "output_type": "execute_result"
    }
   ],
   "source": [
    "test1(l).__doc__"
   ]
  },
  {
   "cell_type": "raw",
   "id": "012cb76a-73e4-457c-934e-f0573112cca1",
   "metadata": {},
   "source": [
    "In order to get multiple argument for defing function then write (*args) in place of defind function , and in return write args only "
   ]
  },
  {
   "cell_type": "code",
   "execution_count": 9,
   "id": "30771797-26e0-4803-81ee-6a818f7e4df2",
   "metadata": {},
   "outputs": [],
   "source": [
    "def test (*args):\n",
    "    return args"
   ]
  },
  {
   "cell_type": "code",
   "execution_count": 10,
   "id": "d95a18fe-b833-4af5-b059-201fb537724a",
   "metadata": {},
   "outputs": [
    {
     "data": {
      "text/plain": [
       "()"
      ]
     },
     "execution_count": 10,
     "metadata": {},
     "output_type": "execute_result"
    }
   ],
   "source": [
    "test()"
   ]
  },
  {
   "cell_type": "code",
   "execution_count": 12,
   "id": "6bf2e4ea-2fb5-48d8-b904-3fdb09745f89",
   "metadata": {},
   "outputs": [
    {
     "data": {
      "text/plain": [
       "tuple"
      ]
     },
     "execution_count": 12,
     "metadata": {},
     "output_type": "execute_result"
    }
   ],
   "source": [
    "type(test())"
   ]
  },
  {
   "cell_type": "raw",
   "id": "4fc232c0-3123-4da8-8d82-24a2dacfa05b",
   "metadata": {},
   "source": [
    "test(1,2,3,4)"
   ]
  },
  {
   "cell_type": "code",
   "execution_count": 14,
   "id": "0be16e94-c3c0-4342-9c9b-0c4acefaf311",
   "metadata": {},
   "outputs": [
    {
     "data": {
      "text/plain": [
       "(1, 2, 3, 'anand', 'chaubey')"
      ]
     },
     "execution_count": 14,
     "metadata": {},
     "output_type": "execute_result"
    }
   ],
   "source": [
    "test(1,2,3,\"anand\",\"chaubey\")"
   ]
  },
  {
   "cell_type": "raw",
   "id": "f66db98a-2d03-4294-bc2a-6795ee54b216",
   "metadata": {},
   "source": [
    "*args => It means n number of orguments can be passed inside any function \n",
    "note : args is not any key word , so we can use any word in place of args with * for n numbers of arguments in a given function"
   ]
  },
  {
   "cell_type": "code",
   "execution_count": 16,
   "id": "575a911d-e5c8-4c5e-81bd-19f921b6ef15",
   "metadata": {},
   "outputs": [],
   "source": [
    "def test2(*args,a):\n",
    "    return args, a\n"
   ]
  },
  {
   "cell_type": "code",
   "execution_count": 18,
   "id": "073dbf8f-fe89-4c09-b1c3-383409cac71e",
   "metadata": {},
   "outputs": [
    {
     "ename": "TypeError",
     "evalue": "test2() missing 1 required keyword-only argument: 'a'",
     "output_type": "error",
     "traceback": [
      "\u001b[0;31m---------------------------------------------------------------------------\u001b[0m",
      "\u001b[0;31mTypeError\u001b[0m                                 Traceback (most recent call last)",
      "Cell \u001b[0;32mIn[18], line 1\u001b[0m\n\u001b[0;32m----> 1\u001b[0m \u001b[43mtest2\u001b[49m\u001b[43m(\u001b[49m\u001b[38;5;241;43m1\u001b[39;49m\u001b[43m,\u001b[49m\u001b[38;5;241;43m2\u001b[39;49m\u001b[43m,\u001b[49m\u001b[38;5;241;43m3\u001b[39;49m\u001b[43m,\u001b[49m\u001b[38;5;241;43m4\u001b[39;49m\u001b[43m,\u001b[49m\u001b[38;5;241;43m5\u001b[39;49m\u001b[43m)\u001b[49m\n\u001b[1;32m      3\u001b[0m \u001b[38;5;66;03m# It will show error because function is not clear about which elements belongs to *args and which is aginst a in defined function\u001b[39;00m\n",
      "\u001b[0;31mTypeError\u001b[0m: test2() missing 1 required keyword-only argument: 'a'"
     ]
    }
   ],
   "source": [
    "test2(1,2,3,4,5)\n",
    "\n",
    "# It will show error because function is not clear about which elements belongs to *args and which is aginst a in defined function"
   ]
  },
  {
   "cell_type": "code",
   "execution_count": 19,
   "id": "68f1839d-4141-4d5a-a3cc-4ab24cb581f3",
   "metadata": {},
   "outputs": [
    {
     "data": {
      "text/plain": [
       "((1, 2, 3, 4), 5)"
      ]
     },
     "execution_count": 19,
     "metadata": {},
     "output_type": "execute_result"
    }
   ],
   "source": [
    "# to solve the above issue , if we are defining any element other than *args then we need to clerly defined that element for given function \n",
    "\n",
    "test2(1,2,3,4, a = 5)"
   ]
  },
  {
   "cell_type": "code",
   "execution_count": 20,
   "id": "564f065c-12c9-45d0-b595-93b94ba3e329",
   "metadata": {},
   "outputs": [],
   "source": [
    "def test3(c,d,a=23,b=34):\n",
    "    return a,b,c,d"
   ]
  },
  {
   "cell_type": "code",
   "execution_count": 22,
   "id": "fc8100b4-e12d-49e6-9b96-96cc31b9f28a",
   "metadata": {},
   "outputs": [
    {
     "data": {
      "text/plain": [
       "(23, 34, 3, 4)"
      ]
     },
     "execution_count": 22,
     "metadata": {},
     "output_type": "execute_result"
    }
   ],
   "source": [
    "test3(3,4)\n",
    "\n",
    "# here a and b is already defined so it will return the required value"
   ]
  },
  {
   "cell_type": "code",
   "execution_count": 24,
   "id": "13d0de13-9fe5-4434-9fa7-350570f4a9ae",
   "metadata": {},
   "outputs": [
    {
     "data": {
      "text/plain": [
       "(2, 1, 3, 4)"
      ]
     },
     "execution_count": 24,
     "metadata": {},
     "output_type": "execute_result"
    }
   ],
   "source": [
    "test3(3,4,a=2,b=1)\n",
    "\n",
    "# here we are overwriting the defined value of a and b in given function "
   ]
  },
  {
   "cell_type": "raw",
   "id": "b9a5b3f3-a5c9-41a3-9256-ffdb390e7b7f",
   "metadata": {},
   "source": [
    "# to get user input for n number of key value pair \n",
    "\n",
    "if we want n number of arguments in liner form then we will need to use * but in case if user wants n number of key value pair then we will have to use **"
   ]
  },
  {
   "cell_type": "code",
   "execution_count": 25,
   "id": "f586cb15-7c26-4602-968b-a9096472f186",
   "metadata": {},
   "outputs": [],
   "source": [
    "def test4(**kwargs):\n",
    "    return kwargs"
   ]
  },
  {
   "cell_type": "code",
   "execution_count": 26,
   "id": "fa6c0af8-9706-4ec4-a422-9b2fd02426ff",
   "metadata": {},
   "outputs": [
    {
     "data": {
      "text/plain": [
       "{}"
      ]
     },
     "execution_count": 26,
     "metadata": {},
     "output_type": "execute_result"
    }
   ],
   "source": [
    "test4()"
   ]
  },
  {
   "cell_type": "code",
   "execution_count": 27,
   "id": "2f35fdfc-4da8-4f93-b042-673f920718e5",
   "metadata": {},
   "outputs": [
    {
     "data": {
      "text/plain": [
       "dict"
      ]
     },
     "execution_count": 27,
     "metadata": {},
     "output_type": "execute_result"
    }
   ],
   "source": [
    "type(test4())"
   ]
  },
  {
   "cell_type": "code",
   "execution_count": 29,
   "id": "d6af0e29-9536-415f-99fe-72554d0c8447",
   "metadata": {},
   "outputs": [
    {
     "data": {
      "text/plain": [
       "{'a': [1, 2, 3, 4, 5],\n",
       " 'b': ('anand', 'shankar', 'chaubey', 1, 9, 1, 9),\n",
       " 'c': 45,\n",
       " 'd': 23.34,\n",
       " 'e': True}"
      ]
     },
     "execution_count": 29,
     "metadata": {},
     "output_type": "execute_result"
    }
   ],
   "source": [
    "# to fill data in defined function with ** we need to defined key value pair \n",
    "test4(a= [1,2,3,4,5], b=(\"anand\",\"shankar\",\"chaubey\",1,9,1,9), c = 45, d = 23.34, e = True)"
   ]
  },
  {
   "cell_type": "code",
   "execution_count": 30,
   "id": "cc3ff2fc-43b9-41ea-b204-66679c87ba78",
   "metadata": {},
   "outputs": [],
   "source": [
    "# here n number of arguments can be passed when function is defined with ** "
   ]
  },
  {
   "cell_type": "code",
   "execution_count": null,
   "id": "4bd44b87-db6d-40c4-becc-dd53e8e9eab9",
   "metadata": {},
   "outputs": [],
   "source": []
  }
 ],
 "metadata": {
  "kernelspec": {
   "display_name": "Python 3 (ipykernel)",
   "language": "python",
   "name": "python3"
  },
  "language_info": {
   "codemirror_mode": {
    "name": "ipython",
    "version": 3
   },
   "file_extension": ".py",
   "mimetype": "text/x-python",
   "name": "python",
   "nbconvert_exporter": "python",
   "pygments_lexer": "ipython3",
   "version": "3.10.8"
  }
 },
 "nbformat": 4,
 "nbformat_minor": 5
}
