{
  "nbformat": 4,
  "nbformat_minor": 0,
  "metadata": {
    "colab": {
      "provenance": []
    },
    "kernelspec": {
      "name": "python3",
      "display_name": "Python 3"
    },
    "language_info": {
      "name": "python"
    }
  },
  "cells": [
    {
      "cell_type": "markdown",
      "source": [
        "Q1> What is multithreading in python? Why is it used? Name the module used to handle threads in python ?"
      ],
      "metadata": {
        "id": "iggpdj2IDlUr"
      }
    },
    {
      "cell_type": "code",
      "source": [
        "# Solution 1>\n",
        "\n",
        "# Multithreding : Run multiple program sections (threads) concurrently for improved responsiveness and efficiency.\n",
        "\n",
        "# Why use it:\n",
        "# Keeps program responsive during external waits (e.g., network requests).\n",
        "# Speeds up CPU-bound tasks on multi-core processors (by dividing tasks).\n",
        "\n",
        "# How it works:\n",
        "# threading module creates and manages threads.\n",
        "# Thread class represents a thread with a function to run (target) and arguments (args).\n",
        "# start() method begins thread execution.\n",
        "# join() method waits for a thread to finish.\n",
        "\n",
        "# Important:\n",
        "# Python's GIL limits true parallel execution for CPU-bound tasks (focus on I/O-bound tasks).\n",
        "# Use synchronization (like locks) to avoid data inconsistencies when threads share resources"
      ],
      "metadata": {
        "id": "yQM4omhYDcfB"
      },
      "execution_count": 1,
      "outputs": []
    },
    {
      "cell_type": "code",
      "source": [],
      "metadata": {
        "id": "rsEuv37tFv6j"
      },
      "execution_count": 1,
      "outputs": []
    },
    {
      "cell_type": "markdown",
      "source": [
        "Q2> Why threading module used? Write the use of the following functions\n",
        "1.activeCount()\n",
        "2.currentThread()\n",
        "3.enumerate()"
      ],
      "metadata": {
        "id": "gH9A-kkYGOLq"
      }
    },
    {
      "cell_type": "code",
      "source": [
        "#Solution 2>\n",
        "\n",
        "# The threading module is used in Python to manage threads, which are lightweight units of execution that allow your program to run multiple\n",
        "# sections of code concurrently. This provides several benefits:\n",
        "# 1. improved responsiveness\n",
        "# 2. efficient CPU utilization\n",
        "# 3. modular code structure\n",
        "\n",
        "# activeCount(): This function returns the number of active thread objects currently running in your program.\n",
        "# This includes the main thread and any threads you've created.\n",
        "\n",
        "# currentThread(): This function returns the current thread object. In most cases, this will be the main thread from which you called currentThread().\n",
        "\n",
        "# enumerate(): This function returns a list of all thread objects that are currently active, including the main thread.\n",
        "# This can be useful for debugging or monitoring the state of your threads.\n",
        "\n"
      ],
      "metadata": {
        "id": "0n0bm0koGVOc"
      },
      "execution_count": 2,
      "outputs": []
    },
    {
      "cell_type": "markdown",
      "source": [
        "Q3> Explain the following functions\n",
        "1.run()\n",
        "2.start()\n",
        "3.join()\n",
        "4.isAlive()"
      ],
      "metadata": {
        "id": "B9pXBRvwJ0k1"
      }
    },
    {
      "cell_type": "code",
      "source": [
        "# Solution 2>\n",
        "# These functions are all part of the Thread class within the threading module and are essential for managing threads in Python.\n",
        "# Here's a breakdown of each:\n",
        "\n",
        "# run(): This is the core function that defines the work a thread will perform.\n",
        "# we override this method in our custom thread subclass (inheriting from Thread) to specify the specific code which we want the thread to execute.\n",
        "# run(): Defines the thread's work.\n",
        "\n",
        "# start(): This function is crucial for starting the thread's execution. When we call start(),\n",
        "# the Python interpreter creates the necessary resources for the thread and schedules it to run.\n",
        "# However, calling start() multiple times on the same thread object will raise an exception.\n",
        "# start(): Starts the thread's execution.\n",
        "\n",
        "# join([timeout]): This method allows the calling thread to wait for the target thread (the one called join() on) to finish execution.\n",
        "# We can optionally specify a timeout value (in seconds) as an argument. If the target thread doesn't finish within the timeout period,\n",
        "# join() will return without waiting any further.\n",
        "# This is helpful for ensuring specific tasks complete before moving on in main program.\n",
        "\n"
      ],
      "metadata": {
        "id": "uG9H1k1VIBMO"
      },
      "execution_count": 4,
      "outputs": []
    },
    {
      "cell_type": "markdown",
      "source": [
        "Q4> Write a python program to create two threads. Thread one must print the list of squares and thread two must print the list of cubes\n"
      ],
      "metadata": {
        "id": "62suUaDanZcm"
      }
    },
    {
      "cell_type": "code",
      "source": [
        "import threading\n",
        "\n",
        "# function defined for square numbers\n",
        "def print_square(i):\n",
        "  print(\"square of num %d is %d\" % (i, i*i))\n",
        "\n",
        "# finction defined for cube numbers\n",
        "\n",
        "def print_cube(id):\n",
        "  print(\"cube of given number %dis %d\" % (id, id*id*id))\n",
        "\n",
        "num = int(input(\"Enter the desire number  \"))\n",
        "\n",
        "thread1 = [threading.Thread(target=print_square, args=(i,)) for i in range(num+1)]\n",
        "thread2 = [threading.Thread(target=print_cube, args=(i,)) for i in range(num+1)]\n",
        "\n",
        "for t in thread1:\n",
        "  t.start()\n",
        "for k in thread2:\n",
        "  k.start()"
      ],
      "metadata": {
        "colab": {
          "base_uri": "https://localhost:8080/"
        },
        "id": "ylRzrOwKmjSD",
        "outputId": "029774d3-0e87-4ee4-a632-0ed8268748b6"
      },
      "execution_count": 15,
      "outputs": [
        {
          "output_type": "stream",
          "name": "stdout",
          "text": [
            "Enter the desire number  5\n",
            "square of num 0 is 0square of num 1 is 1\n",
            "\n",
            "square of num 2 is 4\n",
            "square of num 3 is 9\n",
            "square of num 4 is 16\n",
            "square of num 5 is 25\n",
            "cube of given number 0is 0\n",
            "cube of given number 1is 1\n",
            "cube of given number 2is 8\n",
            "cube of given number 3is 27\n",
            "cube of given number 4is 64\n",
            "cube of given number 5is 125\n"
          ]
        }
      ]
    },
    {
      "cell_type": "markdown",
      "source": [
        "Q5> State advantages and disadvantages of multithreading"
      ],
      "metadata": {
        "id": "td5yDleGy6Rv"
      }
    },
    {
      "cell_type": "code",
      "source": [
        "# Solution 5>\n",
        "\n",
        "# Advantages of Multithreading :-\n",
        "\n",
        "# Performance Boost: It leverages multi-core processors by running tasks concurrently, leading to faster program execution.\n",
        "# Enhanced Responsiveness: By separating UI interaction and background tasks, multithreading keeps the UI responsive even during long-running operations.\n",
        "# Resource Efficiency: It optimizes CPU usage by allowing one thread to handle I/O while another executes, maximizing resource utilization.\n",
        "# Natural Problem Modeling: Certain problems, like agent simulations or large data calculations, are well-suited for a multithreaded approach.\n",
        "\n",
        "# Disadvantages of Multithreading :-\n",
        "\n",
        "# Complexity Increase: Multithreading introduces complexities like thread synchronization and coordination to prevent data inconsistencies and deadlocks.\n",
        "# Debugging Hurdles: Unexpected thread interactions can lead to subtle errors that are trickier to identify and fix.\n",
        "# Overhead Considerations: Creating and managing threads involves overhead, including memory allocation and context switching, which might outweigh benefits for short tasks.\n",
        "# Thread Safety Concerns: Without proper synchronization, concurrent access to shared resources can lead to data corruption or race conditions.\n"
      ],
      "metadata": {
        "id": "KetlIcVTuGt0"
      },
      "execution_count": 16,
      "outputs": []
    },
    {
      "cell_type": "markdown",
      "source": [
        "Q6> Explain deadlocks and race conditions."
      ],
      "metadata": {
        "id": "B7leaDIs1E4-"
      }
    },
    {
      "cell_type": "code",
      "source": [
        "# Solution 6>\n",
        "\n",
        "# Deadlock:\n",
        "# Imagine two threads, each holding a lock (resource) and waiting for the other's lock to proceed.\n",
        "# This creates a stalemate where neither thread can make progress.\n",
        "# Cause: Circular dependency in resource acquisition. Thread A needs resource B held by Thread B, and vice versa.\n",
        "# Impact: Program gets stuck, waiting indefinitely for resources that remain unavailable. This can lead to crashes or unresponsive applications.\n",
        "\n",
        "# Race Condition:\n",
        "\n",
        "# Occurs when multiple threads access and modify the same shared data variable without proper synchronization.\n",
        "# The final value depends on the unpredictable timing of thread execution.\n",
        "# Cause: Unsynchronized access to shared data. Threads might read a value, modify it, and write it back concurrently, leading to inconsistencies.\n",
        "# Impact: Unreliable program behavior with incorrect or inconsistent results. Imagine two threads trying to increment a counter,\n",
        "# but due to timing, the final value might be wrong."
      ],
      "metadata": {
        "id": "LEGWw0N009Uz"
      },
      "execution_count": 17,
      "outputs": []
    },
    {
      "cell_type": "code",
      "source": [],
      "metadata": {
        "id": "XEP5aVokFMfn"
      },
      "execution_count": null,
      "outputs": []
    }
  ]
}