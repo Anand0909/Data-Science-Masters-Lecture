{
 "cells": [
  {
   "cell_type": "code",
   "execution_count": 1,
   "id": "14aab7ae-dc18-4ec7-aa0f-5092333f3c22",
   "metadata": {},
   "outputs": [],
   "source": [
    "def test (n,p):\n",
    "    return n**p"
   ]
  },
  {
   "cell_type": "code",
   "execution_count": 2,
   "id": "a0c3e8dd-84ba-43e8-ae5d-b8037acb9570",
   "metadata": {},
   "outputs": [
    {
     "data": {
      "text/plain": [
       "243"
      ]
     },
     "execution_count": 2,
     "metadata": {},
     "output_type": "execute_result"
    }
   ],
   "source": [
    "test(3,5)"
   ]
  },
  {
   "cell_type": "code",
   "execution_count": 3,
   "id": "d5e19ca1-49a8-4ac6-b2f9-f0f630aeb33d",
   "metadata": {},
   "outputs": [],
   "source": [
    "# lambda function is a defind function whch can explain in a line "
   ]
  },
  {
   "cell_type": "code",
   "execution_count": 4,
   "id": "c4cf3529-b2c0-4132-9aed-142e2d9881d5",
   "metadata": {},
   "outputs": [
    {
     "data": {
      "text/plain": [
       "<function __main__.<lambda>(n, p)>"
      ]
     },
     "execution_count": 4,
     "metadata": {},
     "output_type": "execute_result"
    }
   ],
   "source": [
    "# Ex \n",
    "\n",
    "lambda n,p : n**p\n"
   ]
  },
  {
   "cell_type": "code",
   "execution_count": 5,
   "id": "d18c1362-bd71-483b-8d73-033fb06db8a9",
   "metadata": {},
   "outputs": [],
   "source": [
    "# Here above code is showing that lambda functin is provide without any name so we nned to provide any name because here\n",
    "# function is just initialize using lambda keyword"
   ]
  },
  {
   "cell_type": "code",
   "execution_count": 6,
   "id": "fdd949cb-8dc1-4e63-b032-2d90d5d11451",
   "metadata": {},
   "outputs": [],
   "source": [
    "a = lambda n,p : n**p"
   ]
  },
  {
   "cell_type": "code",
   "execution_count": 7,
   "id": "5a556068-aa61-4ec7-ba60-16a4f4bc5b22",
   "metadata": {},
   "outputs": [
    {
     "data": {
      "text/plain": [
       "243"
      ]
     },
     "execution_count": 7,
     "metadata": {},
     "output_type": "execute_result"
    }
   ],
   "source": [
    "a(3,5)"
   ]
  },
  {
   "cell_type": "code",
   "execution_count": 9,
   "id": "ee988576-6409-44bc-9a03-a5647e98f534",
   "metadata": {},
   "outputs": [],
   "source": [
    "# # lambda function also know as one line function or annonymous function \n",
    "# lambda function is good with small functioning like add, subtract or any direct mathematical operation \n",
    "# but in case of full descriptive function always prefer to use def function for complete functionality"
   ]
  },
  {
   "cell_type": "code",
   "execution_count": 10,
   "id": "f72c941d-72b6-4442-9219-fad113370ac9",
   "metadata": {},
   "outputs": [],
   "source": [
    "# Ex  : celcius to farenheight converter \n",
    "\n",
    "c_to_f = lambda c : (9/5)*c + 32"
   ]
  },
  {
   "cell_type": "code",
   "execution_count": 11,
   "id": "c62b94e5-a28d-4b83-8535-d61af80bec0b",
   "metadata": {},
   "outputs": [
    {
     "data": {
      "text/plain": [
       "212.0"
      ]
     },
     "execution_count": 11,
     "metadata": {},
     "output_type": "execute_result"
    }
   ],
   "source": [
    "c_to_f(100)"
   ]
  },
  {
   "cell_type": "code",
   "execution_count": 12,
   "id": "091f5aa0-5c8a-4524-8180-60dec39b830a",
   "metadata": {},
   "outputs": [],
   "source": [
    "# ex : finding a maximum of two number\n",
    "\n",
    "finding_max = lambda x,y : x if x>y else y"
   ]
  },
  {
   "cell_type": "code",
   "execution_count": 13,
   "id": "362b20f0-8e54-4305-b823-aaefa60955ef",
   "metadata": {},
   "outputs": [
    {
     "data": {
      "text/plain": [
       "45"
      ]
     },
     "execution_count": 13,
     "metadata": {},
     "output_type": "execute_result"
    }
   ],
   "source": [
    "finding_max(34,45)"
   ]
  },
  {
   "cell_type": "code",
   "execution_count": 14,
   "id": "f7aca0f0-442d-4606-a75f-4640526ff85b",
   "metadata": {},
   "outputs": [],
   "source": [
    "# ex 3 : finding legth of function using lambda function \n",
    "\n",
    "find_length = lambda s : len(s)"
   ]
  },
  {
   "cell_type": "code",
   "execution_count": 15,
   "id": "9ca05f9d-2f07-43ef-be8e-1fa8322bb92a",
   "metadata": {},
   "outputs": [
    {
     "data": {
      "text/plain": [
       "5"
      ]
     },
     "execution_count": 15,
     "metadata": {},
     "output_type": "execute_result"
    }
   ],
   "source": [
    "find_length(\"anand\")"
   ]
  },
  {
   "cell_type": "code",
   "execution_count": 1,
   "id": "a98d1aea-6c74-4759-b018-de3058e0935c",
   "metadata": {},
   "outputs": [],
   "source": [
    "# lambda function is also known as the anonymus function as it is defined without name "
   ]
  },
  {
   "cell_type": "code",
   "execution_count": null,
   "id": "35d49186-499f-4500-98de-e78f61a97163",
   "metadata": {},
   "outputs": [],
   "source": []
  }
 ],
 "metadata": {
  "kernelspec": {
   "display_name": "Python 3 (ipykernel)",
   "language": "python",
   "name": "python3"
  },
  "language_info": {
   "codemirror_mode": {
    "name": "ipython",
    "version": 3
   },
   "file_extension": ".py",
   "mimetype": "text/x-python",
   "name": "python",
   "nbconvert_exporter": "python",
   "pygments_lexer": "ipython3",
   "version": "3.10.8"
  }
 },
 "nbformat": 4,
 "nbformat_minor": 5
}
