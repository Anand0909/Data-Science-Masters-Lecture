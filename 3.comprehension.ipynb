{
 "cells": [
  {
   "cell_type": "markdown",
   "id": "d9b8c768-5b81-49b4-95df-d588338689ea",
   "metadata": {},
   "source": [
    "# Comprehension => writing code in fewer number of lines "
   ]
  },
  {
   "cell_type": "code",
   "execution_count": 2,
   "id": "c813b34d-1c34-4218-a930-828de00b3731",
   "metadata": {},
   "outputs": [
    {
     "data": {
      "text/plain": [
       "[1, 4, 9, 16, 25, 36]"
      ]
     },
     "execution_count": 2,
     "metadata": {},
     "output_type": "execute_result"
    }
   ],
   "source": [
    "l = [1,2,3,4,5,6]\n",
    "l1=[]\n",
    "for i in l:\n",
    "    l1.append(i**2)\n",
    "l1\n",
    "    "
   ]
  },
  {
   "cell_type": "code",
   "execution_count": 3,
   "id": "b5465644-257f-418a-92eb-1522266210ee",
   "metadata": {},
   "outputs": [
    {
     "data": {
      "text/plain": [
       "[1, 4, 9, 16, 25, 36]"
      ]
     },
     "execution_count": 3,
     "metadata": {},
     "output_type": "execute_result"
    }
   ],
   "source": [
    "# the above ode can be comprehend in single line as :\n",
    "\n",
    "[i**2 for i in l]"
   ]
  },
  {
   "cell_type": "code",
   "execution_count": 7,
   "id": "5075fbed-af62-422b-abf9-e5c74a3c0a0b",
   "metadata": {},
   "outputs": [
    {
     "data": {
      "text/plain": [
       "[2, 4, 6]"
      ]
     },
     "execution_count": 7,
     "metadata": {},
     "output_type": "execute_result"
    }
   ],
   "source": [
    "# to get only even number from given list :\n",
    "\n",
    "[i for i in l if i%2 ==0]"
   ]
  },
  {
   "cell_type": "raw",
   "id": "ad1243fb-4dd2-4b85-8a04-c2d6bef71815",
   "metadata": {},
   "source": [
    "# in a given list of strings convert each element in upper case"
   ]
  },
  {
   "cell_type": "code",
   "execution_count": 8,
   "id": "ac9f21af-9641-4aec-8d22-fb1b590bfdee",
   "metadata": {},
   "outputs": [],
   "source": [
    "l2=[\"anand\",\"pwskill\",\"shankar\",\"datascience\"]"
   ]
  },
  {
   "cell_type": "code",
   "execution_count": 9,
   "id": "d6b99f2b-8b60-40fc-be03-0b4a56c91c99",
   "metadata": {},
   "outputs": [
    {
     "data": {
      "text/plain": [
       "['ANAND', 'PWSKILL', 'SHANKAR', 'DATASCIENCE']"
      ]
     },
     "execution_count": 9,
     "metadata": {},
     "output_type": "execute_result"
    }
   ],
   "source": [
    "[i.upper() for i in l2]"
   ]
  },
  {
   "cell_type": "code",
   "execution_count": null,
   "id": "562b1e7c-6343-42c0-9e9f-28c5d80cbbfc",
   "metadata": {},
   "outputs": [],
   "source": [
    "# tuple comprehension works in same way as list comprehension "
   ]
  },
  {
   "cell_type": "raw",
   "id": "115be30b-9164-43c0-b665-2c225bb27542",
   "metadata": {},
   "source": [
    "# dictionary comprehension"
   ]
  },
  {
   "cell_type": "code",
   "execution_count": 10,
   "id": "10c79dbe-5402-43fa-bbc9-f67cff324793",
   "metadata": {},
   "outputs": [],
   "source": [
    "d ={\"key1\":1,\"key2\":2,\"key3\":3,\"key4\":4}"
   ]
  },
  {
   "cell_type": "code",
   "execution_count": 12,
   "id": "3608e9fa-079a-4998-b694-68b4b0571084",
   "metadata": {},
   "outputs": [
    {
     "data": {
      "text/plain": [
       "{'key1': 1, 'key2': 4, 'key3': 9, 'key4': 16}"
      ]
     },
     "execution_count": 12,
     "metadata": {},
     "output_type": "execute_result"
    }
   ],
   "source": [
    "# to get the dictionary where key will be same but value required in square form \n",
    "\n",
    "{ k:v**2 for k,v in d.items()}"
   ]
  },
  {
   "cell_type": "code",
   "execution_count": 13,
   "id": "f1174126-e335-4848-874b-7d291991e1e7",
   "metadata": {},
   "outputs": [
    {
     "data": {
      "text/plain": [
       "{'key2': 2, 'key3': 3, 'key4': 4}"
      ]
     },
     "execution_count": 13,
     "metadata": {},
     "output_type": "execute_result"
    }
   ],
   "source": [
    "# to get the dictionary outcomeonly if value is greater than 1\n",
    "\n",
    "{ k:v for k,v in d.items() if v>1}"
   ]
  },
  {
   "cell_type": "code",
   "execution_count": null,
   "id": "beee723d-fbac-4233-a5af-c31415a8c1e9",
   "metadata": {},
   "outputs": [],
   "source": []
  }
 ],
 "metadata": {
  "kernelspec": {
   "display_name": "Python 3 (ipykernel)",
   "language": "python",
   "name": "python3"
  },
  "language_info": {
   "codemirror_mode": {
    "name": "ipython",
    "version": 3
   },
   "file_extension": ".py",
   "mimetype": "text/x-python",
   "name": "python",
   "nbconvert_exporter": "python",
   "pygments_lexer": "ipython3",
   "version": "3.10.8"
  }
 },
 "nbformat": 4,
 "nbformat_minor": 5
}
