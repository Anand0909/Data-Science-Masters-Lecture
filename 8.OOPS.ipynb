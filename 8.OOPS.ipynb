{
 "cells": [
  {
   "cell_type": "markdown",
   "id": "6f08dc72-5307-4308-aad3-5359b4062df0",
   "metadata": {},
   "source": [
    "OOPS = Object - Oriented Programming System"
   ]
  },
  {
   "cell_type": "code",
   "execution_count": 1,
   "id": "6f1be8c0-0a5e-4ebd-8f2f-931ad6970432",
   "metadata": {},
   "outputs": [
    {
     "name": "stdout",
     "output_type": "stream",
     "text": [
      "<class 'int'>\n"
     ]
    }
   ],
   "source": [
    "a = 1\n",
    "\n",
    "print(type(a))"
   ]
  },
  {
   "cell_type": "code",
   "execution_count": 2,
   "id": "59b2d9e4-90e2-4bf1-8b37-a73307c574d2",
   "metadata": {},
   "outputs": [
    {
     "name": "stdout",
     "output_type": "stream",
     "text": [
      "<class 'str'>\n"
     ]
    }
   ],
   "source": [
    "a = \"pwskill\"\n",
    "\n",
    "print(type(a))"
   ]
  },
  {
   "cell_type": "code",
   "execution_count": 3,
   "id": "7614afce-d5f8-46ce-9205-50a83cad080a",
   "metadata": {},
   "outputs": [],
   "source": [
    "# class stands for classification or realization, and Object stands for variable and real world entity\n",
    "\n",
    "# class use to be created to provide all the module in a grouping that may be reated to frontend/backend etc - It gives structure so that changes can be done in future\n",
    "# it helps in reusability of code "
   ]
  },
  {
   "cell_type": "code",
   "execution_count": 4,
   "id": "a1e8c62a-51d6-4667-9455-f55e31f1d9fe",
   "metadata": {},
   "outputs": [
    {
     "ename": "SyntaxError",
     "evalue": "incomplete input (3527747674.py, line 1)",
     "output_type": "error",
     "traceback": [
      "\u001b[0;36m  Cell \u001b[0;32mIn[4], line 1\u001b[0;36m\u001b[0m\n\u001b[0;31m    class test:\u001b[0m\n\u001b[0m               ^\u001b[0m\n\u001b[0;31mSyntaxError\u001b[0m\u001b[0;31m:\u001b[0m incomplete input\n"
     ]
    }
   ],
   "source": [
    "class test:"
   ]
  },
  {
   "cell_type": "code",
   "execution_count": 6,
   "id": "4f80e8c6-3fdf-47a2-8910-0b6127f5bf58",
   "metadata": {},
   "outputs": [],
   "source": [
    "class test : \n",
    "    pass\n",
    "\n",
    "# here we have provided blank class by providing input pass"
   ]
  },
  {
   "cell_type": "code",
   "execution_count": 7,
   "id": "75ac7a0b-acd6-4b0a-a9f0-2a0d5f5def9d",
   "metadata": {},
   "outputs": [
    {
     "name": "stdout",
     "output_type": "stream",
     "text": [
      "<class '__main__.test'>\n"
     ]
    }
   ],
   "source": [
    "a = test()\n",
    "\n",
    "print(type(a))"
   ]
  },
  {
   "cell_type": "code",
   "execution_count": 10,
   "id": "e05409f9-0292-43b5-8efd-a17e24c68ac8",
   "metadata": {},
   "outputs": [],
   "source": [
    "class pwskills :\n",
    "    \n",
    "    def welcome_msg(self):\n",
    "        print(\"welcome to pwskills\")\n",
    "        \n",
    "# whenever we have to define any function inside any class we have to define 1st arguments as self, so that class can identify the given function "
   ]
  },
  {
   "cell_type": "code",
   "execution_count": 11,
   "id": "e4fcaf8a-d9b9-41bc-89f5-ac4f192d3577",
   "metadata": {},
   "outputs": [],
   "source": [
    "rohan = pwskills()"
   ]
  },
  {
   "cell_type": "code",
   "execution_count": 12,
   "id": "e7e36d6d-b283-4e02-b8c4-814d9eda5bce",
   "metadata": {},
   "outputs": [
    {
     "name": "stdout",
     "output_type": "stream",
     "text": [
      "<class '__main__.pwskills'>\n"
     ]
    }
   ],
   "source": [
    "print(type(rohan))"
   ]
  },
  {
   "cell_type": "code",
   "execution_count": 13,
   "id": "ed8ae9da-ba25-488a-8945-2116e9d49e02",
   "metadata": {},
   "outputs": [
    {
     "name": "stdout",
     "output_type": "stream",
     "text": [
      "welcome to pwskills\n"
     ]
    }
   ],
   "source": [
    "rohan.welcome_msg()"
   ]
  },
  {
   "cell_type": "code",
   "execution_count": 15,
   "id": "4fd89a9b-e867-48e1-b3b8-f977fb2c9591",
   "metadata": {},
   "outputs": [
    {
     "ename": "NameError",
     "evalue": "name 'rohit' is not defined",
     "output_type": "error",
     "traceback": [
      "\u001b[0;31m---------------------------------------------------------------------------\u001b[0m",
      "\u001b[0;31mNameError\u001b[0m                                 Traceback (most recent call last)",
      "Cell \u001b[0;32mIn[15], line 1\u001b[0m\n\u001b[0;32m----> 1\u001b[0m \u001b[43mrohit\u001b[49m\u001b[38;5;241m.\u001b[39mwelcome_msg()\n\u001b[1;32m      3\u001b[0m \u001b[38;5;66;03m# here we will get error as welcome_msg is defined for call pwskill and rohit is not defined inside class pwskill\u001b[39;00m\n",
      "\u001b[0;31mNameError\u001b[0m: name 'rohit' is not defined"
     ]
    }
   ],
   "source": [
    "rohit.welcome_msg()\n",
    "\n",
    "# here we will get error as welcome_msg is defined for call pwskill and rohit is not defined inside class pwskill"
   ]
  },
  {
   "cell_type": "code",
   "execution_count": 16,
   "id": "373fd407-f638-4acd-87f4-daca32f70ec2",
   "metadata": {},
   "outputs": [],
   "source": [
    "# Objct / Variable / Instance represents the same thing"
   ]
  },
  {
   "cell_type": "raw",
   "id": "b72c5081-fa01-4ddc-8334-d2859ecdf32a",
   "metadata": {},
   "source": [
    "inside a class defined function __init__ is the constructer function , __init__ this is an inbuilt function which uses inside a class to pass the data"
   ]
  },
  {
   "cell_type": "code",
   "execution_count": 17,
   "id": "d7ae3247-6489-44dd-95e2-4a560a1d72d4",
   "metadata": {},
   "outputs": [],
   "source": [
    "# Generic class and function skeleton\n",
    "\n",
    "class pwskills1:\n",
    "    \n",
    "    def __init__(self, phone_number, email_id, student_id):\n",
    "        self.phone_number = phone_number\n",
    "        self.email_id = email_id\n",
    "        self.student_id = student_id\n",
    "    \n",
    "    def return_student_details(self):\n",
    "        return self.student_id, self.phone_number, self.email_id\n",
    "    \n"
   ]
  },
  {
   "cell_type": "code",
   "execution_count": 19,
   "id": "0283e379-74ec-49e0-bd5e-391961502eb9",
   "metadata": {},
   "outputs": [
    {
     "ename": "TypeError",
     "evalue": "pwskills1.__init__() missing 3 required positional arguments: 'phone_number', 'email_id', and 'student_id'",
     "output_type": "error",
     "traceback": [
      "\u001b[0;31m---------------------------------------------------------------------------\u001b[0m",
      "\u001b[0;31mTypeError\u001b[0m                                 Traceback (most recent call last)",
      "Cell \u001b[0;32mIn[19], line 1\u001b[0m\n\u001b[0;32m----> 1\u001b[0m rohan \u001b[38;5;241m=\u001b[39m \u001b[43mpwskills1\u001b[49m\u001b[43m(\u001b[49m\u001b[43m)\u001b[49m\n\u001b[1;32m      3\u001b[0m \u001b[38;5;66;03m# here we have not provided required details under __init__ which will throw error\u001b[39;00m\n",
      "\u001b[0;31mTypeError\u001b[0m: pwskills1.__init__() missing 3 required positional arguments: 'phone_number', 'email_id', and 'student_id'"
     ]
    }
   ],
   "source": [
    "rohan = pwskills1()\n",
    "\n",
    "# here we have not provided required details under __init__ which will throw error"
   ]
  },
  {
   "cell_type": "code",
   "execution_count": 20,
   "id": "4519980d-bc62-4542-8cad-e450015bf2b4",
   "metadata": {},
   "outputs": [],
   "source": [
    "rohan = pwskills1(9876233454, \"rohan@gmail.com\", 101)"
   ]
  },
  {
   "cell_type": "code",
   "execution_count": 21,
   "id": "dc555829-2bc2-4595-b427-b4f53ed0b9e1",
   "metadata": {},
   "outputs": [
    {
     "data": {
      "text/plain": [
       "(101, 9876233454, 'rohan@gmail.com')"
      ]
     },
     "execution_count": 21,
     "metadata": {},
     "output_type": "execute_result"
    }
   ],
   "source": [
    "rohan.return_student_details()"
   ]
  },
  {
   "cell_type": "code",
   "execution_count": 22,
   "id": "fb52e34f-4afb-4460-a02d-413f4a203120",
   "metadata": {},
   "outputs": [],
   "source": [
    "gaurav  = pwskills1(987612654, \"gaurav@gmail.com\", 102)"
   ]
  },
  {
   "cell_type": "code",
   "execution_count": 23,
   "id": "8915b08b-0828-4c25-a55e-8d2867c60dbc",
   "metadata": {},
   "outputs": [
    {
     "data": {
      "text/plain": [
       "(102, 987612654, 'gaurav@gmail.com')"
      ]
     },
     "execution_count": 23,
     "metadata": {},
     "output_type": "execute_result"
    }
   ],
   "source": [
    "gaurav.return_student_details()"
   ]
  },
  {
   "cell_type": "code",
   "execution_count": 24,
   "id": "043c2b05-cf28-4795-b183-a704b308230b",
   "metadata": {},
   "outputs": [],
   "source": [
    "# Analysis of self\n",
    "\n",
    "class pwskills2:\n",
    "    \n",
    "    def __init__(self, phone_number, email_id, student_id):\n",
    "        self.phone_number1 = phone_number\n",
    "        self.email_id1 = email_id\n",
    "        self.student_id1 = student_id\n",
    "    \n",
    "    def return_student_details(self):\n",
    "        return self.student_id, self.phone_number, self.email_id\n",
    "    "
   ]
  },
  {
   "cell_type": "code",
   "execution_count": 25,
   "id": "416e7489-cbce-4cd0-89f5-3669c95442d0",
   "metadata": {},
   "outputs": [],
   "source": [
    "anand = pwskills1(9876235565, \"anand@gmail.com\", 103)"
   ]
  },
  {
   "cell_type": "code",
   "execution_count": 26,
   "id": "b80aa842-c269-4bf5-893f-ca714b45a81e",
   "metadata": {},
   "outputs": [
    {
     "data": {
      "text/plain": [
       "9876235565"
      ]
     },
     "execution_count": 26,
     "metadata": {},
     "output_type": "execute_result"
    }
   ],
   "source": [
    "anand.phone_number"
   ]
  },
  {
   "cell_type": "code",
   "execution_count": 27,
   "id": "38f31e91-a3dd-4640-8bbc-b23046bf5209",
   "metadata": {},
   "outputs": [],
   "source": [
    "anand = pwskills2(9876235565, \"anand@gmail.com\", 103)"
   ]
  },
  {
   "cell_type": "code",
   "execution_count": 28,
   "id": "58c9ff01-a1e6-4675-8521-56583d4b040b",
   "metadata": {},
   "outputs": [
    {
     "ename": "AttributeError",
     "evalue": "'pwskills2' object has no attribute 'phone_number'",
     "output_type": "error",
     "traceback": [
      "\u001b[0;31m---------------------------------------------------------------------------\u001b[0m",
      "\u001b[0;31mAttributeError\u001b[0m                            Traceback (most recent call last)",
      "Cell \u001b[0;32mIn[28], line 1\u001b[0m\n\u001b[0;32m----> 1\u001b[0m \u001b[43manand\u001b[49m\u001b[38;5;241;43m.\u001b[39;49m\u001b[43mphone_number\u001b[49m \n\u001b[1;32m      3\u001b[0m \u001b[38;5;66;03m# here it will throw error because in pwskills2 we have not provided phone_number with self , here we had provided phone_number1 with self\u001b[39;00m\n",
      "\u001b[0;31mAttributeError\u001b[0m: 'pwskills2' object has no attribute 'phone_number'"
     ]
    }
   ],
   "source": [
    "anand.phone_number \n",
    "\n",
    "# here it will throw error because in pwskills2 we have not provided attribute phone_number with self , here we had provided phone_number1 with self"
   ]
  },
  {
   "cell_type": "code",
   "execution_count": 31,
   "id": "1ca9b75c-5b8c-41ec-9fc0-6d63c275121b",
   "metadata": {},
   "outputs": [
    {
     "data": {
      "text/plain": [
       "9876235565"
      ]
     },
     "execution_count": 31,
     "metadata": {},
     "output_type": "execute_result"
    }
   ],
   "source": [
    "anand.phone_number1\n",
    "\n",
    "# now it will not show the error as we have taken the correct attributs "
   ]
  },
  {
   "cell_type": "code",
   "execution_count": 34,
   "id": "83adabfc-7fc4-4f3c-98de-920b26511b01",
   "metadata": {},
   "outputs": [
    {
     "ename": "AttributeError",
     "evalue": "'pwskills2' object has no attribute 'student_id'",
     "output_type": "error",
     "traceback": [
      "\u001b[0;31m---------------------------------------------------------------------------\u001b[0m",
      "\u001b[0;31mAttributeError\u001b[0m                            Traceback (most recent call last)",
      "Cell \u001b[0;32mIn[34], line 1\u001b[0m\n\u001b[0;32m----> 1\u001b[0m \u001b[43manand\u001b[49m\u001b[38;5;241;43m.\u001b[39;49m\u001b[43mreturn_student_details\u001b[49m\u001b[43m(\u001b[49m\u001b[43m)\u001b[49m\n\u001b[1;32m      3\u001b[0m \u001b[38;5;66;03m# it will give error as we have provided attributes with diff name \u001b[39;00m\n",
      "Cell \u001b[0;32mIn[24], line 11\u001b[0m, in \u001b[0;36mpwskills2.return_student_details\u001b[0;34m(self)\u001b[0m\n\u001b[1;32m     10\u001b[0m \u001b[38;5;28;01mdef\u001b[39;00m \u001b[38;5;21mreturn_student_details\u001b[39m(\u001b[38;5;28mself\u001b[39m):\n\u001b[0;32m---> 11\u001b[0m     \u001b[38;5;28;01mreturn\u001b[39;00m \u001b[38;5;28;43mself\u001b[39;49m\u001b[38;5;241;43m.\u001b[39;49m\u001b[43mstudent_id\u001b[49m, \u001b[38;5;28mself\u001b[39m\u001b[38;5;241m.\u001b[39mphone_number, \u001b[38;5;28mself\u001b[39m\u001b[38;5;241m.\u001b[39memail_id\n",
      "\u001b[0;31mAttributeError\u001b[0m: 'pwskills2' object has no attribute 'student_id'"
     ]
    }
   ],
   "source": [
    "anand.return_student_details()\n",
    "\n",
    "# it will give error as we have provided attributes with diff name "
   ]
  },
  {
   "cell_type": "code",
   "execution_count": 42,
   "id": "b11fe7b8-66fe-4aeb-a758-dcb45cf20ed4",
   "metadata": {},
   "outputs": [],
   "source": [
    "# Analysis of self\n",
    "\n",
    "class pwskills2:\n",
    "    \n",
    "    def __init__(self, phone_number, email_id, student_id):\n",
    "        self.phone_number1 = phone_number\n",
    "        self.email_id1 = email_id\n",
    "        self.student_id1 = student_id\n",
    "    \n",
    "    def return_student_details(self):\n",
    "        return self.student_id1, self.phone_number1, self.email_id1"
   ]
  },
  {
   "cell_type": "code",
   "execution_count": 43,
   "id": "85c265ec-c2df-480a-9d30-24c35af881a3",
   "metadata": {},
   "outputs": [],
   "source": [
    "anand = pwskills2(9876235565, \"anand@gmail.com\", 103)"
   ]
  },
  {
   "cell_type": "code",
   "execution_count": 44,
   "id": "6ca4725a-b8bb-4131-8d87-a8b1c44279a7",
   "metadata": {},
   "outputs": [
    {
     "data": {
      "text/plain": [
       "(103, 9876235565, 'anand@gmail.com')"
      ]
     },
     "execution_count": 44,
     "metadata": {},
     "output_type": "execute_result"
    }
   ],
   "source": [
    "anand.return_student_details()"
   ]
  },
  {
   "cell_type": "code",
   "execution_count": 45,
   "id": "57865296-a7da-442d-8828-9f5bb921f2d2",
   "metadata": {},
   "outputs": [],
   "source": [
    "# It means all the details/attributes provided in class should be provided with self only then it will be considered for output"
   ]
  },
  {
   "cell_type": "code",
   "execution_count": 46,
   "id": "23517eed-53a2-45d6-b13b-c4953ca37845",
   "metadata": {},
   "outputs": [],
   "source": [
    "# note \"self\" is not a reserve keyword but inside a class we will have to use a pointer as first word ..it can be self or any other word which will be remain constant "
   ]
  },
  {
   "cell_type": "code",
   "execution_count": 54,
   "id": "1cfe68e0-9bee-4611-88b4-59660dd1a4ae",
   "metadata": {},
   "outputs": [],
   "source": [
    "# using other word in place of self => anand as the pointer\n",
    "\n",
    "\n",
    "class pwskills3:\n",
    "    \n",
    "    def __init__(anand, phone_number, email_id, student_id):\n",
    "        anand.phone_number1 = phone_number\n",
    "        anand.email_id1 = email_id\n",
    "        anand.student_id1 = student_id\n",
    "    \n",
    "    def return_student_details(anand):\n",
    "        return anand.student_id1, anand.phone_number1, anand.email_id1"
   ]
  },
  {
   "cell_type": "code",
   "execution_count": 55,
   "id": "b3a012f4-786a-45c2-a853-12ef9b633ec8",
   "metadata": {},
   "outputs": [],
   "source": [
    "monu = pwskills3(987623556, \"monu@gmail.com\", 104)"
   ]
  },
  {
   "cell_type": "code",
   "execution_count": 56,
   "id": "12642f57-e685-4636-a806-2c54f3838198",
   "metadata": {},
   "outputs": [
    {
     "data": {
      "text/plain": [
       "987623556"
      ]
     },
     "execution_count": 56,
     "metadata": {},
     "output_type": "execute_result"
    }
   ],
   "source": [
    "monu.phone_number1"
   ]
  },
  {
   "cell_type": "code",
   "execution_count": 57,
   "id": "377db433-97ba-4bd5-ab88-7391ac529c71",
   "metadata": {},
   "outputs": [
    {
     "data": {
      "text/plain": [
       "(104, 987623556, 'monu@gmail.com')"
      ]
     },
     "execution_count": 57,
     "metadata": {},
     "output_type": "execute_result"
    }
   ],
   "source": [
    "monu.return_student_details()"
   ]
  },
  {
   "cell_type": "code",
   "execution_count": null,
   "id": "fa106fcf-cfd5-4de9-a736-3c2feff97456",
   "metadata": {},
   "outputs": [],
   "source": []
  }
 ],
 "metadata": {
  "kernelspec": {
   "display_name": "Python 3 (ipykernel)",
   "language": "python",
   "name": "python3"
  },
  "language_info": {
   "codemirror_mode": {
    "name": "ipython",
    "version": 3
   },
   "file_extension": ".py",
   "mimetype": "text/x-python",
   "name": "python",
   "nbconvert_exporter": "python",
   "pygments_lexer": "ipython3",
   "version": "3.10.8"
  }
 },
 "nbformat": 4,
 "nbformat_minor": 5
}
