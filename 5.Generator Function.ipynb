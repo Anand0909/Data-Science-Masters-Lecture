{
 "cells": [
  {
   "cell_type": "raw",
   "id": "dd3a2d1b-c4b0-407c-992d-152e6b088045",
   "metadata": {},
   "source": [
    "Generator function is diff type of special function "
   ]
  },
  {
   "cell_type": "raw",
   "id": "e9f79f83-a0a1-4296-a58a-83258d88cc06",
   "metadata": {},
   "source": [
    "Generator function produce output one by one as and when requiered , without holding total values in the memory at once."
   ]
  },
  {
   "cell_type": "code",
   "execution_count": null,
   "id": "626d437f-32ce-47d6-8b11-fa37679d7cde",
   "metadata": {},
   "outputs": [],
   "source": [
    "# fibonaci number is the series of numbers where next num is the sum of previous 2 numbers"
   ]
  },
  {
   "cell_type": "code",
   "execution_count": 13,
   "id": "3e7debc4-18d7-4f92-b8e6-cfb35d3fc698",
   "metadata": {},
   "outputs": [],
   "source": [
    "# generating a fibonaci series using generator function \n",
    "\n",
    "def gen_fib(n):\n",
    "    a,b = 0,1\n",
    "    for i in range(n):\n",
    "        yield a\n",
    "        a,b = b,a+b\n",
    "    "
   ]
  },
  {
   "cell_type": "code",
   "execution_count": 14,
   "id": "74037c8b-13d3-4bf3-ad33-e5e49b55598d",
   "metadata": {},
   "outputs": [
    {
     "data": {
      "text/plain": [
       "<generator object gen_fib at 0x7fd8685ee500>"
      ]
     },
     "execution_count": 14,
     "metadata": {},
     "output_type": "execute_result"
    }
   ],
   "source": [
    "gen_fib(10)"
   ]
  },
  {
   "cell_type": "code",
   "execution_count": 15,
   "id": "47973acb-48bd-454a-9821-f3579bc704e7",
   "metadata": {},
   "outputs": [],
   "source": [
    "# above line of code result is showing it is creating an object for me and to get the result i can use this as itterator or define that objectc and use next function to print result"
   ]
  },
  {
   "cell_type": "code",
   "execution_count": 28,
   "id": "fa5ff25f-fc11-4b74-8b9d-58421ebc49fc",
   "metadata": {},
   "outputs": [
    {
     "name": "stdout",
     "output_type": "stream",
     "text": [
      "0\n",
      "1\n",
      "1\n",
      "2\n",
      "3\n",
      "5\n",
      "8\n",
      "13\n",
      "21\n",
      "34\n"
     ]
    }
   ],
   "source": [
    "# Method - 1\n",
    "\n",
    "fibonacci = gen_fib(10)\n",
    "\n",
    "print(next(fibonacci))\n",
    "print(next(fibonacci))\n",
    "print(next(fibonacci))\n",
    "print(next(fibonacci))\n",
    "print(next(fibonacci))\n",
    "print(next(fibonacci))\n",
    "print(next(fibonacci))\n",
    "print(next(fibonacci))\n",
    "print(next(fibonacci))\n",
    "print(next(fibonacci))\n",
    "\n",
    "# so by using next function we can use the function for each output at once "
   ]
  },
  {
   "cell_type": "code",
   "execution_count": 26,
   "id": "ad6e1489-0b22-49da-8944-2b5510d9d733",
   "metadata": {},
   "outputs": [
    {
     "name": "stdout",
     "output_type": "stream",
     "text": [
      "0\n",
      "1\n",
      "1\n",
      "2\n",
      "3\n",
      "5\n",
      "8\n",
      "13\n",
      "21\n",
      "34\n"
     ]
    }
   ],
   "source": [
    "# Method - 2 \n",
    "\n",
    "# in case we want to generate the number of output at once then we can use the object as iterator \n",
    "\n",
    "\n",
    "for i in gen_fib(10):\n",
    "    print(i)"
   ]
  },
  {
   "cell_type": "code",
   "execution_count": 30,
   "id": "e5243fd9-44c6-434d-ab5d-998af40525b2",
   "metadata": {},
   "outputs": [],
   "source": [
    "# in generator function we don't use return, here we will use the yield in place of return/print"
   ]
  },
  {
   "cell_type": "raw",
   "id": "e835eecd-5efd-4f34-a87b-265e410ec346",
   "metadata": {},
   "source": [
    "generator function mainly used for the purpose of proper memory utilization "
   ]
  },
  {
   "cell_type": "code",
   "execution_count": 55,
   "id": "97cce512-f154-4605-abb6-2f2ebcf4c717",
   "metadata": {},
   "outputs": [
    {
     "data": {
      "text/plain": [
       "generator"
      ]
     },
     "execution_count": 55,
     "metadata": {},
     "output_type": "execute_result"
    }
   ],
   "source": [
    "# generating a fibonaci series using generator function and while loop\n",
    "\n",
    "def gen_fib():\n",
    "    a,b = 0,1\n",
    "    while True:\n",
    "        yield a\n",
    "        a,b = b,a+b\n",
    "        \n",
    "fib = gen_fib()\n",
    "\n",
    "type(fib)"
   ]
  },
  {
   "cell_type": "code",
   "execution_count": 56,
   "id": "0f82460f-6b7b-46e3-8fc1-f6846c3610d2",
   "metadata": {},
   "outputs": [
    {
     "name": "stdout",
     "output_type": "stream",
     "text": [
      "0\n",
      "1\n",
      "1\n",
      "2\n",
      "3\n",
      "5\n",
      "8\n",
      "13\n",
      "21\n",
      "34\n"
     ]
    }
   ],
   "source": [
    "for i in range(10):\n",
    "    print(next(fib))"
   ]
  },
  {
   "cell_type": "code",
   "execution_count": 57,
   "id": "d8120d7f-9f0d-4c4b-bb28-35288ef07101",
   "metadata": {},
   "outputs": [],
   "source": [
    "# next is an itterator funtion "
   ]
  },
  {
   "cell_type": "code",
   "execution_count": 58,
   "id": "de150c22-b873-4318-aa91-9cc41713d08e",
   "metadata": {},
   "outputs": [],
   "source": [
    "# iter() is a function which convert given string in itterable"
   ]
  },
  {
   "cell_type": "code",
   "execution_count": 59,
   "id": "de5a0f36-d610-44f7-a9c6-afde3338703d",
   "metadata": {},
   "outputs": [],
   "source": [
    "s = \"anand\""
   ]
  },
  {
   "cell_type": "code",
   "execution_count": 60,
   "id": "7a05a139-f27d-49c6-80b9-c9053b4580e8",
   "metadata": {},
   "outputs": [
    {
     "ename": "TypeError",
     "evalue": "'str' object is not an iterator",
     "output_type": "error",
     "traceback": [
      "\u001b[0;31m---------------------------------------------------------------------------\u001b[0m",
      "\u001b[0;31mTypeError\u001b[0m                                 Traceback (most recent call last)",
      "Cell \u001b[0;32mIn[60], line 1\u001b[0m\n\u001b[0;32m----> 1\u001b[0m \u001b[38;5;28;43mnext\u001b[39;49m\u001b[43m(\u001b[49m\u001b[43ms\u001b[49m\u001b[43m)\u001b[49m\n",
      "\u001b[0;31mTypeError\u001b[0m: 'str' object is not an iterator"
     ]
    }
   ],
   "source": [
    "next(s)"
   ]
  },
  {
   "cell_type": "code",
   "execution_count": 61,
   "id": "f05b83dc-1fce-48af-8825-e88bc48c6bd7",
   "metadata": {},
   "outputs": [],
   "source": [
    "s1 = iter(s)"
   ]
  },
  {
   "cell_type": "code",
   "execution_count": 62,
   "id": "8203dbd2-d0fe-43b4-a384-7d8b1d54fc99",
   "metadata": {},
   "outputs": [
    {
     "data": {
      "text/plain": [
       "'a'"
      ]
     },
     "execution_count": 62,
     "metadata": {},
     "output_type": "execute_result"
    }
   ],
   "source": [
    "next(s1)"
   ]
  },
  {
   "cell_type": "code",
   "execution_count": 63,
   "id": "d81eedf8-d2d0-4255-a621-266cb5553725",
   "metadata": {},
   "outputs": [
    {
     "data": {
      "text/plain": [
       "'n'"
      ]
     },
     "execution_count": 63,
     "metadata": {},
     "output_type": "execute_result"
    }
   ],
   "source": [
    "next(s1)"
   ]
  },
  {
   "cell_type": "code",
   "execution_count": 64,
   "id": "e9cfbb6c-1a3b-4090-ba2b-0b2e8de1c643",
   "metadata": {},
   "outputs": [
    {
     "data": {
      "text/plain": [
       "'a'"
      ]
     },
     "execution_count": 64,
     "metadata": {},
     "output_type": "execute_result"
    }
   ],
   "source": [
    "next(s1)"
   ]
  },
  {
   "cell_type": "code",
   "execution_count": 65,
   "id": "05db286f-33be-4024-8d70-fc013ae87a4c",
   "metadata": {},
   "outputs": [
    {
     "data": {
      "text/plain": [
       "'n'"
      ]
     },
     "execution_count": 65,
     "metadata": {},
     "output_type": "execute_result"
    }
   ],
   "source": [
    "next(s1)"
   ]
  },
  {
   "cell_type": "code",
   "execution_count": 66,
   "id": "a4022996-708d-4694-8a36-cc3c616458e1",
   "metadata": {},
   "outputs": [
    {
     "data": {
      "text/plain": [
       "'d'"
      ]
     },
     "execution_count": 66,
     "metadata": {},
     "output_type": "execute_result"
    }
   ],
   "source": [
    "next(s1)"
   ]
  },
  {
   "cell_type": "code",
   "execution_count": 67,
   "id": "877fcaf2-c9a4-4f25-a1f5-83bcf0f91168",
   "metadata": {},
   "outputs": [
    {
     "ename": "StopIteration",
     "evalue": "",
     "output_type": "error",
     "traceback": [
      "\u001b[0;31m---------------------------------------------------------------------------\u001b[0m",
      "\u001b[0;31mStopIteration\u001b[0m                             Traceback (most recent call last)",
      "Cell \u001b[0;32mIn[67], line 1\u001b[0m\n\u001b[0;32m----> 1\u001b[0m \u001b[38;5;28;43mnext\u001b[39;49m\u001b[43m(\u001b[49m\u001b[43ms1\u001b[49m\u001b[43m)\u001b[49m\n",
      "\u001b[0;31mStopIteration\u001b[0m: "
     ]
    }
   ],
   "source": [
    "next(s1)"
   ]
  },
  {
   "cell_type": "code",
   "execution_count": 68,
   "id": "5d0316ac-4033-4783-a489-5c480bf79eac",
   "metadata": {},
   "outputs": [],
   "source": [
    "# stop iteration is the error when data exhausted in a given data"
   ]
  },
  {
   "cell_type": "code",
   "execution_count": 69,
   "id": "3e5cf111-0947-4007-b8cb-84d3100aedf8",
   "metadata": {},
   "outputs": [],
   "source": [
    "# for loop is the combination of iter() & next() function \n",
    "# it fistly convert the given data in iterate by using iter() function then after uses the next() \n",
    "# function for the number of times equal to avalbale element in given data"
   ]
  },
  {
   "cell_type": "code",
   "execution_count": 70,
   "id": "554c9efb-3dca-4bc1-a27a-90b4de349c1b",
   "metadata": {},
   "outputs": [
    {
     "ename": "TypeError",
     "evalue": "'int' object is not an iterator",
     "output_type": "error",
     "traceback": [
      "\u001b[0;31m---------------------------------------------------------------------------\u001b[0m",
      "\u001b[0;31mTypeError\u001b[0m                                 Traceback (most recent call last)",
      "Cell \u001b[0;32mIn[70], line 1\u001b[0m\n\u001b[0;32m----> 1\u001b[0m \u001b[38;5;28;43mnext\u001b[39;49m\u001b[43m(\u001b[49m\u001b[38;5;241;43m45\u001b[39;49m\u001b[43m)\u001b[49m\n",
      "\u001b[0;31mTypeError\u001b[0m: 'int' object is not an iterator"
     ]
    }
   ],
   "source": [
    "next(45)"
   ]
  },
  {
   "cell_type": "code",
   "execution_count": 71,
   "id": "bc9da533-8f46-4014-ba0f-40b5c5ee0d65",
   "metadata": {},
   "outputs": [
    {
     "ename": "TypeError",
     "evalue": "'int' object is not iterable",
     "output_type": "error",
     "traceback": [
      "\u001b[0;31m---------------------------------------------------------------------------\u001b[0m",
      "\u001b[0;31mTypeError\u001b[0m                                 Traceback (most recent call last)",
      "Cell \u001b[0;32mIn[71], line 1\u001b[0m\n\u001b[0;32m----> 1\u001b[0m \u001b[38;5;28mnext\u001b[39m(\u001b[38;5;28;43miter\u001b[39;49m\u001b[43m(\u001b[49m\u001b[38;5;241;43m45\u001b[39;49m\u001b[43m)\u001b[49m)\n",
      "\u001b[0;31mTypeError\u001b[0m: 'int' object is not iterable"
     ]
    }
   ],
   "source": [
    "next(iter(45))"
   ]
  },
  {
   "cell_type": "code",
   "execution_count": 72,
   "id": "3953abef-d314-4748-927e-a005379ed81b",
   "metadata": {},
   "outputs": [],
   "source": [
    "# note : iter() function can be used for only those elements which are iterable, not everything can be \n",
    "# converted to iterable. ex : integer, complex number etc."
   ]
  },
  {
   "cell_type": "code",
   "execution_count": 73,
   "id": "33b518e6-35af-4329-940f-3a167d395e67",
   "metadata": {},
   "outputs": [],
   "source": [
    "# Iterator : Data where we can apply next() function to get the output\n",
    "# iterable : Data which can be converted to iterator"
   ]
  },
  {
   "cell_type": "code",
   "execution_count": 74,
   "id": "0a34fbb4-e296-4ebf-83d6-decf2f45ac8e",
   "metadata": {},
   "outputs": [],
   "source": [
    "# generator type is the iterator in nature"
   ]
  },
  {
   "cell_type": "code",
   "execution_count": 75,
   "id": "59b12dc8-460b-4207-8361-549100a0e6ee",
   "metadata": {},
   "outputs": [
    {
     "name": "stdout",
     "output_type": "stream",
     "text": [
      "1\n",
      "2\n",
      "3\n",
      "4\n"
     ]
    }
   ],
   "source": [
    "# exp :\n",
    "\n",
    "def count_test(n):\n",
    "    count = 1 \n",
    "    while count<n:\n",
    "        yield count\n",
    "        count = count + 1\n",
    "        \n",
    "c = count_test(5)\n",
    "\n",
    "for i in c:\n",
    "    print(i)"
   ]
  },
  {
   "cell_type": "code",
   "execution_count": 76,
   "id": "9425cf1d-c37b-4671-93ba-f10f01ff51a8",
   "metadata": {},
   "outputs": [],
   "source": [
    "# we are using yield in place of return function because return use to provide us total value in \n",
    "# once while yield provide the required output one by one , when it is called for "
   ]
  },
  {
   "cell_type": "code",
   "execution_count": null,
   "id": "ba40392a-289f-4560-90c3-e72d4b21cf68",
   "metadata": {},
   "outputs": [],
   "source": []
  }
 ],
 "metadata": {
  "kernelspec": {
   "display_name": "Python 3 (ipykernel)",
   "language": "python",
   "name": "python3"
  },
  "language_info": {
   "codemirror_mode": {
    "name": "ipython",
    "version": 3
   },
   "file_extension": ".py",
   "mimetype": "text/x-python",
   "name": "python",
   "nbconvert_exporter": "python",
   "pygments_lexer": "ipython3",
   "version": "3.10.8"
  }
 },
 "nbformat": 4,
 "nbformat_minor": 5
}
