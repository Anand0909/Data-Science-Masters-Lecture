{
 "cells": [
  {
   "cell_type": "raw",
   "id": "ece6cd04-93d4-4a3f-a58d-b3cc4f8c0b38",
   "metadata": {},
   "source": [
    "map(function, iterator) : Make an iterator that computes the function using arguments from each of the iterables.  Stops when the shortest iterable is exhausted.\n",
    "\n",
    "filter(function or none, iterator) : Return an iterator yielding those items of iterable for which function(item) is true. If function is None, return the items that are true.\n",
    "\n",
    "reduce(function, iterable[, initial]) : it will not ba available as default so needs to download from functools : Apply a function of two arguments cumulatively to the items of a sequence or iterable, from left to right, so as to reduce the iterable to a singlevalue.  For example, reduce(lambda x, y: x+y, [1, 2, 3, 4, 5]) calculates((((1+2)+3)+4)+5). \n",
    "If initial is present, it is placed before the items of the iterable in the calculation, and serves as a default when the iterable is empty."
   ]
  },
  {
   "cell_type": "code",
   "execution_count": 19,
   "id": "dd719135-dfbe-4402-8a67-51369d4dc894",
   "metadata": {},
   "outputs": [],
   "source": [
    "l = [1,2,3,4,5]"
   ]
  },
  {
   "cell_type": "code",
   "execution_count": 20,
   "id": "293215d7-3e27-4b6f-8393-99a11a4cb66e",
   "metadata": {},
   "outputs": [],
   "source": [
    "def sq(x):\n",
    "    return x**2"
   ]
  },
  {
   "cell_type": "code",
   "execution_count": 21,
   "id": "7e1cf451-7618-444b-929d-c4f238fb1b73",
   "metadata": {},
   "outputs": [
    {
     "data": {
      "text/plain": [
       "[1, 4, 9, 16, 25]"
      ]
     },
     "execution_count": 21,
     "metadata": {},
     "output_type": "execute_result"
    }
   ],
   "source": [
    "# to get the sqare of element  by using external function \n",
    "\n",
    "list(map(sq, l))"
   ]
  },
  {
   "cell_type": "code",
   "execution_count": 22,
   "id": "bd5544d9-08da-4108-b115-3be7953972ff",
   "metadata": {},
   "outputs": [
    {
     "data": {
      "text/plain": [
       "[1, 4, 9, 16, 25]"
      ]
     },
     "execution_count": 22,
     "metadata": {},
     "output_type": "execute_result"
    }
   ],
   "source": [
    "# to get the sqare of element - by using lambda function\n",
    "\n",
    "list(map(lambda x:x**2,l))"
   ]
  },
  {
   "cell_type": "code",
   "execution_count": 23,
   "id": "22e93fc8-f939-434a-85bf-94b9ed768515",
   "metadata": {},
   "outputs": [
    {
     "data": {
      "text/plain": [
       "[7, 9, 11, 13, 15, 21]"
      ]
     },
     "execution_count": 23,
     "metadata": {},
     "output_type": "execute_result"
    }
   ],
   "source": [
    "# adding elements from two diff sets :\n",
    "\n",
    "l1 = [1,2,3,4,5,10,22]\n",
    "l2 = [6,7,8,9,10,11]\n",
    "\n",
    "list(map(lambda x,y : x+y, l1, l2))"
   ]
  },
  {
   "cell_type": "code",
   "execution_count": 24,
   "id": "1ca5ad7a-b482-48be-9c4c-153a4c000413",
   "metadata": {},
   "outputs": [
    {
     "data": {
      "text/plain": [
       "['A', 'N', 'A', 'N', 'D']"
      ]
     },
     "execution_count": 24,
     "metadata": {},
     "output_type": "execute_result"
    }
   ],
   "source": [
    "# converting element from a string to upper case :\n",
    "\n",
    "s = \"anand\"\n",
    "\n",
    "list(map(lambda s : s.upper(), s))"
   ]
  },
  {
   "cell_type": "code",
   "execution_count": 10,
   "id": "8899a675-4d64-4818-9524-4bcdedef61b1",
   "metadata": {},
   "outputs": [],
   "source": [
    "from functools import reduce"
   ]
  },
  {
   "cell_type": "code",
   "execution_count": 11,
   "id": "3bbf95c5-6df2-47a1-97eb-af3236dccfdc",
   "metadata": {},
   "outputs": [
    {
     "data": {
      "text/plain": [
       "18"
      ]
     },
     "execution_count": 11,
     "metadata": {},
     "output_type": "execute_result"
    }
   ],
   "source": [
    "# to add all the element in the given list (iterable)\n",
    "\n",
    "l = [1,2,3,3,4,5]\n",
    "\n",
    "reduce(lambda x,y : x+y, l)\n",
    "\n",
    "# reduce generally reduced the total number of elements using the given function and colapsed the iterable as fina value \n",
    "# reduce wil be ale to used for only two parameter (x, y)because in the case 3 parament reduce function can not be true all the time "
   ]
  },
  {
   "cell_type": "code",
   "execution_count": 12,
   "id": "ed1e3f23-1a9e-4492-a97b-cdafb57cb5d2",
   "metadata": {},
   "outputs": [
    {
     "ename": "TypeError",
     "evalue": "<lambda>() missing 1 required positional argument: 'z'",
     "output_type": "error",
     "traceback": [
      "\u001b[0;31m---------------------------------------------------------------------------\u001b[0m",
      "\u001b[0;31mTypeError\u001b[0m                                 Traceback (most recent call last)",
      "Cell \u001b[0;32mIn[12], line 1\u001b[0m\n\u001b[0;32m----> 1\u001b[0m \u001b[43mreduce\u001b[49m\u001b[43m(\u001b[49m\u001b[38;5;28;43;01mlambda\u001b[39;49;00m\u001b[43m \u001b[49m\u001b[43mx\u001b[49m\u001b[43m,\u001b[49m\u001b[43my\u001b[49m\u001b[43m,\u001b[49m\u001b[43mz\u001b[49m\u001b[43m \u001b[49m\u001b[43m:\u001b[49m\u001b[43m \u001b[49m\u001b[43mx\u001b[49m\u001b[38;5;241;43m+\u001b[39;49m\u001b[43my\u001b[49m\u001b[38;5;241;43m+\u001b[39;49m\u001b[43mz\u001b[49m\u001b[43m,\u001b[49m\u001b[43m \u001b[49m\u001b[43ml\u001b[49m\u001b[43m)\u001b[49m\n\u001b[1;32m      3\u001b[0m \u001b[38;5;66;03m# reduce can not take three parameter\u001b[39;00m\n",
      "\u001b[0;31mTypeError\u001b[0m: <lambda>() missing 1 required positional argument: 'z'"
     ]
    }
   ],
   "source": [
    "reduce(lambda x,y,z : x+y+z, l)\n",
    "\n",
    "# reduce can not take three parameter"
   ]
  },
  {
   "cell_type": "code",
   "execution_count": 17,
   "id": "6ee4075b-4856-480c-b4c5-fee05e5f6473",
   "metadata": {},
   "outputs": [
    {
     "data": {
      "text/plain": [
       "1"
      ]
     },
     "execution_count": 17,
     "metadata": {},
     "output_type": "execute_result"
    }
   ],
   "source": [
    "reduce(lambda x,y : x+y, [1])\n",
    "\n",
    "# this is an exceptional case where reduce function will work upon and here inside of the fun if you provide iterable as sigle element then it gives that one element as result"
   ]
  },
  {
   "cell_type": "code",
   "execution_count": 28,
   "id": "56c5afc6-783e-4610-90d2-09bbc9c9a846",
   "metadata": {},
   "outputs": [
    {
     "data": {
      "text/plain": [
       "18"
      ]
     },
     "execution_count": 28,
     "metadata": {},
     "output_type": "execute_result"
    }
   ],
   "source": [
    "l = [1,2,3,3,4,5]\n",
    "\n",
    "reduce(lambda x,y : x+y, l)"
   ]
  },
  {
   "cell_type": "code",
   "execution_count": 29,
   "id": "0d5999c7-d1da-40fb-bb8a-e4924f46de33",
   "metadata": {},
   "outputs": [
    {
     "data": {
      "text/plain": [
       "360"
      ]
     },
     "execution_count": 29,
     "metadata": {},
     "output_type": "execute_result"
    }
   ],
   "source": [
    "l = [1,2,3,3,4,5]\n",
    "\n",
    "reduce(lambda x,y : x*y, l)"
   ]
  },
  {
   "cell_type": "code",
   "execution_count": 30,
   "id": "6d21d107-7c5d-4df7-a8e4-e2ab3cb24d0e",
   "metadata": {},
   "outputs": [
    {
     "data": {
      "text/plain": [
       "1"
      ]
     },
     "execution_count": 30,
     "metadata": {},
     "output_type": "execute_result"
    }
   ],
   "source": [
    "l = [1,2,3,3,4,5]\n",
    "\n",
    "reduce(lambda x,y : x**y, l)"
   ]
  },
  {
   "cell_type": "code",
   "execution_count": 32,
   "id": "984e1d9e-4676-450b-9971-a252dc000495",
   "metadata": {},
   "outputs": [
    {
     "data": {
      "text/plain": [
       "5"
      ]
     },
     "execution_count": 32,
     "metadata": {},
     "output_type": "execute_result"
    }
   ],
   "source": [
    "# to get max out of iterator :\n",
    "\n",
    "reduce(lambda x,y : x if x>y else y, l)"
   ]
  },
  {
   "cell_type": "code",
   "execution_count": 33,
   "id": "e49dbc1b-56cc-4d3f-9cac-29daf9d771d6",
   "metadata": {},
   "outputs": [
    {
     "data": {
      "text/plain": [
       "[1, 2, 3, 3, 4, 5]"
      ]
     },
     "execution_count": 33,
     "metadata": {},
     "output_type": "execute_result"
    }
   ],
   "source": [
    "l"
   ]
  },
  {
   "cell_type": "code",
   "execution_count": 36,
   "id": "b1d23121-b743-405c-a6aa-fd1d5e62a9f6",
   "metadata": {},
   "outputs": [
    {
     "data": {
      "text/plain": [
       "[2, 4]"
      ]
     },
     "execution_count": 36,
     "metadata": {},
     "output_type": "execute_result"
    }
   ],
   "source": [
    "# filter even numbers by using filter function :\n",
    "\n",
    "list(filter(lambda x : x%2 ==0, l))"
   ]
  },
  {
   "cell_type": "code",
   "execution_count": 37,
   "id": "beb5682a-d348-4ea1-b5e2-42fe5a6965d7",
   "metadata": {},
   "outputs": [
    {
     "data": {
      "text/plain": [
       "[1, 3, 3, 5]"
      ]
     },
     "execution_count": 37,
     "metadata": {},
     "output_type": "execute_result"
    }
   ],
   "source": [
    "# filter odd numbers by using filter function :\n",
    "\n",
    "list(filter(lambda x : x%2 !=0, l))"
   ]
  },
  {
   "cell_type": "code",
   "execution_count": 41,
   "id": "0afeab78-4b9f-4c14-a931-e440e8521fc7",
   "metadata": {},
   "outputs": [
    {
     "data": {
      "text/plain": [
       "[-1, -2, -11, -32]"
      ]
     },
     "execution_count": 41,
     "metadata": {},
     "output_type": "execute_result"
    }
   ],
   "source": [
    "l1 = [-1,-2, 0,3,4,5,-11,-32,16,18,9]\n",
    "\n",
    "# now we want to filter all the negative numbers\n",
    "\n",
    "list(filter(lambda x : x<0, l1))"
   ]
  },
  {
   "cell_type": "code",
   "execution_count": 42,
   "id": "1766d53b-0c85-44ba-b98b-5abbd5e84e83",
   "metadata": {},
   "outputs": [
    {
     "data": {
      "text/plain": [
       "[3, 4, 5, 16, 18, 9]"
      ]
     },
     "execution_count": 42,
     "metadata": {},
     "output_type": "execute_result"
    }
   ],
   "source": [
    "# to get all the positive numbers \n",
    "\n",
    "list(filter(lambda x : x>0, l1))"
   ]
  },
  {
   "cell_type": "code",
   "execution_count": 43,
   "id": "3a2ca057-e79c-4f3e-9590-b79ed84b59d2",
   "metadata": {},
   "outputs": [
    {
     "data": {
      "text/plain": [
       "['anand', 'data']"
      ]
     },
     "execution_count": 43,
     "metadata": {},
     "output_type": "execute_result"
    }
   ],
   "source": [
    "l2 = [\"anand\", \"shankar\", \"chaubey\", \"pwskill\", \"data\", \"science\"]\n",
    "\n",
    "# here we need to filter all those string hose length is less than 6\n",
    "\n",
    "list(filter(lambda x : len(x)<6, l2))"
   ]
  },
  {
   "cell_type": "code",
   "execution_count": null,
   "id": "73d228eb-8051-4bfc-bdce-a0051f652792",
   "metadata": {},
   "outputs": [],
   "source": []
  }
 ],
 "metadata": {
  "kernelspec": {
   "display_name": "Python 3 (ipykernel)",
   "language": "python",
   "name": "python3"
  },
  "language_info": {
   "codemirror_mode": {
    "name": "ipython",
    "version": 3
   },
   "file_extension": ".py",
   "mimetype": "text/x-python",
   "name": "python",
   "nbconvert_exporter": "python",
   "pygments_lexer": "ipython3",
   "version": "3.10.8"
  }
 },
 "nbformat": 4,
 "nbformat_minor": 5
}
