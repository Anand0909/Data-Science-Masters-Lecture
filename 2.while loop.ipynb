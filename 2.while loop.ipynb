{
 "cells": [
  {
   "cell_type": "markdown",
   "id": "c592175a-f454-420d-a3c8-716980dfbeb2",
   "metadata": {},
   "source": [
    "# while loop always checks the condition and if condition will be true then itteration will occur "
   ]
  },
  {
   "cell_type": "code",
   "execution_count": 1,
   "id": "55e6d40b-8f9a-42b4-bdda-1ab8f6a5aa06",
   "metadata": {},
   "outputs": [
    {
     "name": "stdout",
     "output_type": "stream",
     "text": [
      "1\n",
      "2\n",
      "3\n",
      "4\n",
      "5\n",
      "6\n",
      "7\n",
      "8\n",
      "9\n",
      "10\n",
      "11\n"
     ]
    }
   ],
   "source": [
    "a = 1 \n",
    "\n",
    "while a<=11:\n",
    "    print(a)\n",
    "    a = a+1"
   ]
  },
  {
   "cell_type": "code",
   "execution_count": 3,
   "id": "e02f3e51-b978-4973-aa04-7a2d34b21ea3",
   "metadata": {},
   "outputs": [
    {
     "name": "stdin",
     "output_type": "stream",
     "text": [
      "enter your summation limit 5\n"
     ]
    },
    {
     "data": {
      "text/plain": [
       "15"
      ]
     },
     "execution_count": 3,
     "metadata": {},
     "output_type": "execute_result"
    }
   ],
   "source": [
    "n= int(input(\"enter your summation limit\"))\n",
    "\n",
    "total=0\n",
    "num=0\n",
    "\n",
    "while num <=n:\n",
    "    total=total+num\n",
    "    num=num+1\n",
    "    \n",
    "total\n",
    "    "
   ]
  },
  {
   "cell_type": "code",
   "execution_count": 4,
   "id": "0240621f-6fa3-43cc-ba05-1763fd8824c5",
   "metadata": {},
   "outputs": [],
   "source": [
    "# to get the factorial "
   ]
  },
  {
   "cell_type": "code",
   "execution_count": 8,
   "id": "4b4944bd-3f64-4eab-a87d-d2c42aa51d51",
   "metadata": {},
   "outputs": [
    {
     "name": "stdin",
     "output_type": "stream",
     "text": [
      "enter your number 3\n"
     ]
    },
    {
     "data": {
      "text/plain": [
       "6"
      ]
     },
     "execution_count": 8,
     "metadata": {},
     "output_type": "execute_result"
    }
   ],
   "source": [
    "num = int(input(\"enter your number\"))\n",
    "factorial = 1\n",
    "\n",
    "while num>0:\n",
    "    factorial = factorial*num\n",
    "    num = num-1\n",
    "factorial"
   ]
  },
  {
   "cell_type": "markdown",
   "id": "a14a1c45-a458-4f55-80af-d97925334f23",
   "metadata": {},
   "source": [
    "# Fibonaci series"
   ]
  },
  {
   "cell_type": "code",
   "execution_count": 2,
   "id": "cd1052ef-128d-4928-a4f8-8714ab6905d6",
   "metadata": {},
   "outputs": [
    {
     "name": "stdin",
     "output_type": "stream",
     "text": [
      "what number of series of fibonacci is required ? 5\n"
     ]
    },
    {
     "name": "stdout",
     "output_type": "stream",
     "text": [
      "0\n",
      "1\n",
      "1\n",
      "2\n",
      "3\n"
     ]
    }
   ],
   "source": [
    "n = int(input(\"what number of series of fibonacci is required ?\"))\n",
    "\n",
    "num1=0\n",
    "num2=1\n",
    "count=0\n",
    "while count<n:\n",
    "    print(num1)\n",
    "    num3=num1+num2\n",
    "    num1=num2\n",
    "    num2=num3\n",
    "    count=count+1\n",
    "\n",
    "    "
   ]
  },
  {
   "cell_type": "code",
   "execution_count": 3,
   "id": "0286159c-2689-423a-8e85-297558d66e9c",
   "metadata": {},
   "outputs": [],
   "source": [
    "# fibonaci series : 0,1,1,2,3,5,8,13,21.....=> every next number is sum of previous two numbers "
   ]
  },
  {
   "cell_type": "code",
   "execution_count": 6,
   "id": "c6fe53fd-fb3b-4bbf-9471-0ec86986a1a9",
   "metadata": {},
   "outputs": [
    {
     "name": "stdin",
     "output_type": "stream",
     "text": [
      "what number of series of fibonacci is required ? 10\n"
     ]
    },
    {
     "name": "stdout",
     "output_type": "stream",
     "text": [
      "0\n",
      "1\n",
      "1\n",
      "2\n",
      "3\n",
      "5\n",
      "8\n",
      "13\n",
      "21\n",
      "34\n"
     ]
    }
   ],
   "source": [
    "#fibonaci series using for loop \n",
    "\n",
    "n = int(input(\"what number of series of fibonacci is required ?\"))\n",
    "\n",
    "num1=0\n",
    "num2=1\n",
    "for i in range(n):\n",
    "    print(num1)\n",
    "    num3=num1+num2\n",
    "    num1=num2\n",
    "    num2=num3\n",
    "\n",
    "# in for loop we will not need counter as it is already inbuild in for loop as i in given range"
   ]
  },
  {
   "cell_type": "markdown",
   "id": "347715b5-3e93-414b-8c89-10072d8eeef4",
   "metadata": {},
   "source": [
    "# reverse string using while loop :"
   ]
  },
  {
   "cell_type": "code",
   "execution_count": 7,
   "id": "317c5e5e-53c2-4ec2-8d41-eeb1adc52699",
   "metadata": {},
   "outputs": [
    {
     "data": {
      "text/plain": [
       "'dnanA'"
      ]
     },
     "execution_count": 7,
     "metadata": {},
     "output_type": "execute_result"
    }
   ],
   "source": [
    "a =\"Anand\"\n",
    "\n",
    "a[::-1]"
   ]
  },
  {
   "cell_type": "code",
   "execution_count": 8,
   "id": "ae0dc6dc-1f33-4f57-ab3c-e605a02c8bc6",
   "metadata": {},
   "outputs": [
    {
     "data": {
      "text/plain": [
       "5"
      ]
     },
     "execution_count": 8,
     "metadata": {},
     "output_type": "execute_result"
    }
   ],
   "source": [
    "#to reverse a string using while loop will need length and append function :\n",
    "\n",
    "word= \"Anand\"\n",
    "\n",
    "len(word)"
   ]
  },
  {
   "cell_type": "code",
   "execution_count": 9,
   "id": "eef17610-d4e7-4168-b1b1-3404a6948df1",
   "metadata": {},
   "outputs": [],
   "source": [
    "# above code is suggesting that I need to put 5 letters in reverse order "
   ]
  },
  {
   "cell_type": "code",
   "execution_count": 10,
   "id": "3de35bc2-79ab-431a-8a89-a85cc1b1ae81",
   "metadata": {},
   "outputs": [
    {
     "name": "stdin",
     "output_type": "stream",
     "text": [
      "enter your string to reverse  Anand Shankar Chaubey\n"
     ]
    },
    {
     "name": "stdout",
     "output_type": "stream",
     "text": [
      "yebuahC raknahS dnanA\n"
     ]
    }
   ],
   "source": [
    "# using while loop to reverse the given string \n",
    "\n",
    "word = input(\"enter your string to reverse \")\n",
    "\n",
    "reverse=\"\"\n",
    "length = len(word)\n",
    "\n",
    "while length > 0:\n",
    "    reverse = reverse + word[length - 1]\n",
    "    length = length - 1\n",
    "\n",
    "print(reverse)"
   ]
  },
  {
   "cell_type": "code",
   "execution_count": 1,
   "id": "af5957fb-3ef9-4bad-87ec-a28cbefcaed1",
   "metadata": {},
   "outputs": [
    {
     "name": "stdin",
     "output_type": "stream",
     "text": [
      "enter your string to reverse Anand\n"
     ]
    },
    {
     "name": "stdout",
     "output_type": "stream",
     "text": [
      "dnanA"
     ]
    }
   ],
   "source": [
    "# using for loop reverse the given string \n",
    "\n",
    "word = input(\"enter your string to reverse\")\n",
    "\n",
    "for i in range(len(word)-1,-1,-1):\n",
    "    print(word[i], end=\"\")"
   ]
  },
  {
   "cell_type": "code",
   "execution_count": 2,
   "id": "e19e96c4-6521-401a-bb40-296fd1ce1c31",
   "metadata": {},
   "outputs": [
    {
     "name": "stdin",
     "output_type": "stream",
     "text": [
      "enter the number 2\n"
     ]
    },
    {
     "name": "stdout",
     "output_type": "stream",
     "text": [
      "2 * 1 = 2\n",
      "2 * 2 = 4\n",
      "2 * 3 = 6\n",
      "2 * 4 = 8\n",
      "2 * 5 = 10\n",
      "2 * 6 = 12\n",
      "2 * 7 = 14\n",
      "2 * 8 = 16\n",
      "2 * 9 = 18\n",
      "2 * 10 = 20\n"
     ]
    }
   ],
   "source": [
    "n = int(input(\"enter the number\"))\n",
    "\n",
    "i = 1\n",
    "\n",
    "while i<=10:\n",
    "    table = n*i\n",
    "    print(n,\"*\",i,\"=\",table)\n",
    "    i = i+1"
   ]
  },
  {
   "cell_type": "code",
   "execution_count": 3,
   "id": "19fc291d-9a4b-450c-9472-a659dc0f89f8",
   "metadata": {},
   "outputs": [
    {
     "name": "stdin",
     "output_type": "stream",
     "text": [
      "enter the number 2\n"
     ]
    },
    {
     "name": "stdout",
     "output_type": "stream",
     "text": [
      "2\n",
      "4\n",
      "6\n",
      "8\n",
      "10\n",
      "12\n",
      "14\n",
      "16\n",
      "18\n",
      "20\n"
     ]
    }
   ],
   "source": [
    "n = int(input(\"enter the number\"))\n",
    "\n",
    "i = 1\n",
    "\n",
    "while i<=10:\n",
    "    print(n*i)\n",
    "    i = i+1"
   ]
  },
  {
   "cell_type": "code",
   "execution_count": 5,
   "id": "11bc211d-79cb-48af-a4dc-d0a9f18af2b7",
   "metadata": {},
   "outputs": [
    {
     "name": "stdin",
     "output_type": "stream",
     "text": [
      "enter the number 10\n"
     ]
    },
    {
     "name": "stdout",
     "output_type": "stream",
     "text": [
      "10 * 1 = 10\n",
      "10 * 2 = 20\n",
      "10 * 3 = 30\n",
      "10 * 4 = 40\n",
      "10 * 5 = 50\n",
      "10 * 6 = 60\n",
      "10 * 7 = 70\n",
      "10 * 8 = 80\n",
      "10 * 9 = 90\n",
      "10 * 10 = 100\n"
     ]
    }
   ],
   "source": [
    "# table using for loop :\n",
    "\n",
    "n = int(input(\"enter the number\"))\n",
    "for i in range(1,11):\n",
    "    print(n,\"*\",i,\"=\",n*i)"
   ]
  },
  {
   "cell_type": "markdown",
   "id": "23ec8051-6c65-4bf6-9950-1b0d00d48adc",
   "metadata": {},
   "source": [
    "# using else with while "
   ]
  },
  {
   "cell_type": "code",
   "execution_count": 6,
   "id": "710358f5-bb71-42fd-81d4-8d46359de8dd",
   "metadata": {},
   "outputs": [
    {
     "name": "stdout",
     "output_type": "stream",
     "text": [
      "1\n",
      "2\n",
      "3\n",
      "4\n",
      "This will be executed once while is executed completly\n"
     ]
    }
   ],
   "source": [
    "n = 5\n",
    "i = 1\n",
    "\n",
    "while i<n:\n",
    "    print(i)\n",
    "    i = i+1\n",
    "else:\n",
    "    print(\"This will be executed once while is executed completly\")"
   ]
  },
  {
   "cell_type": "code",
   "execution_count": 7,
   "id": "33ebcc6b-8495-4beb-aa42-3f49bde4f27d",
   "metadata": {},
   "outputs": [
    {
     "name": "stdout",
     "output_type": "stream",
     "text": [
      "1\n",
      "2\n",
      "3\n"
     ]
    }
   ],
   "source": [
    "n = 5\n",
    "i = 1\n",
    "\n",
    "while i<n:\n",
    "    print(i)\n",
    "    if i ==3:\n",
    "        break\n",
    "    i = i+1\n",
    "else:\n",
    "    print(\"This will be executed once while is executed completly\")"
   ]
  },
  {
   "cell_type": "code",
   "execution_count": null,
   "id": "9cf3eaf6-af9f-4439-9b6d-ece5b8e28b1a",
   "metadata": {},
   "outputs": [],
   "source": []
  }
 ],
 "metadata": {
  "kernelspec": {
   "display_name": "Python 3 (ipykernel)",
   "language": "python",
   "name": "python3"
  },
  "language_info": {
   "codemirror_mode": {
    "name": "ipython",
    "version": 3
   },
   "file_extension": ".py",
   "mimetype": "text/x-python",
   "name": "python",
   "nbconvert_exporter": "python",
   "pygments_lexer": "ipython3",
   "version": "3.10.8"
  }
 },
 "nbformat": 4,
 "nbformat_minor": 5
}
