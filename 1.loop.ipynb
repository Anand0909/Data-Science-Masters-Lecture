{
 "cells": [
  {
   "cell_type": "code",
   "execution_count": 2,
   "id": "16f1fa89-4aa1-4c11-80ba-ec557cc0d905",
   "metadata": {},
   "outputs": [],
   "source": [
    "l = [1,2,3,4,5]"
   ]
  },
  {
   "cell_type": "code",
   "execution_count": 3,
   "id": "f4f3bf70-3ca3-4699-bf66-70c3dc953c3b",
   "metadata": {},
   "outputs": [
    {
     "name": "stdout",
     "output_type": "stream",
     "text": [
      "1 <class 'int'>\n",
      "2 <class 'int'>\n",
      "3 <class 'int'>\n",
      "4 <class 'int'>\n",
      "5 <class 'int'>\n"
     ]
    }
   ],
   "source": [
    "for i in l:\n",
    "    print(i,type(i))"
   ]
  },
  {
   "cell_type": "code",
   "execution_count": 4,
   "id": "019dc7a1-14c7-47b7-9a4b-a88db3e0debf",
   "metadata": {},
   "outputs": [
    {
     "name": "stdout",
     "output_type": "stream",
     "text": [
      "sudh\n",
      "krish\n",
      "harry\n",
      "anand\n",
      "they are best teacher and mentor in field of datat science\n"
     ]
    }
   ],
   "source": [
    "# for else :\n",
    "\n",
    "l1 =[\"sudh\",\"krish\",\"harry\",\"anand\"]\n",
    "\n",
    "for i in l1:\n",
    "    print(i)\n",
    "else:\n",
    "    print(\"they are best teacher and mentor in field of datat science\")"
   ]
  },
  {
   "cell_type": "code",
   "execution_count": 5,
   "id": "833abce6-e858-4046-a07a-33a56c1f405e",
   "metadata": {},
   "outputs": [
    {
     "data": {
      "text/plain": [
       "['sudh', 'krish', 'harry', 'anand']"
      ]
     },
     "execution_count": 5,
     "metadata": {},
     "output_type": "execute_result"
    }
   ],
   "source": [
    "l1"
   ]
  },
  {
   "cell_type": "code",
   "execution_count": 6,
   "id": "308edb1a-e113-4981-a253-65e0e046fffe",
   "metadata": {},
   "outputs": [
    {
     "name": "stdout",
     "output_type": "stream",
     "text": [
      "sudh\n",
      "krish\n"
     ]
    }
   ],
   "source": [
    "for i in l1:\n",
    "    if i==\"harry\":\n",
    "        break\n",
    "    print(i)\n",
    "else:\n",
    "    print(\"now series is breaked\")"
   ]
  },
  {
   "cell_type": "code",
   "execution_count": 7,
   "id": "fb9ae180-77ea-4c6f-8c3a-b3892bb9afd1",
   "metadata": {},
   "outputs": [],
   "source": [
    "# in above example else block code is not executed because for loop has not fully executed "
   ]
  },
  {
   "cell_type": "code",
   "execution_count": 8,
   "id": "cc9d18b5-3675-418f-a931-bb18cc9f1081",
   "metadata": {},
   "outputs": [
    {
     "name": "stdout",
     "output_type": "stream",
     "text": [
      "harry\n",
      "now series is breaked\n"
     ]
    }
   ],
   "source": [
    "for i in l1:\n",
    "    if i==\"harry\":\n",
    "        print(i)\n",
    "else:\n",
    "    print(\"now series is breaked\")"
   ]
  },
  {
   "cell_type": "code",
   "execution_count": 9,
   "id": "df48c44e-dca3-4b06-baaa-68772020d85c",
   "metadata": {},
   "outputs": [
    {
     "name": "stdout",
     "output_type": "stream",
     "text": [
      "sudh\n",
      "krish\n",
      "anand\n",
      "now series is continued\n"
     ]
    }
   ],
   "source": [
    "for i in l1:\n",
    "    if i==\"harry\":\n",
    "        continue\n",
    "    print(i)\n",
    "else:\n",
    "    print(\"now series is continued\")"
   ]
  },
  {
   "cell_type": "code",
   "execution_count": 11,
   "id": "8a7a65e4-aa6b-46ee-82b7-906183946a37",
   "metadata": {},
   "outputs": [],
   "source": [
    "# continue funtion just skip the step for given condition => continue stop the code after that and push code to start again  code after continue didn't executed"
   ]
  },
  {
   "cell_type": "code",
   "execution_count": 15,
   "id": "043fde3d-efaf-4154-9b20-8f5bbe4530ce",
   "metadata": {},
   "outputs": [],
   "source": [
    "# range() => this is a data generator function =>Excluding upper bound"
   ]
  },
  {
   "cell_type": "code",
   "execution_count": 13,
   "id": "4abc3a03-99e1-4a45-88ef-3a5103244662",
   "metadata": {},
   "outputs": [
    {
     "data": {
      "text/plain": [
       "range(0, 5)"
      ]
     },
     "execution_count": 13,
     "metadata": {},
     "output_type": "execute_result"
    }
   ],
   "source": [
    "range(5)"
   ]
  },
  {
   "cell_type": "code",
   "execution_count": 1,
   "id": "dbbf0f0a-7562-4674-a684-ae6d92e5ab8e",
   "metadata": {},
   "outputs": [
    {
     "data": {
      "text/plain": [
       "[0, 1, 2, 3, 4]"
      ]
     },
     "execution_count": 1,
     "metadata": {},
     "output_type": "execute_result"
    }
   ],
   "source": [
    "list(range(5))"
   ]
  },
  {
   "cell_type": "code",
   "execution_count": 2,
   "id": "6db16f05-8804-4f8e-8962-a660f7b44ad6",
   "metadata": {},
   "outputs": [
    {
     "data": {
      "text/plain": [
       "[0, 2, 4, 6, 8]"
      ]
     },
     "execution_count": 2,
     "metadata": {},
     "output_type": "execute_result"
    }
   ],
   "source": [
    "list(range(0,10,2))"
   ]
  },
  {
   "cell_type": "code",
   "execution_count": 3,
   "id": "5f56f460-a21e-40f0-af15-9162121a9077",
   "metadata": {},
   "outputs": [
    {
     "data": {
      "text/plain": [
       "[-10, -9, -8, -7, -6, -5, -4, -3, -2, -1]"
      ]
     },
     "execution_count": 3,
     "metadata": {},
     "output_type": "execute_result"
    }
   ],
   "source": [
    "#negative data generation \n",
    "\n",
    "list(range(-10,0,1))"
   ]
  },
  {
   "cell_type": "code",
   "execution_count": 7,
   "id": "2d566e01-3827-42d8-8b37-d56af0f83ae3",
   "metadata": {},
   "outputs": [
    {
     "data": {
      "text/plain": [
       "4"
      ]
     },
     "execution_count": 7,
     "metadata": {},
     "output_type": "execute_result"
    }
   ],
   "source": [
    "# to pull data from list in reverse order : \n",
    "\n",
    "l1 =[\"sudh\",\"krish\",\"harry\",\"anand\"]\n",
    "\n",
    "# to get the length of list\n",
    "len(l1)\n",
    "\n"
   ]
  },
  {
   "cell_type": "code",
   "execution_count": 9,
   "id": "e3406986-2225-42f8-bf8d-8f30dbc10df5",
   "metadata": {},
   "outputs": [
    {
     "data": {
      "text/plain": [
       "[0, 1, 2, 3]"
      ]
     },
     "execution_count": 9,
     "metadata": {},
     "output_type": "execute_result"
    }
   ],
   "source": [
    "#to create list of range of length for list l1\n",
    "list(range(len(l1)))\n"
   ]
  },
  {
   "cell_type": "code",
   "execution_count": 11,
   "id": "5f9a6d09-177d-4f9a-b997-b9d4b5088d48",
   "metadata": {},
   "outputs": [
    {
     "name": "stdout",
     "output_type": "stream",
     "text": [
      "sudh\n",
      "krish\n",
      "harry\n",
      "anand\n"
     ]
    }
   ],
   "source": [
    "\n",
    "#to pull element from list l1 using range and len function in normal order \n",
    "for i in range(len(l1)):\n",
    "    print(l1[i])\n",
    "    \n"
   ]
  },
  {
   "cell_type": "code",
   "execution_count": 23,
   "id": "ab0a4c63-01a3-4f2d-ac77-036d70cc659a",
   "metadata": {},
   "outputs": [
    {
     "name": "stdout",
     "output_type": "stream",
     "text": [
      "anand\n",
      "harry\n",
      "krish\n",
      "sudh\n"
     ]
    }
   ],
   "source": [
    "\n",
    "#3 to pull element from list l1 in reverse order => we will have to reverse the range \n",
    "\n",
    "list(range(len(l1)-1,-1,-1))\n",
    "\n",
    "\n",
    "for i in range(len(l1)-1,-1,-1):\n",
    "    print(l1[i])"
   ]
  },
  {
   "cell_type": "code",
   "execution_count": 24,
   "id": "aa18424a-b7c3-4414-bfff-4d73f3fcb509",
   "metadata": {},
   "outputs": [],
   "source": [
    "l2 = [22,33,4,4,56,7,7,8,8,90]"
   ]
  },
  {
   "cell_type": "code",
   "execution_count": 25,
   "id": "5ab90410-7581-4f27-a671-905dc48cfeea",
   "metadata": {},
   "outputs": [
    {
     "data": {
      "text/plain": [
       "[22, 33, 4, 4, 56, 7, 7, 8, 8, 90]"
      ]
     },
     "execution_count": 25,
     "metadata": {},
     "output_type": "execute_result"
    }
   ],
   "source": [
    "l2"
   ]
  },
  {
   "cell_type": "code",
   "execution_count": 26,
   "id": "065d6bbb-fb56-4375-b0b2-9745fc7aeea8",
   "metadata": {},
   "outputs": [
    {
     "name": "stdout",
     "output_type": "stream",
     "text": [
      "22\n",
      "4\n",
      "56\n",
      "7\n",
      "8\n"
     ]
    }
   ],
   "source": [
    "# to pull element from even index :\n",
    "\n",
    "for i in range(0,len(l2),2):\n",
    "    print(l2[i])"
   ]
  },
  {
   "cell_type": "code",
   "execution_count": 27,
   "id": "f589660f-7b4a-4144-8fb2-d7a037f49f75",
   "metadata": {},
   "outputs": [
    {
     "name": "stdout",
     "output_type": "stream",
     "text": [
      "33\n",
      "4\n",
      "7\n",
      "8\n",
      "90\n"
     ]
    }
   ],
   "source": [
    "# to pull element from odd index :\n",
    "\n",
    "for i in range(1,len(l2),2):\n",
    "    print(l2[i])"
   ]
  },
  {
   "cell_type": "code",
   "execution_count": 28,
   "id": "accb6b1a-b4dd-4a64-a68c-1d49df26a47b",
   "metadata": {},
   "outputs": [
    {
     "data": {
      "text/plain": [
       "4321"
      ]
     },
     "execution_count": 28,
     "metadata": {},
     "output_type": "execute_result"
    }
   ],
   "source": [
    "# to sum all the element in given list :\n",
    "\n",
    "l = [1,2,3,4,55,66,77,88,990,1012,2023]\n",
    "\n",
    "sum(l)"
   ]
  },
  {
   "cell_type": "code",
   "execution_count": 30,
   "id": "8e61ee16-74ee-4992-bf10-559d8f61fb66",
   "metadata": {},
   "outputs": [
    {
     "data": {
      "text/plain": [
       "4321"
      ]
     },
     "execution_count": 30,
     "metadata": {},
     "output_type": "execute_result"
    }
   ],
   "source": [
    "# to calculate sum of list/tuple element using for loop :\n",
    "\n",
    "\n",
    "result = 0\n",
    "\n",
    "for i in l:\n",
    "    result = result +i\n",
    "    \n",
    "result"
   ]
  },
  {
   "cell_type": "code",
   "execution_count": 32,
   "id": "ccfc1143-ea20-4060-b817-d65d8e144444",
   "metadata": {},
   "outputs": [
    {
     "name": "stdout",
     "output_type": "stream",
     "text": [
      "Anand Shankar Chaubey"
     ]
    }
   ],
   "source": [
    "s1 = \"Anand Shankar Chaubey\"\n",
    "\n",
    "for i in s1:\n",
    "    print(i, end=\"\")"
   ]
  },
  {
   "cell_type": "code",
   "execution_count": 33,
   "id": "a7401505-6dd1-46a2-a3e8-489a482ebc3d",
   "metadata": {},
   "outputs": [
    {
     "name": "stdout",
     "output_type": "stream",
     "text": [
      "A\n",
      "n\n",
      "a\n",
      "n\n",
      "d\n",
      " \n",
      "S\n",
      "h\n",
      "a\n",
      "n\n",
      "k\n",
      "a\n",
      "r\n",
      " \n",
      "C\n",
      "h\n",
      "a\n",
      "u\n",
      "b\n",
      "e\n",
      "y\n"
     ]
    }
   ],
   "source": [
    "s1 = \"Anand Shankar Chaubey\"\n",
    "\n",
    "for i in s1:\n",
    "    print(i)"
   ]
  },
  {
   "cell_type": "code",
   "execution_count": null,
   "id": "98f9d565-e7fd-4a32-a0a9-55295f529f41",
   "metadata": {},
   "outputs": [],
   "source": []
  }
 ],
 "metadata": {
  "kernelspec": {
   "display_name": "Python 3 (ipykernel)",
   "language": "python",
   "name": "python3"
  },
  "language_info": {
   "codemirror_mode": {
    "name": "ipython",
    "version": 3
   },
   "file_extension": ".py",
   "mimetype": "text/x-python",
   "name": "python",
   "nbconvert_exporter": "python",
   "pygments_lexer": "ipython3",
   "version": "3.10.8"
  }
 },
 "nbformat": 4,
 "nbformat_minor": 5
}
